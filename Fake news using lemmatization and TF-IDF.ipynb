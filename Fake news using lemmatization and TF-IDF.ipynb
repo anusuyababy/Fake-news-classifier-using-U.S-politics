{
  "nbformat": 4,
  "nbformat_minor": 0,
  "metadata": {
    "colab": {
      "name": "Fake_news.ipynb",
      "provenance": []
    },
    "kernelspec": {
      "name": "python3",
      "display_name": "Python 3"
    },
    "language_info": {
      "name": "python"
    },
    "accelerator": "GPU"
  },
  "cells": [
    {
      "cell_type": "markdown",
      "metadata": {
        "id": "uY_2S6wPFz96"
      },
      "source": [
        "# FAKE NEWS CLASSIFIER"
      ]
    },
    {
      "cell_type": "code",
      "metadata": {
        "colab": {
          "base_uri": "https://localhost:8080/"
        },
        "id": "pRXJe0ZRHCHb",
        "outputId": "5b0a9c81-c8ed-4d89-f011-f98924375658"
      },
      "source": [
        "from google.colab import drive\n",
        "drive.mount('/content/drive')"
      ],
      "execution_count": 1,
      "outputs": [
        {
          "output_type": "stream",
          "name": "stdout",
          "text": [
            "Mounted at /content/drive\n"
          ]
        }
      ]
    },
    {
      "cell_type": "code",
      "metadata": {
        "colab": {
          "base_uri": "https://localhost:8080/"
        },
        "id": "D7e6OtyngLr7",
        "outputId": "3fc6ba6f-692f-44ec-c151-40c61729c3e9"
      },
      "source": [
        "#importing libraries\n",
        "import numpy as np\n",
        "import pandas as pd\n",
        "import nltk\n",
        "import matplotlib.pyplot as plt\n",
        "nltk.download('stopwords')\n",
        "nltk.download('wordnet')\n",
        "import re\n",
        "pd.set_option('max_colwidth', 800)"
      ],
      "execution_count": 2,
      "outputs": [
        {
          "output_type": "stream",
          "name": "stdout",
          "text": [
            "[nltk_data] Downloading package stopwords to /root/nltk_data...\n",
            "[nltk_data]   Unzipping corpora/stopwords.zip.\n",
            "[nltk_data] Downloading package wordnet to /root/nltk_data...\n",
            "[nltk_data]   Unzipping corpora/wordnet.zip.\n"
          ]
        }
      ]
    },
    {
      "cell_type": "code",
      "metadata": {
        "colab": {
          "base_uri": "https://localhost:8080/",
          "height": 901
        },
        "id": "vhF4sRYpjCJl",
        "outputId": "94b12cca-2430-4fba-94f4-1d63a4750a20"
      },
      "source": [
        "#loading dataset\n",
        "d1=pd.read_csv('/content/drive/MyDrive/Fake.csv')\n",
        "d1.head()"
      ],
      "execution_count": 3,
      "outputs": [
        {
          "output_type": "execute_result",
          "data": {
            "text/html": [
              "<div>\n",
              "<style scoped>\n",
              "    .dataframe tbody tr th:only-of-type {\n",
              "        vertical-align: middle;\n",
              "    }\n",
              "\n",
              "    .dataframe tbody tr th {\n",
              "        vertical-align: top;\n",
              "    }\n",
              "\n",
              "    .dataframe thead th {\n",
              "        text-align: right;\n",
              "    }\n",
              "</style>\n",
              "<table border=\"1\" class=\"dataframe\">\n",
              "  <thead>\n",
              "    <tr style=\"text-align: right;\">\n",
              "      <th></th>\n",
              "      <th>title</th>\n",
              "      <th>text</th>\n",
              "      <th>subject</th>\n",
              "      <th>date</th>\n",
              "    </tr>\n",
              "  </thead>\n",
              "  <tbody>\n",
              "    <tr>\n",
              "      <th>0</th>\n",
              "      <td>Donald Trump Sends Out Embarrassing New Year’s Eve Message; This is Disturbing</td>\n",
              "      <td>Donald Trump just couldn t wish all Americans a Happy New Year and leave it at that. Instead, he had to give a shout out to his enemies, haters and  the very dishonest fake news media.  The former reality show star had just one job to do and he couldn t do it. As our Country rapidly grows stronger and smarter, I want to wish all of my friends, supporters, enemies, haters, and even the very dishonest Fake News Media, a Happy and Healthy New Year,  President Angry Pants tweeted.  2018 will be a great year for America! As our Country rapidly grows stronger and smarter, I want to wish all of my friends, supporters, enemies, haters, and even the very dishonest Fake News Media, a Happy and Healthy New Year. 2018 will be a great year for America!  Donald J. Trump (@realDonaldTrump) December 3...</td>\n",
              "      <td>News</td>\n",
              "      <td>December 31, 2017</td>\n",
              "    </tr>\n",
              "    <tr>\n",
              "      <th>1</th>\n",
              "      <td>Drunk Bragging Trump Staffer Started Russian Collusion Investigation</td>\n",
              "      <td>House Intelligence Committee Chairman Devin Nunes is going to have a bad day. He s been under the assumption, like many of us, that the Christopher Steele-dossier was what prompted the Russia investigation so he s been lashing out at the Department of Justice and the FBI in order to protect Trump. As it happens, the dossier is not what started the investigation, according to documents obtained by the New York Times.Former Trump campaign adviser George Papadopoulos was drunk in a wine bar when he revealed knowledge of Russian opposition research on Hillary Clinton.On top of that, Papadopoulos wasn t just a covfefe boy for Trump, as his administration has alleged. He had a much larger role, but none so damning as being a drunken fool in a wine bar. Coffee boys  don t help to arrange a Ne...</td>\n",
              "      <td>News</td>\n",
              "      <td>December 31, 2017</td>\n",
              "    </tr>\n",
              "    <tr>\n",
              "      <th>2</th>\n",
              "      <td>Sheriff David Clarke Becomes An Internet Joke For Threatening To Poke People ‘In The Eye’</td>\n",
              "      <td>On Friday, it was revealed that former Milwaukee Sheriff David Clarke, who was being considered for Homeland Security Secretary in Donald Trump s administration, has an email scandal of his own.In January, there was a brief run-in on a plane between Clarke and fellow passenger Dan Black, who he later had detained by the police for no reason whatsoever, except that maybe his feelings were hurt. Clarke messaged the police to stop Black after he deplaned, and now, a search warrant has been executed by the FBI to see the exchanges.Clarke is calling it fake news even though copies of the search warrant are on the Internet. I am UNINTIMIDATED by lib media attempts to smear and discredit me with their FAKE NEWS reports designed to silence me,  the former sheriff tweeted.  I will continue to p...</td>\n",
              "      <td>News</td>\n",
              "      <td>December 30, 2017</td>\n",
              "    </tr>\n",
              "    <tr>\n",
              "      <th>3</th>\n",
              "      <td>Trump Is So Obsessed He Even Has Obama’s Name Coded Into His Website (IMAGES)</td>\n",
              "      <td>On Christmas day, Donald Trump announced that he would  be back to work  the following day, but he is golfing for the fourth day in a row. The former reality show star blasted former President Barack Obama for playing golf and now Trump is on track to outpace the number of golf games his predecessor played.Updated my tracker of Trump s appearances at Trump properties.71 rounds of golf including today s. At this pace, he ll pass Obama s first-term total by July 24 next year. https://t.co/Fg7VacxRtJ pic.twitter.com/5gEMcjQTbH  Philip Bump (@pbump) December 29, 2017 That makes what a Washington Post reporter discovered on Trump s website really weird, but everything about this administration is bizarre AF. The coding contained a reference to Obama and golf:  Unlike Obama, we are working t...</td>\n",
              "      <td>News</td>\n",
              "      <td>December 29, 2017</td>\n",
              "    </tr>\n",
              "    <tr>\n",
              "      <th>4</th>\n",
              "      <td>Pope Francis Just Called Out Donald Trump During His Christmas Speech</td>\n",
              "      <td>Pope Francis used his annual Christmas Day message to rebuke Donald Trump without even mentioning his name. The Pope delivered his message just days after members of the United Nations condemned Trump s move to recognize Jerusalem as the capital of Israel. The Pontiff prayed on Monday for the  peaceful coexistence of two states within mutually agreed and internationally recognized borders. We see Jesus in the children of the Middle East who continue to suffer because of growing tensions between Israelis and Palestinians,  Francis said.  On this festive day, let us ask the Lord for peace for Jerusalem and for all the Holy Land. Let us pray that the will to resume dialogue may prevail between the parties and that a negotiated solution can finally be reached. The Pope went on to plead for...</td>\n",
              "      <td>News</td>\n",
              "      <td>December 25, 2017</td>\n",
              "    </tr>\n",
              "  </tbody>\n",
              "</table>\n",
              "</div>"
            ],
            "text/plain": [
              "                                                                                        title  ...               date\n",
              "0              Donald Trump Sends Out Embarrassing New Year’s Eve Message; This is Disturbing  ...  December 31, 2017\n",
              "1                        Drunk Bragging Trump Staffer Started Russian Collusion Investigation  ...  December 31, 2017\n",
              "2   Sheriff David Clarke Becomes An Internet Joke For Threatening To Poke People ‘In The Eye’  ...  December 30, 2017\n",
              "3               Trump Is So Obsessed He Even Has Obama’s Name Coded Into His Website (IMAGES)  ...  December 29, 2017\n",
              "4                       Pope Francis Just Called Out Donald Trump During His Christmas Speech  ...  December 25, 2017\n",
              "\n",
              "[5 rows x 4 columns]"
            ]
          },
          "metadata": {},
          "execution_count": 3
        }
      ]
    },
    {
      "cell_type": "code",
      "metadata": {
        "colab": {
          "base_uri": "https://localhost:8080/",
          "height": 901
        },
        "id": "jCNjV6atjCNz",
        "outputId": "eac639ce-44c4-42a3-faa3-b217f33944ef"
      },
      "source": [
        "d2=pd.read_csv('/content/drive/MyDrive/True.csv')\n",
        "d2.head()"
      ],
      "execution_count": 4,
      "outputs": [
        {
          "output_type": "execute_result",
          "data": {
            "text/html": [
              "<div>\n",
              "<style scoped>\n",
              "    .dataframe tbody tr th:only-of-type {\n",
              "        vertical-align: middle;\n",
              "    }\n",
              "\n",
              "    .dataframe tbody tr th {\n",
              "        vertical-align: top;\n",
              "    }\n",
              "\n",
              "    .dataframe thead th {\n",
              "        text-align: right;\n",
              "    }\n",
              "</style>\n",
              "<table border=\"1\" class=\"dataframe\">\n",
              "  <thead>\n",
              "    <tr style=\"text-align: right;\">\n",
              "      <th></th>\n",
              "      <th>title</th>\n",
              "      <th>text</th>\n",
              "      <th>subject</th>\n",
              "      <th>date</th>\n",
              "    </tr>\n",
              "  </thead>\n",
              "  <tbody>\n",
              "    <tr>\n",
              "      <th>0</th>\n",
              "      <td>As U.S. budget fight looms, Republicans flip their fiscal script</td>\n",
              "      <td>WASHINGTON (Reuters) - The head of a conservative Republican faction in the U.S. Congress, who voted this month for a huge expansion of the national debt to pay for tax cuts, called himself a “fiscal conservative” on Sunday and urged budget restraint in 2018. In keeping with a sharp pivot under way among Republicans, U.S. Representative Mark Meadows, speaking on CBS’ “Face the Nation,” drew a hard line on federal spending, which lawmakers are bracing to do battle over in January. When they return from the holidays on Wednesday, lawmakers will begin trying to pass a federal budget in a fight likely to be linked to other issues, such as immigration policy, even as the November congressional election campaigns approach in which Republicans will seek to keep control of Congress. President ...</td>\n",
              "      <td>politicsNews</td>\n",
              "      <td>December 31, 2017</td>\n",
              "    </tr>\n",
              "    <tr>\n",
              "      <th>1</th>\n",
              "      <td>U.S. military to accept transgender recruits on Monday: Pentagon</td>\n",
              "      <td>WASHINGTON (Reuters) - Transgender people will be allowed for the first time to enlist in the U.S. military starting on Monday as ordered by federal courts, the Pentagon said on Friday, after President Donald Trump’s administration decided not to appeal rulings that blocked his transgender ban. Two federal appeals courts, one in Washington and one in Virginia, last week rejected the administration’s request to put on hold orders by lower court judges requiring the military to begin accepting transgender recruits on Jan. 1. A Justice Department official said the administration will not challenge those rulings. “The Department of Defense has announced that it will be releasing an independent study of these issues in the coming weeks. So rather than litigate this interim appeal before tha...</td>\n",
              "      <td>politicsNews</td>\n",
              "      <td>December 29, 2017</td>\n",
              "    </tr>\n",
              "    <tr>\n",
              "      <th>2</th>\n",
              "      <td>Senior U.S. Republican senator: 'Let Mr. Mueller do his job'</td>\n",
              "      <td>WASHINGTON (Reuters) - The special counsel investigation of links between Russia and President Trump’s 2016 election campaign should continue without interference in 2018, despite calls from some Trump administration allies and Republican lawmakers to shut it down, a prominent Republican senator said on Sunday. Lindsey Graham, who serves on the Senate armed forces and judiciary committees, said Department of Justice Special Counsel Robert Mueller needs to carry on with his Russia investigation without political interference. “This investigation will go forward. It will be an investigation conducted without political influence,” Graham said on CBS’s Face the Nation news program. “And we all need to let Mr. Mueller do his job. I think he’s the right guy at the right time.”  The question ...</td>\n",
              "      <td>politicsNews</td>\n",
              "      <td>December 31, 2017</td>\n",
              "    </tr>\n",
              "    <tr>\n",
              "      <th>3</th>\n",
              "      <td>FBI Russia probe helped by Australian diplomat tip-off: NYT</td>\n",
              "      <td>WASHINGTON (Reuters) - Trump campaign adviser George Papadopoulos told an Australian diplomat in May 2016 that Russia had political dirt on Democratic presidential candidate Hillary Clinton, the New York Times reported on Saturday. The conversation between Papadopoulos and the diplomat, Alexander Downer, in London was a driving factor behind the FBI’s decision to open a counter-intelligence investigation of Moscow’s contacts with the Trump campaign, the Times reported. Two months after the meeting, Australian officials passed the information that came from Papadopoulos to their American counterparts when leaked Democratic emails began appearing online, according to the newspaper, which cited four current and former U.S. and foreign officials. Besides the information from the Australian...</td>\n",
              "      <td>politicsNews</td>\n",
              "      <td>December 30, 2017</td>\n",
              "    </tr>\n",
              "    <tr>\n",
              "      <th>4</th>\n",
              "      <td>Trump wants Postal Service to charge 'much more' for Amazon shipments</td>\n",
              "      <td>SEATTLE/WASHINGTON (Reuters) - President Donald Trump called on the U.S. Postal Service on Friday to charge “much more” to ship packages for Amazon (AMZN.O), picking another fight with an online retail giant he has criticized in the past.     “Why is the United States Post Office, which is losing many billions of dollars a year, while charging Amazon and others so little to deliver their packages, making Amazon richer and the Post Office dumber and poorer? Should be charging MUCH MORE!” Trump wrote on Twitter.  The president’s tweet drew fresh attention to the fragile finances of the Postal Service at a time when tens of millions of parcels have just been shipped all over the country for the holiday season.  The U.S. Postal Service, which runs at a big loss, is an independent agency wi...</td>\n",
              "      <td>politicsNews</td>\n",
              "      <td>December 29, 2017</td>\n",
              "    </tr>\n",
              "  </tbody>\n",
              "</table>\n",
              "</div>"
            ],
            "text/plain": [
              "                                                                   title  ...                date\n",
              "0       As U.S. budget fight looms, Republicans flip their fiscal script  ...  December 31, 2017 \n",
              "1       U.S. military to accept transgender recruits on Monday: Pentagon  ...  December 29, 2017 \n",
              "2           Senior U.S. Republican senator: 'Let Mr. Mueller do his job'  ...  December 31, 2017 \n",
              "3            FBI Russia probe helped by Australian diplomat tip-off: NYT  ...  December 30, 2017 \n",
              "4  Trump wants Postal Service to charge 'much more' for Amazon shipments  ...  December 29, 2017 \n",
              "\n",
              "[5 rows x 4 columns]"
            ]
          },
          "metadata": {},
          "execution_count": 4
        }
      ]
    },
    {
      "cell_type": "code",
      "metadata": {
        "id": "wsqP6F6CjCRY"
      },
      "source": [
        "d1['label'] = 0\n",
        "d2['label'] = 1"
      ],
      "execution_count": 5,
      "outputs": []
    },
    {
      "cell_type": "markdown",
      "metadata": {
        "id": "GWr3noQgHHY_"
      },
      "source": [
        "### DATA CLEANING AND EDA"
      ]
    },
    {
      "cell_type": "markdown",
      "metadata": {
        "id": "Cy4EZ6_KHaso"
      },
      "source": [
        "Noticed some words in fake dataset that are present in the true dataset. [BOILER ROOM:, WARNING:, FLASHBACK:, VIDEO:, WATCH!, BREAKING:, WATCH:, REPORT:, WATCH AND LAUGH:, BREAKING NEWS:, UPDATED VIDEO:, UPDATE:, SHOCKING:, POLL:, Factbox:]. These words are present in the start. e.g WATCH: Paul Ryan Just Told Us. So these words do not use for prediction (whether the news is fake or not). So making this with the empty string."
      ]
    },
    {
      "cell_type": "code",
      "metadata": {
        "id": "rx0Cv0IEHQCy"
      },
      "source": [
        "d1['title'] = d1['title'].str.replace('BOILER ROOM:', '')\n",
        "d1['title'] = d1['title'].str.replace('WARNING:', '')\n",
        "d1['title'] = d1['title'].str.replace('FLASHBACK:', '')\n",
        "d1['title'] = d1['title'].str.replace('VIDEO:', '')\n",
        "d1['title'] = d1['title'].str.replace('BREAKING:', '')\n",
        "d1['title'] = d1['title'].str.replace('BREAKING NEWS:', '')\n",
        "d1['title'] = d1['title'].str.replace('WATCH:', '')\n",
        "d1['title'] = d1['title'].str.replace('REPORT: ', '')\n",
        "d1['title'] = d1['title'].str.replace('WATCH AND LAUGH:', '')\n",
        "d1['title'] = d1['title'].str.replace('UPDATE:', '')\n",
        "d1['title'] = d1['title'].str.replace('SHOCKING:', '')\n",
        "d1['title'] = d1['title'].str.replace('POLL:', '')\n",
        "d1['title'] = d1['title'].str.replace('WATCH!', '')\n",
        "d1['title'] = d1['title'].str.replace('UPDATED VIDEO:', '')\n",
        "d1['title'] = d1['title'].str.replace('Factbox:', '')"
      ],
      "execution_count": 6,
      "outputs": []
    },
    {
      "cell_type": "code",
      "metadata": {
        "colab": {
          "base_uri": "https://localhost:8080/",
          "height": 988
        },
        "id": "QU5woTBkHQG4",
        "outputId": "02d23cf4-a1b3-4f3c-d59a-81d347a2f7e4"
      },
      "source": [
        "d1.head()"
      ],
      "execution_count": 7,
      "outputs": [
        {
          "output_type": "execute_result",
          "data": {
            "text/html": [
              "<div>\n",
              "<style scoped>\n",
              "    .dataframe tbody tr th:only-of-type {\n",
              "        vertical-align: middle;\n",
              "    }\n",
              "\n",
              "    .dataframe tbody tr th {\n",
              "        vertical-align: top;\n",
              "    }\n",
              "\n",
              "    .dataframe thead th {\n",
              "        text-align: right;\n",
              "    }\n",
              "</style>\n",
              "<table border=\"1\" class=\"dataframe\">\n",
              "  <thead>\n",
              "    <tr style=\"text-align: right;\">\n",
              "      <th></th>\n",
              "      <th>title</th>\n",
              "      <th>text</th>\n",
              "      <th>subject</th>\n",
              "      <th>date</th>\n",
              "      <th>label</th>\n",
              "    </tr>\n",
              "  </thead>\n",
              "  <tbody>\n",
              "    <tr>\n",
              "      <th>0</th>\n",
              "      <td>Donald Trump Sends Out Embarrassing New Year’s Eve Message; This is Disturbing</td>\n",
              "      <td>Donald Trump just couldn t wish all Americans a Happy New Year and leave it at that. Instead, he had to give a shout out to his enemies, haters and  the very dishonest fake news media.  The former reality show star had just one job to do and he couldn t do it. As our Country rapidly grows stronger and smarter, I want to wish all of my friends, supporters, enemies, haters, and even the very dishonest Fake News Media, a Happy and Healthy New Year,  President Angry Pants tweeted.  2018 will be a great year for America! As our Country rapidly grows stronger and smarter, I want to wish all of my friends, supporters, enemies, haters, and even the very dishonest Fake News Media, a Happy and Healthy New Year. 2018 will be a great year for America!  Donald J. Trump (@realDonaldTrump) December 3...</td>\n",
              "      <td>News</td>\n",
              "      <td>December 31, 2017</td>\n",
              "      <td>0</td>\n",
              "    </tr>\n",
              "    <tr>\n",
              "      <th>1</th>\n",
              "      <td>Drunk Bragging Trump Staffer Started Russian Collusion Investigation</td>\n",
              "      <td>House Intelligence Committee Chairman Devin Nunes is going to have a bad day. He s been under the assumption, like many of us, that the Christopher Steele-dossier was what prompted the Russia investigation so he s been lashing out at the Department of Justice and the FBI in order to protect Trump. As it happens, the dossier is not what started the investigation, according to documents obtained by the New York Times.Former Trump campaign adviser George Papadopoulos was drunk in a wine bar when he revealed knowledge of Russian opposition research on Hillary Clinton.On top of that, Papadopoulos wasn t just a covfefe boy for Trump, as his administration has alleged. He had a much larger role, but none so damning as being a drunken fool in a wine bar. Coffee boys  don t help to arrange a Ne...</td>\n",
              "      <td>News</td>\n",
              "      <td>December 31, 2017</td>\n",
              "      <td>0</td>\n",
              "    </tr>\n",
              "    <tr>\n",
              "      <th>2</th>\n",
              "      <td>Sheriff David Clarke Becomes An Internet Joke For Threatening To Poke People ‘In The Eye’</td>\n",
              "      <td>On Friday, it was revealed that former Milwaukee Sheriff David Clarke, who was being considered for Homeland Security Secretary in Donald Trump s administration, has an email scandal of his own.In January, there was a brief run-in on a plane between Clarke and fellow passenger Dan Black, who he later had detained by the police for no reason whatsoever, except that maybe his feelings were hurt. Clarke messaged the police to stop Black after he deplaned, and now, a search warrant has been executed by the FBI to see the exchanges.Clarke is calling it fake news even though copies of the search warrant are on the Internet. I am UNINTIMIDATED by lib media attempts to smear and discredit me with their FAKE NEWS reports designed to silence me,  the former sheriff tweeted.  I will continue to p...</td>\n",
              "      <td>News</td>\n",
              "      <td>December 30, 2017</td>\n",
              "      <td>0</td>\n",
              "    </tr>\n",
              "    <tr>\n",
              "      <th>3</th>\n",
              "      <td>Trump Is So Obsessed He Even Has Obama’s Name Coded Into His Website (IMAGES)</td>\n",
              "      <td>On Christmas day, Donald Trump announced that he would  be back to work  the following day, but he is golfing for the fourth day in a row. The former reality show star blasted former President Barack Obama for playing golf and now Trump is on track to outpace the number of golf games his predecessor played.Updated my tracker of Trump s appearances at Trump properties.71 rounds of golf including today s. At this pace, he ll pass Obama s first-term total by July 24 next year. https://t.co/Fg7VacxRtJ pic.twitter.com/5gEMcjQTbH  Philip Bump (@pbump) December 29, 2017 That makes what a Washington Post reporter discovered on Trump s website really weird, but everything about this administration is bizarre AF. The coding contained a reference to Obama and golf:  Unlike Obama, we are working t...</td>\n",
              "      <td>News</td>\n",
              "      <td>December 29, 2017</td>\n",
              "      <td>0</td>\n",
              "    </tr>\n",
              "    <tr>\n",
              "      <th>4</th>\n",
              "      <td>Pope Francis Just Called Out Donald Trump During His Christmas Speech</td>\n",
              "      <td>Pope Francis used his annual Christmas Day message to rebuke Donald Trump without even mentioning his name. The Pope delivered his message just days after members of the United Nations condemned Trump s move to recognize Jerusalem as the capital of Israel. The Pontiff prayed on Monday for the  peaceful coexistence of two states within mutually agreed and internationally recognized borders. We see Jesus in the children of the Middle East who continue to suffer because of growing tensions between Israelis and Palestinians,  Francis said.  On this festive day, let us ask the Lord for peace for Jerusalem and for all the Holy Land. Let us pray that the will to resume dialogue may prevail between the parties and that a negotiated solution can finally be reached. The Pope went on to plead for...</td>\n",
              "      <td>News</td>\n",
              "      <td>December 25, 2017</td>\n",
              "      <td>0</td>\n",
              "    </tr>\n",
              "  </tbody>\n",
              "</table>\n",
              "</div>"
            ],
            "text/plain": [
              "                                                                                        title  ... label\n",
              "0              Donald Trump Sends Out Embarrassing New Year’s Eve Message; This is Disturbing  ...     0\n",
              "1                        Drunk Bragging Trump Staffer Started Russian Collusion Investigation  ...     0\n",
              "2   Sheriff David Clarke Becomes An Internet Joke For Threatening To Poke People ‘In The Eye’  ...     0\n",
              "3               Trump Is So Obsessed He Even Has Obama’s Name Coded Into His Website (IMAGES)  ...     0\n",
              "4                       Pope Francis Just Called Out Donald Trump During His Christmas Speech  ...     0\n",
              "\n",
              "[5 rows x 5 columns]"
            ]
          },
          "metadata": {},
          "execution_count": 7
        }
      ]
    },
    {
      "cell_type": "code",
      "metadata": {
        "id": "S7DU3MDaHQK_"
      },
      "source": [
        "# 'factbox:'. so removing them\n",
        "d2['title'] = d2['title'].str.replace('Factbox:', '')"
      ],
      "execution_count": 8,
      "outputs": []
    },
    {
      "cell_type": "markdown",
      "metadata": {
        "id": "qt5RvE5sHp6J"
      },
      "source": [
        "Difference in Text\n",
        "\n",
        "Real news seems to have source of publication which is not present in fake news set\n",
        "\n",
        "Looking at the data:\n",
        "\n",
        "1. most of text contains reuters information such as \"WASHINGTON (Reuters)\".\n",
        "2. Some text are tweets from Twitter.\n",
        "3. Few text do not contain any publication info.\n"
      ]
    },
    {
      "cell_type": "code",
      "metadata": {
        "id": "Rt4ZuK5zHQOZ"
      },
      "source": [
        "#First Creating list of index that do not have publication part\n",
        "unknown_publishers = []\n",
        "for index,row in enumerate(d2.text.values):\n",
        "    try:\n",
        "        record = row.split(\" -\", maxsplit=1)\n",
        "        #if no text part is present, following will give error\n",
        "        record[1]\n",
        "        #if len of piblication part is greater than 260\n",
        "        #following will give error, ensuring no text having \"-\" in between is counted\n",
        "        assert(len(record[0]) < 260)\n",
        "    except:\n",
        "        unknown_publishers.append(index)"
      ],
      "execution_count": 9,
      "outputs": []
    },
    {
      "cell_type": "code",
      "metadata": {
        "colab": {
          "base_uri": "https://localhost:8080/"
        },
        "id": "powjeKA8HwNV",
        "outputId": "ac0e0adf-a9a1-42b0-e660-7633f846da7f"
      },
      "source": [
        "#Thus we have list of indices where publisher is not mentioned\n",
        "#lets check\n",
        "d2.iloc[unknown_publishers].text\n",
        "#true, they do not have text like \"WASHINGTON (Reuters)\""
      ],
      "execution_count": 10,
      "outputs": [
        {
          "output_type": "execute_result",
          "data": {
            "text/plain": [
              "3488     The White House on Wednesday disclosed a group of former lobbyists working in President Donald Trump’s administration who have been issued ethics waivers, following a request from the U.S. government’s ethics agency. The list of at least 11 waivers include White House adviser Kellyanne Conway and Trump's Chief of Staff Reince Priebus, according to a chart issued on the White House website. (bit.ly/1LPKWx8) Conway is permitted to “participate in communications and meetings involving former clients which are political, advocacy, trade or non-profit organizations,” while Priebus, a former Republican National Committee chairman, is allowed to have communications and meetings with the RNC, the document says. Shortly after taking office in January, Trump signed an executive order barring lob...\n",
              "4358     Neil Gorsuch, President Donald Trump’s appointee to the U.S. Supreme Court who was confirmed by the Senate to the lifetime job on Friday in a 54-45 vote, will have an immediate impact on cases already pending before the justices. The nine-seat court has operated with only eight justices after the death of conservative Antonin Scalia on Feb. 13, 2016, with four liberals and four conservatives. Gorsuch’s confirmation restores a 5-4 conservative majority. The new justice could cast the deciding vote in new cases before the court as well as some cases already argued during the current term that ends in June. The court could decide to hear fresh arguments in cases in which they otherwise would be split 4-4. Here is a list of five such cases in which Gorsuch could be pivotal. Religious right...\n",
              "4465     WASHINGTON The clock began running out this week on a strategy that has provided U.S. Republicans in Congress with their only notable legislative successes this year: aggressive use of an obscure U.S. law known as the Congressional Review Act (CRA).  On his 75th day in power, President Donald Trump has yet to offer any major legislation or win passage of a bill he favors, but House of Representatives Majority Leader Kevin McCarthy has notched numerous small-scale victories with his strategy.  Vice President Mike Pence told business leaders at the White House on Tuesday that Trump would sign more CRA resolutions soon and roll back an “avalanche of red tape” from the administration of President Barack Obama, a Democrat.  REUTERS COMMENTARYWar College: One tank to rule them allThe right w...\n",
              "5784     Federal appeals court judge Neil Gorsuch, the U.S. Supreme Court pick of President Donald Trump, is a conservative intellectual known for backing religious rights and seen as very much in the mold of Antonin Scalia, the justice he was chosen to replace.  Gorsuch, who has not shied away from needling liberals on occasion, is 49 and could influence the high court for decades to come in the lifetime post, if confirmed by the Republican-led Senate. He is the youngest Supreme Court nominee since Republican President George H.W. Bush in 1991 picked Clarence Thomas, who was 43 at the time.  DON’T MISS For hardline West Bank settlers, Jared Kushner's their man He currently serves as a judge on the 10th U.S. Circuit Court of Appeals in Denver, the city where he was born. He was appointed to tha...\n",
              "6660     Republican members of Congress are complaining that U.S. intelligence agencies are refusing to brief them widely on a classified CIA report that concluded Russia hacked Democratic Party data in an effort to help Donald Trump win the presidency. The Republicans said Director of National Intelligence James Clapper has refused their requests for full briefings of Congress’ two intelligence committees. U.S. government officials said the leaders of Congress and the chairmen of the two intelligence committees, known as the “Gang of Eight,” have been briefed on the Central Intelligence Agency’s conclusion. Nevertheless, Representative Devin Nunes, the California Republican who chairs the House Intelligence Committee and is a member of President-elect Trump’s transition team as well as the Gan...\n",
              "6823     Over the course of the U.S. presidential campaign, Donald Trump changed his mind on many issues. But he’s been consistent on one foreign policy question: he wants to end American support for Syrian opposition groups fighting Bashar al-Assad’s regime. Trump argues that the United States should expend all of its efforts on fighting Islamic State instead.  \"I’ve had an opposite view of many people regarding Syria,” Trump told the Wall Street Journal on Nov. 11, in his first interview after he won the White House. “My attitude was you’re fighting Syria, Syria is fighting ISIS, and you have to get rid of ISIS. Russia is now totally aligned with Syria, and now you have Iran, which is becoming powerful, because of us, is aligned with Syria. … Now we’re backing rebels against Syria, and we hav...\n",
              "7922     After going through a week reminiscent of Napoleon’s at Waterloo, Republican presidential nominee Donald Trump will likely claim that Indiana Governor Mike Pence’s performance in Tuesday’s vice-presidential debate gave a boost to their campaign.  That would be overstating it.  The debate probably changed few votes in the 2016 presidential election. The question is whether it will change any votes in the 2020 contest.  In this year’s race, the debate was something of a wash. Virginia Senator Tim Kaine, the Democratic vice-presidential nominee, came across like an over-caffeinated prosecutorial chipmunk – interrupting at every occasion. And at moments that weren’t occasions at all.  A gentle soul who’s uncomfortable in the attack-dog role that the Clinton campaign has assigned him, Kaine...\n",
              "8194     The following timeline charts the origin and spread of the Zika virus from its discovery nearly 70 years ago: 1947: Scientists researching yellow fever in Uganda’s Zika Forest identify the virus in a rhesus monkey 1948: Virus recovered from Aedes africanus mosquito in Zika Forest 1952: First human cases detected in Uganda and Tanzania 1960s-80s: Zika detected in mosquitoes and monkeys across equatorial Africa 1960s–80s: Zika found in equatorial Asia, including India, Indonesia, Malaysia and Pakistan 2007: Zika spreads from Africa and Asia, first large outbreak on Pacific island of Yap 2012: Researchers identify two distinct lineages of the virus, African and Asian 2013–14: Zika outbreaks in French Polynesia, Easter Island, the Cook Islands and New Caledonia. Retrospective analysis show...\n",
              "8195     Global health officials are racing to better understand the Zika virus behind a major outbreak that began in Brazil last year and has spread to almost 60 countries.  The following are some questions and answers about the virus and current outbreak: How do people become infected? Zika is transmitted to people through the bite of infected female mosquitoes, primarily the Aedes aegypti mosquito, the same type that spreads dengue, chikungunya and yellow fever. The Pan American Health Organization (PAHO) said Aedes aegypti mosquitoes are found in all countries in the Americas except Canada and continental Chile, and the virus will likely reach all countries and territories of the region where Aedes mosquitoes are found. The virus can also be transmitted through sex, from either a male or fe...\n",
              "8247                                                                  U.S. President Barack Obama visited a street market in Luang Prabang on Wednesday (September 7), where he greeted residents and tasted fresh coconut. He walked near the river of Mekong where women sell coconut drinks and tasted the local refreshment, posing for photographs and conversing with locals. Obama arrived in Laos Tuesday morning (September 6), becoming the first sitting U.S. president to visit landlocked Laos, where the United States waged a “secret war” while fighting in Vietnam, dropping an estimated two million tonnes of bombs on the country. Obama’s visit follows his attendance at the G20 summit in the Chinese city of Hangzhou. He is also due to attend an annual international gathering in the Southeast Asian region.\n",
              "8465     ALGONAC, MICH.—Parker Fox drifted out of the Donald Trump rally in a sort of euphoric daze, along with the thousands emptying into the parking lot alongside him. “After leaving a Trump rally, you’re very pro-Trump,” he recalled a few weeks later, describing a noisy communion with people who understood that politics mattered, unlike some people he could name at his high school. “It was so enthusiastic and so energetic you could feel it in your body. It gave you chills.” He’d barely had time to calm down when he learned through Facebook that his other favorite presidential candidate would also be passing through his quiet corner of eastern Michigan—Bernie Sanders. In fact, the U.S. senator from Vermont would be at the same community college the very next day. This thrilled Fox: his first...\n",
              "8481     Global health officials are racing to better understand the Zika virus behind a major outbreak that began in Brazil last year and has spread to many countries in the Americas.  The following are some questions and answers about the virus and current outbreak: How do people become infected? Zika is transmitted to people through the bite of infected female mosquitoes, primarily the Aedes aegypti mosquito, the same type that spreads dengue, chikungunya and yellow fever. The Pan American Health Organization (PAHO) said Aedes mosquitoes are found in all countries in the Americas except Canada and continental Chile, and the virus will likely reach all countries and territories of the region where Aedes mosquitoes are found. How do you treat Zika? There is no treatment or vaccine for Zika inf...\n",
              "8482     The following timeline charts the origin and spread of the Zika virus from its discovery nearly 70 years ago: 1947: Scientists researching yellow fever in Uganda’s Zika Forest identify the virus in a rhesus monkey 1948: Virus recovered from Aedes africanus mosquito in Zika Forest 1952: First human cases detected in Uganda and Tanzania 1954: Virus found in Nigeria 1960s-80s: Zika detected in mosquitoes and monkeys across equatorial Africa 1969–83: Zika found in equatorial Asia, including India, Indonesia, Malaysia and Pakistan 2007: Zika spreads from Africa and Asia, first large outbreak on Pacific island of Yap 2012: Researchers identify two distinct lineages of the virus, African and Asian 2013–14: Zika outbreaks in French Polynesia, Easter Island, the Cook Islands and New Caledonia. ...\n",
              "8505     Global health officials are racing to better understand the Zika virus behind a major outbreak that began in Brazil last year and has spread to many countries in the Americas.  The following are some questions and answers about the virus and current outbreak: How do people become infected? Zika is transmitted to people through the bite of infected female mosquitoes, primarily the Aedes aegypti mosquito, the same type that spreads dengue, chikungunya and yellow fever. The Pan American Health Organization (PAHO) said Aedes mosquitoes are found in all countries in the Americas except Canada and continental Chile, and the virus will likely reach all countries and territories of the region where Aedes mosquitoes are found. How do you treat Zika? There is no treatment or vaccine for Zika inf...\n",
              "8506     The following timeline charts the origin and spread of the Zika virus from its discovery nearly 70 years ago: 1947: Scientists researching yellow fever in Uganda’s Zika Forest identify the virus in a rhesus monkey 1948: Virus recovered from Aedes africanus mosquito in Zika Forest 1952: First human cases detected in Uganda and Tanzania 1954: Virus found in Nigeria 1960s-80s: Zika detected in mosquitoes and monkeys across equatorial Africa 1969–83: Zika found in equatorial Asia, including India, Indonesia, Malaysia and Pakistan 2007: Zika spreads from Africa and Asia, first large outbreak on Pacific island of Yap 2012: Researchers identify two distinct lineages of the virus, African and Asian 2013–14: Zika outbreaks in French Polynesia, Easter Island, the Cook Islands and New Caledonia. ...\n",
              "8771     In a speech weighted with America’s complicated racial history, Democrat Hillary Clinton laced into Republican presidential rival Donald Trump on Wednesday, accusing him of fueling divisions among Americans over race and religion. “His campaign is as divisive as any we have seen in our lifetimes,” Clinton said at a campaign appearance at the Illinois state house in Springfield. “It is built on stoking mistrust and pitting American against American. It’s there in everything he says and everything he promises to do as president.” Clinton ticked off Trump’s proposals to ban Muslims from entering the country, create a database of Muslims already in the country and step up deportations by creating a special deportation force as policies intended to drive Americans apart. She lambasted Trump...\n",
              "8970                                                                                                                                                                                                                                                                                                                                                                                                                                                                                                                                                                                                                                                                                                                                                                                                                                    \n",
              "9008     The following timeline charts the origin and spread of the Zika virus from its discovery nearly 70 years ago: 1947: Scientists researching yellow fever in Uganda’s Zika Forest identify the virus in a rhesus monkey 1948: Virus recovered from Aedes africanus mosquito in Zika Forest 1952: First human cases detected in Uganda and Tanzania 1954: Virus found in Nigeria 1960s-80s: Zika detected in mosquitoes and monkeys across equatorial Africa 1969–83: Zika found in equatorial Asia, including India, Indonesia, Malaysia and Pakistan 2007: Zika spreads from Africa and Asia, first large outbreak on Pacific island of Yap 2012: Researchers identify two distinct lineages of the virus, African and Asian 2013–14: Zika outbreaks in French Polynesia, Easter Island, the Cook Islands and New Caledonia. ...\n",
              "9009     Global health officials are racing to better understand the Zika virus behind a major outbreak that began in Brazil last year and has spread to many countries in the Americas.  The following are some questions and answers about the virus and current outbreak: How do people become infected? Zika is transmitted to people through the bite of infected female mosquitoes, primarily the Aedes aegypti mosquito, the same type that spreads dengue, chikungunya and yellow fever. The Pan American Health Organization (PAHO) said Aedes mosquitoes are found in all countries in the Americas except Canada and continental Chile, and the virus will likely reach all countries and territories of the region where Aedes mosquitoes are found. How do you treat Zika? There is no treatment or vaccine for Zika inf...\n",
              "9307     It’s the near future, and North Korea’s regime is on the brink of collapse. As rumors swirl of palace coups, forces on both sides of the world’s most militarized border are on heightened alert. The U.S. military faces a much bigger problem. Somewhere in the Pacific, a North Korean submarine is believed to be carrying nuclear warheads and the missiles to deliver them. And nobody knows where it is.  It sounds like the plot of a “Hunt for Red October”-style technothriller. But if Pyongyang’s technicians continue at their current pace, experts say it is becoming ever more likely.  One thing is certain: North Korea is plowing considerable resources into building its nuclear capability. And it is clearly making progress – even if Tuesday’s failed missile test shows it still has a long way to...\n",
              "9618     GOP leaders have unleashed a stunning level of vitriol against their party’s most successful presidential candidate.  House Speaker Paul Ryan (R-Wis.), emphatically declared last week that he was not ready to endorse Donald Trump, his party’s presumptive presidential nominee. This move was unprecedented in modern American history. Trump’s response was that Ryan may need to be replaced as head of the Republican National Convention.  Ryan’s rebuke reminds Americans that Trump is deeply unpopular, particularly among a significant number of powerful Republicans. Former GOP presidential nominee Mitt Romney belittled the GOP’s new leader as a moral cretin unfit to be the standard bearer. Former President George W. Bush and his father, President George H.W. Bush, both say they are not attendi...\n",
              "9737                                                                                  Caitlyn Jenner posted a video on Wednesday (April 26) of herself using a women’s bathroom at Republican Presidential candidate Donald Trump’s New York hotel. Published on her Facebook page, Jenner’s video shows her walking along the street, entering the Trump International Hotel and Tower and making her way to the restrooms. The video was spurred on by Trump, who, during an appearance on The Today Show last week, said in an interview that he would not care if Jenner used the women’s room at his properties. His comment came following the trending topic of so-called “bathroom bills,” like the one passed in North Carolina, which prohibits transgender people from using bathrooms consistent with their gender identity.\n",
              "10479    The Democratic and Republican nominees for the Nov. 8 presidential election are decided in a series of state-by-state contests. The key to winning the nomination for each party is ultimately not about the popular vote, but about securing the number of delegates needed to win the nomination at each party’s convention - July 18-21 in Cleveland for the Republicans and July 25-28 in Philadelphia for the Democrats. The following is a guide to the nominating process: Q: Is the delegate selection process the same for the Republican and Democratic parties? A: No. The parties set their own rules. One thing that is the same is that at each party convention, a candidate needs to reach only a simple majority of the delegate votes to win the nomination. Q: How many delegates are there? A: The Democ...\n",
              "Name: text, dtype: object"
            ]
          },
          "metadata": {},
          "execution_count": 10
        }
      ]
    },
    {
      "cell_type": "code",
      "metadata": {
        "id": "x37-m49xHwTT"
      },
      "source": [
        "#Seperating Publication info, from actual text\n",
        "publisher = []\n",
        "tmp_text = []\n",
        "for index,row in enumerate(d2.text.values):\n",
        "    if index in unknown_publishers:\n",
        "        #Add unknown of publisher not mentioned\n",
        "        tmp_text.append(row)\n",
        "        \n",
        "        publisher.append(\"Unknown\")\n",
        "        continue\n",
        "    record = row.split(\" -\", maxsplit=1)\n",
        "    publisher.append(record[0])\n",
        "    tmp_text.append(record[1])"
      ],
      "execution_count": 11,
      "outputs": []
    },
    {
      "cell_type": "code",
      "metadata": {
        "id": "y6PrE984HwYQ"
      },
      "source": [
        "#Replace existing text column with new text\n",
        "#add seperate column for publication info\n",
        "d2[\"publisher\"] = publisher\n",
        "d2[\"text\"] = tmp_text\n",
        "\n",
        "del publisher, tmp_text, record, unknown_publishers"
      ],
      "execution_count": 12,
      "outputs": []
    },
    {
      "cell_type": "code",
      "metadata": {
        "colab": {
          "base_uri": "https://localhost:8080/",
          "height": 1000
        },
        "id": "hancNZBOHwdm",
        "outputId": "ae181083-54b3-4299-b31c-5d6da3cbad47"
      },
      "source": [
        "d2.head()"
      ],
      "execution_count": 13,
      "outputs": [
        {
          "output_type": "execute_result",
          "data": {
            "text/html": [
              "<div>\n",
              "<style scoped>\n",
              "    .dataframe tbody tr th:only-of-type {\n",
              "        vertical-align: middle;\n",
              "    }\n",
              "\n",
              "    .dataframe tbody tr th {\n",
              "        vertical-align: top;\n",
              "    }\n",
              "\n",
              "    .dataframe thead th {\n",
              "        text-align: right;\n",
              "    }\n",
              "</style>\n",
              "<table border=\"1\" class=\"dataframe\">\n",
              "  <thead>\n",
              "    <tr style=\"text-align: right;\">\n",
              "      <th></th>\n",
              "      <th>title</th>\n",
              "      <th>text</th>\n",
              "      <th>subject</th>\n",
              "      <th>date</th>\n",
              "      <th>label</th>\n",
              "      <th>publisher</th>\n",
              "    </tr>\n",
              "  </thead>\n",
              "  <tbody>\n",
              "    <tr>\n",
              "      <th>0</th>\n",
              "      <td>As U.S. budget fight looms, Republicans flip their fiscal script</td>\n",
              "      <td>The head of a conservative Republican faction in the U.S. Congress, who voted this month for a huge expansion of the national debt to pay for tax cuts, called himself a “fiscal conservative” on Sunday and urged budget restraint in 2018. In keeping with a sharp pivot under way among Republicans, U.S. Representative Mark Meadows, speaking on CBS’ “Face the Nation,” drew a hard line on federal spending, which lawmakers are bracing to do battle over in January. When they return from the holidays on Wednesday, lawmakers will begin trying to pass a federal budget in a fight likely to be linked to other issues, such as immigration policy, even as the November congressional election campaigns approach in which Republicans will seek to keep control of Congress. President Donald Trump and his R...</td>\n",
              "      <td>politicsNews</td>\n",
              "      <td>December 31, 2017</td>\n",
              "      <td>1</td>\n",
              "      <td>WASHINGTON (Reuters)</td>\n",
              "    </tr>\n",
              "    <tr>\n",
              "      <th>1</th>\n",
              "      <td>U.S. military to accept transgender recruits on Monday: Pentagon</td>\n",
              "      <td>Transgender people will be allowed for the first time to enlist in the U.S. military starting on Monday as ordered by federal courts, the Pentagon said on Friday, after President Donald Trump’s administration decided not to appeal rulings that blocked his transgender ban. Two federal appeals courts, one in Washington and one in Virginia, last week rejected the administration’s request to put on hold orders by lower court judges requiring the military to begin accepting transgender recruits on Jan. 1. A Justice Department official said the administration will not challenge those rulings. “The Department of Defense has announced that it will be releasing an independent study of these issues in the coming weeks. So rather than litigate this interim appeal before that occurs, the administ...</td>\n",
              "      <td>politicsNews</td>\n",
              "      <td>December 29, 2017</td>\n",
              "      <td>1</td>\n",
              "      <td>WASHINGTON (Reuters)</td>\n",
              "    </tr>\n",
              "    <tr>\n",
              "      <th>2</th>\n",
              "      <td>Senior U.S. Republican senator: 'Let Mr. Mueller do his job'</td>\n",
              "      <td>The special counsel investigation of links between Russia and President Trump’s 2016 election campaign should continue without interference in 2018, despite calls from some Trump administration allies and Republican lawmakers to shut it down, a prominent Republican senator said on Sunday. Lindsey Graham, who serves on the Senate armed forces and judiciary committees, said Department of Justice Special Counsel Robert Mueller needs to carry on with his Russia investigation without political interference. “This investigation will go forward. It will be an investigation conducted without political influence,” Graham said on CBS’s Face the Nation news program. “And we all need to let Mr. Mueller do his job. I think he’s the right guy at the right time.”  The question of how Russia may have...</td>\n",
              "      <td>politicsNews</td>\n",
              "      <td>December 31, 2017</td>\n",
              "      <td>1</td>\n",
              "      <td>WASHINGTON (Reuters)</td>\n",
              "    </tr>\n",
              "    <tr>\n",
              "      <th>3</th>\n",
              "      <td>FBI Russia probe helped by Australian diplomat tip-off: NYT</td>\n",
              "      <td>Trump campaign adviser George Papadopoulos told an Australian diplomat in May 2016 that Russia had political dirt on Democratic presidential candidate Hillary Clinton, the New York Times reported on Saturday. The conversation between Papadopoulos and the diplomat, Alexander Downer, in London was a driving factor behind the FBI’s decision to open a counter-intelligence investigation of Moscow’s contacts with the Trump campaign, the Times reported. Two months after the meeting, Australian officials passed the information that came from Papadopoulos to their American counterparts when leaked Democratic emails began appearing online, according to the newspaper, which cited four current and former U.S. and foreign officials. Besides the information from the Australians, the probe by the Fe...</td>\n",
              "      <td>politicsNews</td>\n",
              "      <td>December 30, 2017</td>\n",
              "      <td>1</td>\n",
              "      <td>WASHINGTON (Reuters)</td>\n",
              "    </tr>\n",
              "    <tr>\n",
              "      <th>4</th>\n",
              "      <td>Trump wants Postal Service to charge 'much more' for Amazon shipments</td>\n",
              "      <td>President Donald Trump called on the U.S. Postal Service on Friday to charge “much more” to ship packages for Amazon (AMZN.O), picking another fight with an online retail giant he has criticized in the past.     “Why is the United States Post Office, which is losing many billions of dollars a year, while charging Amazon and others so little to deliver their packages, making Amazon richer and the Post Office dumber and poorer? Should be charging MUCH MORE!” Trump wrote on Twitter.  The president’s tweet drew fresh attention to the fragile finances of the Postal Service at a time when tens of millions of parcels have just been shipped all over the country for the holiday season.  The U.S. Postal Service, which runs at a big loss, is an independent agency within the federal government an...</td>\n",
              "      <td>politicsNews</td>\n",
              "      <td>December 29, 2017</td>\n",
              "      <td>1</td>\n",
              "      <td>SEATTLE/WASHINGTON (Reuters)</td>\n",
              "    </tr>\n",
              "  </tbody>\n",
              "</table>\n",
              "</div>"
            ],
            "text/plain": [
              "                                                                   title  ...                     publisher\n",
              "0       As U.S. budget fight looms, Republicans flip their fiscal script  ...          WASHINGTON (Reuters)\n",
              "1       U.S. military to accept transgender recruits on Monday: Pentagon  ...          WASHINGTON (Reuters)\n",
              "2           Senior U.S. Republican senator: 'Let Mr. Mueller do his job'  ...          WASHINGTON (Reuters)\n",
              "3            FBI Russia probe helped by Australian diplomat tip-off: NYT  ...          WASHINGTON (Reuters)\n",
              "4  Trump wants Postal Service to charge 'much more' for Amazon shipments  ...  SEATTLE/WASHINGTON (Reuters)\n",
              "\n",
              "[5 rows x 6 columns]"
            ]
          },
          "metadata": {},
          "execution_count": 13
        }
      ]
    },
    {
      "cell_type": "code",
      "metadata": {
        "colab": {
          "base_uri": "https://localhost:8080/"
        },
        "id": "KCe3ocuQIFLt",
        "outputId": "06e08a04-49ba-45d7-b631-bd951674ce01"
      },
      "source": [
        "d2['publisher'].value_counts()"
      ],
      "execution_count": 14,
      "outputs": [
        {
          "output_type": "execute_result",
          "data": {
            "text/plain": [
              "WASHINGTON (Reuters)                                                                                                                                                6389\n",
              "(Reuters)                                                                                                                                                           1483\n",
              "LONDON (Reuters)                                                                                                                                                     705\n",
              "NEW YORK (Reuters)                                                                                                                                                   695\n",
              "MOSCOW (Reuters)                                                                                                                                                     623\n",
              "                                                                                                                                                                    ... \n",
              " (This January 23 story corrects time of 2009 photo to sometime between 12:07 p.m. and 12:26 p.m. from 1:27 p.m., in paragraph seven) By Daniel Trotta (Reuters)       1\n",
              " (This version of September 20 s story corrects to change political affiliation of senator in paragraph 12) By Gabriel Stargardter MEXICO CITY (Reuters)               1\n",
              "UNITED NATIONS/HAVANA (Reuters)                                                                                                                                        1\n",
              "GRAND RAPIDS, Mich./KENT, Ohio (Reuters)                                                                                                                               1\n",
              " (This October 3 story corrects location in paragraph 4 to presidential palace, not parliament) By Nelson Da Cruz DILI (Reuters)                                       1\n",
              "Name: publisher, Length: 1692, dtype: int64"
            ]
          },
          "metadata": {},
          "execution_count": 14
        }
      ]
    },
    {
      "cell_type": "code",
      "metadata": {
        "colab": {
          "base_uri": "https://localhost:8080/",
          "height": 988
        },
        "id": "WTshOi8SHQR7",
        "outputId": "913f9f5b-e0ed-4c4c-dbfa-d0cc2b288dba"
      },
      "source": [
        "d2.drop(['publisher'], axis=1, inplace=True)\n",
        "d2.head()"
      ],
      "execution_count": 15,
      "outputs": [
        {
          "output_type": "execute_result",
          "data": {
            "text/html": [
              "<div>\n",
              "<style scoped>\n",
              "    .dataframe tbody tr th:only-of-type {\n",
              "        vertical-align: middle;\n",
              "    }\n",
              "\n",
              "    .dataframe tbody tr th {\n",
              "        vertical-align: top;\n",
              "    }\n",
              "\n",
              "    .dataframe thead th {\n",
              "        text-align: right;\n",
              "    }\n",
              "</style>\n",
              "<table border=\"1\" class=\"dataframe\">\n",
              "  <thead>\n",
              "    <tr style=\"text-align: right;\">\n",
              "      <th></th>\n",
              "      <th>title</th>\n",
              "      <th>text</th>\n",
              "      <th>subject</th>\n",
              "      <th>date</th>\n",
              "      <th>label</th>\n",
              "    </tr>\n",
              "  </thead>\n",
              "  <tbody>\n",
              "    <tr>\n",
              "      <th>0</th>\n",
              "      <td>As U.S. budget fight looms, Republicans flip their fiscal script</td>\n",
              "      <td>The head of a conservative Republican faction in the U.S. Congress, who voted this month for a huge expansion of the national debt to pay for tax cuts, called himself a “fiscal conservative” on Sunday and urged budget restraint in 2018. In keeping with a sharp pivot under way among Republicans, U.S. Representative Mark Meadows, speaking on CBS’ “Face the Nation,” drew a hard line on federal spending, which lawmakers are bracing to do battle over in January. When they return from the holidays on Wednesday, lawmakers will begin trying to pass a federal budget in a fight likely to be linked to other issues, such as immigration policy, even as the November congressional election campaigns approach in which Republicans will seek to keep control of Congress. President Donald Trump and his R...</td>\n",
              "      <td>politicsNews</td>\n",
              "      <td>December 31, 2017</td>\n",
              "      <td>1</td>\n",
              "    </tr>\n",
              "    <tr>\n",
              "      <th>1</th>\n",
              "      <td>U.S. military to accept transgender recruits on Monday: Pentagon</td>\n",
              "      <td>Transgender people will be allowed for the first time to enlist in the U.S. military starting on Monday as ordered by federal courts, the Pentagon said on Friday, after President Donald Trump’s administration decided not to appeal rulings that blocked his transgender ban. Two federal appeals courts, one in Washington and one in Virginia, last week rejected the administration’s request to put on hold orders by lower court judges requiring the military to begin accepting transgender recruits on Jan. 1. A Justice Department official said the administration will not challenge those rulings. “The Department of Defense has announced that it will be releasing an independent study of these issues in the coming weeks. So rather than litigate this interim appeal before that occurs, the administ...</td>\n",
              "      <td>politicsNews</td>\n",
              "      <td>December 29, 2017</td>\n",
              "      <td>1</td>\n",
              "    </tr>\n",
              "    <tr>\n",
              "      <th>2</th>\n",
              "      <td>Senior U.S. Republican senator: 'Let Mr. Mueller do his job'</td>\n",
              "      <td>The special counsel investigation of links between Russia and President Trump’s 2016 election campaign should continue without interference in 2018, despite calls from some Trump administration allies and Republican lawmakers to shut it down, a prominent Republican senator said on Sunday. Lindsey Graham, who serves on the Senate armed forces and judiciary committees, said Department of Justice Special Counsel Robert Mueller needs to carry on with his Russia investigation without political interference. “This investigation will go forward. It will be an investigation conducted without political influence,” Graham said on CBS’s Face the Nation news program. “And we all need to let Mr. Mueller do his job. I think he’s the right guy at the right time.”  The question of how Russia may have...</td>\n",
              "      <td>politicsNews</td>\n",
              "      <td>December 31, 2017</td>\n",
              "      <td>1</td>\n",
              "    </tr>\n",
              "    <tr>\n",
              "      <th>3</th>\n",
              "      <td>FBI Russia probe helped by Australian diplomat tip-off: NYT</td>\n",
              "      <td>Trump campaign adviser George Papadopoulos told an Australian diplomat in May 2016 that Russia had political dirt on Democratic presidential candidate Hillary Clinton, the New York Times reported on Saturday. The conversation between Papadopoulos and the diplomat, Alexander Downer, in London was a driving factor behind the FBI’s decision to open a counter-intelligence investigation of Moscow’s contacts with the Trump campaign, the Times reported. Two months after the meeting, Australian officials passed the information that came from Papadopoulos to their American counterparts when leaked Democratic emails began appearing online, according to the newspaper, which cited four current and former U.S. and foreign officials. Besides the information from the Australians, the probe by the Fe...</td>\n",
              "      <td>politicsNews</td>\n",
              "      <td>December 30, 2017</td>\n",
              "      <td>1</td>\n",
              "    </tr>\n",
              "    <tr>\n",
              "      <th>4</th>\n",
              "      <td>Trump wants Postal Service to charge 'much more' for Amazon shipments</td>\n",
              "      <td>President Donald Trump called on the U.S. Postal Service on Friday to charge “much more” to ship packages for Amazon (AMZN.O), picking another fight with an online retail giant he has criticized in the past.     “Why is the United States Post Office, which is losing many billions of dollars a year, while charging Amazon and others so little to deliver their packages, making Amazon richer and the Post Office dumber and poorer? Should be charging MUCH MORE!” Trump wrote on Twitter.  The president’s tweet drew fresh attention to the fragile finances of the Postal Service at a time when tens of millions of parcels have just been shipped all over the country for the holiday season.  The U.S. Postal Service, which runs at a big loss, is an independent agency within the federal government an...</td>\n",
              "      <td>politicsNews</td>\n",
              "      <td>December 29, 2017</td>\n",
              "      <td>1</td>\n",
              "    </tr>\n",
              "  </tbody>\n",
              "</table>\n",
              "</div>"
            ],
            "text/plain": [
              "                                                                   title  ... label\n",
              "0       As U.S. budget fight looms, Republicans flip their fiscal script  ...     1\n",
              "1       U.S. military to accept transgender recruits on Monday: Pentagon  ...     1\n",
              "2           Senior U.S. Republican senator: 'Let Mr. Mueller do his job'  ...     1\n",
              "3            FBI Russia probe helped by Australian diplomat tip-off: NYT  ...     1\n",
              "4  Trump wants Postal Service to charge 'much more' for Amazon shipments  ...     1\n",
              "\n",
              "[5 rows x 5 columns]"
            ]
          },
          "metadata": {},
          "execution_count": 15
        }
      ]
    },
    {
      "cell_type": "code",
      "metadata": {
        "colab": {
          "base_uri": "https://localhost:8080/",
          "height": 988
        },
        "id": "8G3mZkyHjCaC",
        "outputId": "bd2984b8-2fd6-4670-c816-ca700047379b"
      },
      "source": [
        "# combining the two datasets or concatenating the two dataset.\n",
        "frame = [d1, d2]\n",
        "df = pd.concat(frame)\n",
        "df.head()"
      ],
      "execution_count": 16,
      "outputs": [
        {
          "output_type": "execute_result",
          "data": {
            "text/html": [
              "<div>\n",
              "<style scoped>\n",
              "    .dataframe tbody tr th:only-of-type {\n",
              "        vertical-align: middle;\n",
              "    }\n",
              "\n",
              "    .dataframe tbody tr th {\n",
              "        vertical-align: top;\n",
              "    }\n",
              "\n",
              "    .dataframe thead th {\n",
              "        text-align: right;\n",
              "    }\n",
              "</style>\n",
              "<table border=\"1\" class=\"dataframe\">\n",
              "  <thead>\n",
              "    <tr style=\"text-align: right;\">\n",
              "      <th></th>\n",
              "      <th>title</th>\n",
              "      <th>text</th>\n",
              "      <th>subject</th>\n",
              "      <th>date</th>\n",
              "      <th>label</th>\n",
              "    </tr>\n",
              "  </thead>\n",
              "  <tbody>\n",
              "    <tr>\n",
              "      <th>0</th>\n",
              "      <td>Donald Trump Sends Out Embarrassing New Year’s Eve Message; This is Disturbing</td>\n",
              "      <td>Donald Trump just couldn t wish all Americans a Happy New Year and leave it at that. Instead, he had to give a shout out to his enemies, haters and  the very dishonest fake news media.  The former reality show star had just one job to do and he couldn t do it. As our Country rapidly grows stronger and smarter, I want to wish all of my friends, supporters, enemies, haters, and even the very dishonest Fake News Media, a Happy and Healthy New Year,  President Angry Pants tweeted.  2018 will be a great year for America! As our Country rapidly grows stronger and smarter, I want to wish all of my friends, supporters, enemies, haters, and even the very dishonest Fake News Media, a Happy and Healthy New Year. 2018 will be a great year for America!  Donald J. Trump (@realDonaldTrump) December 3...</td>\n",
              "      <td>News</td>\n",
              "      <td>December 31, 2017</td>\n",
              "      <td>0</td>\n",
              "    </tr>\n",
              "    <tr>\n",
              "      <th>1</th>\n",
              "      <td>Drunk Bragging Trump Staffer Started Russian Collusion Investigation</td>\n",
              "      <td>House Intelligence Committee Chairman Devin Nunes is going to have a bad day. He s been under the assumption, like many of us, that the Christopher Steele-dossier was what prompted the Russia investigation so he s been lashing out at the Department of Justice and the FBI in order to protect Trump. As it happens, the dossier is not what started the investigation, according to documents obtained by the New York Times.Former Trump campaign adviser George Papadopoulos was drunk in a wine bar when he revealed knowledge of Russian opposition research on Hillary Clinton.On top of that, Papadopoulos wasn t just a covfefe boy for Trump, as his administration has alleged. He had a much larger role, but none so damning as being a drunken fool in a wine bar. Coffee boys  don t help to arrange a Ne...</td>\n",
              "      <td>News</td>\n",
              "      <td>December 31, 2017</td>\n",
              "      <td>0</td>\n",
              "    </tr>\n",
              "    <tr>\n",
              "      <th>2</th>\n",
              "      <td>Sheriff David Clarke Becomes An Internet Joke For Threatening To Poke People ‘In The Eye’</td>\n",
              "      <td>On Friday, it was revealed that former Milwaukee Sheriff David Clarke, who was being considered for Homeland Security Secretary in Donald Trump s administration, has an email scandal of his own.In January, there was a brief run-in on a plane between Clarke and fellow passenger Dan Black, who he later had detained by the police for no reason whatsoever, except that maybe his feelings were hurt. Clarke messaged the police to stop Black after he deplaned, and now, a search warrant has been executed by the FBI to see the exchanges.Clarke is calling it fake news even though copies of the search warrant are on the Internet. I am UNINTIMIDATED by lib media attempts to smear and discredit me with their FAKE NEWS reports designed to silence me,  the former sheriff tweeted.  I will continue to p...</td>\n",
              "      <td>News</td>\n",
              "      <td>December 30, 2017</td>\n",
              "      <td>0</td>\n",
              "    </tr>\n",
              "    <tr>\n",
              "      <th>3</th>\n",
              "      <td>Trump Is So Obsessed He Even Has Obama’s Name Coded Into His Website (IMAGES)</td>\n",
              "      <td>On Christmas day, Donald Trump announced that he would  be back to work  the following day, but he is golfing for the fourth day in a row. The former reality show star blasted former President Barack Obama for playing golf and now Trump is on track to outpace the number of golf games his predecessor played.Updated my tracker of Trump s appearances at Trump properties.71 rounds of golf including today s. At this pace, he ll pass Obama s first-term total by July 24 next year. https://t.co/Fg7VacxRtJ pic.twitter.com/5gEMcjQTbH  Philip Bump (@pbump) December 29, 2017 That makes what a Washington Post reporter discovered on Trump s website really weird, but everything about this administration is bizarre AF. The coding contained a reference to Obama and golf:  Unlike Obama, we are working t...</td>\n",
              "      <td>News</td>\n",
              "      <td>December 29, 2017</td>\n",
              "      <td>0</td>\n",
              "    </tr>\n",
              "    <tr>\n",
              "      <th>4</th>\n",
              "      <td>Pope Francis Just Called Out Donald Trump During His Christmas Speech</td>\n",
              "      <td>Pope Francis used his annual Christmas Day message to rebuke Donald Trump without even mentioning his name. The Pope delivered his message just days after members of the United Nations condemned Trump s move to recognize Jerusalem as the capital of Israel. The Pontiff prayed on Monday for the  peaceful coexistence of two states within mutually agreed and internationally recognized borders. We see Jesus in the children of the Middle East who continue to suffer because of growing tensions between Israelis and Palestinians,  Francis said.  On this festive day, let us ask the Lord for peace for Jerusalem and for all the Holy Land. Let us pray that the will to resume dialogue may prevail between the parties and that a negotiated solution can finally be reached. The Pope went on to plead for...</td>\n",
              "      <td>News</td>\n",
              "      <td>December 25, 2017</td>\n",
              "      <td>0</td>\n",
              "    </tr>\n",
              "  </tbody>\n",
              "</table>\n",
              "</div>"
            ],
            "text/plain": [
              "                                                                                        title  ... label\n",
              "0              Donald Trump Sends Out Embarrassing New Year’s Eve Message; This is Disturbing  ...     0\n",
              "1                        Drunk Bragging Trump Staffer Started Russian Collusion Investigation  ...     0\n",
              "2   Sheriff David Clarke Becomes An Internet Joke For Threatening To Poke People ‘In The Eye’  ...     0\n",
              "3               Trump Is So Obsessed He Even Has Obama’s Name Coded Into His Website (IMAGES)  ...     0\n",
              "4                       Pope Francis Just Called Out Donald Trump During His Christmas Speech  ...     0\n",
              "\n",
              "[5 rows x 5 columns]"
            ]
          },
          "metadata": {},
          "execution_count": 16
        }
      ]
    },
    {
      "cell_type": "code",
      "metadata": {
        "colab": {
          "base_uri": "https://localhost:8080/"
        },
        "id": "DAjLmFK1lMMY",
        "outputId": "21162e93-abcb-463a-ff15-d1a926fb5686"
      },
      "source": [
        "df.shape"
      ],
      "execution_count": 17,
      "outputs": [
        {
          "output_type": "execute_result",
          "data": {
            "text/plain": [
              "(44898, 5)"
            ]
          },
          "metadata": {},
          "execution_count": 17
        }
      ]
    },
    {
      "cell_type": "code",
      "metadata": {
        "colab": {
          "base_uri": "https://localhost:8080/"
        },
        "id": "CPauJ6DPkO85",
        "outputId": "723ee29b-3c58-4d12-9b87-9e5c19792036"
      },
      "source": [
        "df.isnull().sum()"
      ],
      "execution_count": 18,
      "outputs": [
        {
          "output_type": "execute_result",
          "data": {
            "text/plain": [
              "title      0\n",
              "text       0\n",
              "subject    0\n",
              "date       0\n",
              "label      0\n",
              "dtype: int64"
            ]
          },
          "metadata": {},
          "execution_count": 18
        }
      ]
    },
    {
      "cell_type": "code",
      "metadata": {
        "id": "nxu2bm_ckPAx"
      },
      "source": [
        "#dropping duplicates\n",
        "df = df.drop_duplicates()"
      ],
      "execution_count": 19,
      "outputs": []
    },
    {
      "cell_type": "code",
      "metadata": {
        "colab": {
          "base_uri": "https://localhost:8080/"
        },
        "id": "KdMLL42xkPM6",
        "outputId": "a5d5d836-e453-4e3b-9012-2b4246455c31"
      },
      "source": [
        "# after dropping duplicates, now data shape. total no of duplicates = 209.\n",
        "df.shape"
      ],
      "execution_count": 20,
      "outputs": [
        {
          "output_type": "execute_result",
          "data": {
            "text/plain": [
              "(44689, 5)"
            ]
          },
          "metadata": {},
          "execution_count": 20
        }
      ]
    },
    {
      "cell_type": "code",
      "metadata": {
        "colab": {
          "base_uri": "https://localhost:8080/"
        },
        "id": "COFzZ3jwmxQQ",
        "outputId": "4ba3b1b1-c00a-486f-9654-25a987e4cdb6"
      },
      "source": [
        "df.columns"
      ],
      "execution_count": 21,
      "outputs": [
        {
          "output_type": "execute_result",
          "data": {
            "text/plain": [
              "Index(['title', 'text', 'subject', 'date', 'label'], dtype='object')"
            ]
          },
          "metadata": {},
          "execution_count": 21
        }
      ]
    },
    {
      "cell_type": "code",
      "metadata": {
        "colab": {
          "base_uri": "https://localhost:8080/"
        },
        "id": "Vpefi__Pnz55",
        "outputId": "41c652ef-eeef-4dd4-c56e-b588acd40ba3"
      },
      "source": [
        "df['subject'].value_counts()"
      ],
      "execution_count": 22,
      "outputs": [
        {
          "output_type": "execute_result",
          "data": {
            "text/plain": [
              "politicsNews       11220\n",
              "worldnews           9991\n",
              "News                9050\n",
              "politics            6838\n",
              "left-news           4459\n",
              "Government News     1570\n",
              "US_News              783\n",
              "Middle-east          778\n",
              "Name: subject, dtype: int64"
            ]
          },
          "metadata": {},
          "execution_count": 22
        }
      ]
    },
    {
      "cell_type": "code",
      "metadata": {
        "colab": {
          "base_uri": "https://localhost:8080/"
        },
        "id": "-ecmLfTcn4U5",
        "outputId": "e46d6777-86b7-401c-9f00-b9196142e2f6"
      },
      "source": [
        "df['label'].value_counts()"
      ],
      "execution_count": 23,
      "outputs": [
        {
          "output_type": "execute_result",
          "data": {
            "text/plain": [
              "0    23478\n",
              "1    21211\n",
              "Name: label, dtype: int64"
            ]
          },
          "metadata": {},
          "execution_count": 23
        }
      ]
    },
    {
      "cell_type": "code",
      "metadata": {
        "colab": {
          "base_uri": "https://localhost:8080/",
          "height": 814
        },
        "id": "KiuAJHx_jCc8",
        "outputId": "da7ffafa-e578-45f4-b488-858b46689f60"
      },
      "source": [
        "# dropping unnecessary columns. \n",
        "df.drop(['subject', 'date'], axis = 1, inplace=True)\n",
        "df.head()"
      ],
      "execution_count": 24,
      "outputs": [
        {
          "output_type": "execute_result",
          "data": {
            "text/html": [
              "<div>\n",
              "<style scoped>\n",
              "    .dataframe tbody tr th:only-of-type {\n",
              "        vertical-align: middle;\n",
              "    }\n",
              "\n",
              "    .dataframe tbody tr th {\n",
              "        vertical-align: top;\n",
              "    }\n",
              "\n",
              "    .dataframe thead th {\n",
              "        text-align: right;\n",
              "    }\n",
              "</style>\n",
              "<table border=\"1\" class=\"dataframe\">\n",
              "  <thead>\n",
              "    <tr style=\"text-align: right;\">\n",
              "      <th></th>\n",
              "      <th>title</th>\n",
              "      <th>text</th>\n",
              "      <th>label</th>\n",
              "    </tr>\n",
              "  </thead>\n",
              "  <tbody>\n",
              "    <tr>\n",
              "      <th>0</th>\n",
              "      <td>Donald Trump Sends Out Embarrassing New Year’s Eve Message; This is Disturbing</td>\n",
              "      <td>Donald Trump just couldn t wish all Americans a Happy New Year and leave it at that. Instead, he had to give a shout out to his enemies, haters and  the very dishonest fake news media.  The former reality show star had just one job to do and he couldn t do it. As our Country rapidly grows stronger and smarter, I want to wish all of my friends, supporters, enemies, haters, and even the very dishonest Fake News Media, a Happy and Healthy New Year,  President Angry Pants tweeted.  2018 will be a great year for America! As our Country rapidly grows stronger and smarter, I want to wish all of my friends, supporters, enemies, haters, and even the very dishonest Fake News Media, a Happy and Healthy New Year. 2018 will be a great year for America!  Donald J. Trump (@realDonaldTrump) December 3...</td>\n",
              "      <td>0</td>\n",
              "    </tr>\n",
              "    <tr>\n",
              "      <th>1</th>\n",
              "      <td>Drunk Bragging Trump Staffer Started Russian Collusion Investigation</td>\n",
              "      <td>House Intelligence Committee Chairman Devin Nunes is going to have a bad day. He s been under the assumption, like many of us, that the Christopher Steele-dossier was what prompted the Russia investigation so he s been lashing out at the Department of Justice and the FBI in order to protect Trump. As it happens, the dossier is not what started the investigation, according to documents obtained by the New York Times.Former Trump campaign adviser George Papadopoulos was drunk in a wine bar when he revealed knowledge of Russian opposition research on Hillary Clinton.On top of that, Papadopoulos wasn t just a covfefe boy for Trump, as his administration has alleged. He had a much larger role, but none so damning as being a drunken fool in a wine bar. Coffee boys  don t help to arrange a Ne...</td>\n",
              "      <td>0</td>\n",
              "    </tr>\n",
              "    <tr>\n",
              "      <th>2</th>\n",
              "      <td>Sheriff David Clarke Becomes An Internet Joke For Threatening To Poke People ‘In The Eye’</td>\n",
              "      <td>On Friday, it was revealed that former Milwaukee Sheriff David Clarke, who was being considered for Homeland Security Secretary in Donald Trump s administration, has an email scandal of his own.In January, there was a brief run-in on a plane between Clarke and fellow passenger Dan Black, who he later had detained by the police for no reason whatsoever, except that maybe his feelings were hurt. Clarke messaged the police to stop Black after he deplaned, and now, a search warrant has been executed by the FBI to see the exchanges.Clarke is calling it fake news even though copies of the search warrant are on the Internet. I am UNINTIMIDATED by lib media attempts to smear and discredit me with their FAKE NEWS reports designed to silence me,  the former sheriff tweeted.  I will continue to p...</td>\n",
              "      <td>0</td>\n",
              "    </tr>\n",
              "    <tr>\n",
              "      <th>3</th>\n",
              "      <td>Trump Is So Obsessed He Even Has Obama’s Name Coded Into His Website (IMAGES)</td>\n",
              "      <td>On Christmas day, Donald Trump announced that he would  be back to work  the following day, but he is golfing for the fourth day in a row. The former reality show star blasted former President Barack Obama for playing golf and now Trump is on track to outpace the number of golf games his predecessor played.Updated my tracker of Trump s appearances at Trump properties.71 rounds of golf including today s. At this pace, he ll pass Obama s first-term total by July 24 next year. https://t.co/Fg7VacxRtJ pic.twitter.com/5gEMcjQTbH  Philip Bump (@pbump) December 29, 2017 That makes what a Washington Post reporter discovered on Trump s website really weird, but everything about this administration is bizarre AF. The coding contained a reference to Obama and golf:  Unlike Obama, we are working t...</td>\n",
              "      <td>0</td>\n",
              "    </tr>\n",
              "    <tr>\n",
              "      <th>4</th>\n",
              "      <td>Pope Francis Just Called Out Donald Trump During His Christmas Speech</td>\n",
              "      <td>Pope Francis used his annual Christmas Day message to rebuke Donald Trump without even mentioning his name. The Pope delivered his message just days after members of the United Nations condemned Trump s move to recognize Jerusalem as the capital of Israel. The Pontiff prayed on Monday for the  peaceful coexistence of two states within mutually agreed and internationally recognized borders. We see Jesus in the children of the Middle East who continue to suffer because of growing tensions between Israelis and Palestinians,  Francis said.  On this festive day, let us ask the Lord for peace for Jerusalem and for all the Holy Land. Let us pray that the will to resume dialogue may prevail between the parties and that a negotiated solution can finally be reached. The Pope went on to plead for...</td>\n",
              "      <td>0</td>\n",
              "    </tr>\n",
              "  </tbody>\n",
              "</table>\n",
              "</div>"
            ],
            "text/plain": [
              "                                                                                        title  ... label\n",
              "0              Donald Trump Sends Out Embarrassing New Year’s Eve Message; This is Disturbing  ...     0\n",
              "1                        Drunk Bragging Trump Staffer Started Russian Collusion Investigation  ...     0\n",
              "2   Sheriff David Clarke Becomes An Internet Joke For Threatening To Poke People ‘In The Eye’  ...     0\n",
              "3               Trump Is So Obsessed He Even Has Obama’s Name Coded Into His Website (IMAGES)  ...     0\n",
              "4                       Pope Francis Just Called Out Donald Trump During His Christmas Speech  ...     0\n",
              "\n",
              "[5 rows x 3 columns]"
            ]
          },
          "metadata": {},
          "execution_count": 24
        }
      ]
    },
    {
      "cell_type": "code",
      "metadata": {
        "colab": {
          "base_uri": "https://localhost:8080/"
        },
        "id": "ZhAphokqnFYC",
        "outputId": "66c9696a-2b65-46a2-a85f-2d81d749db7c"
      },
      "source": [
        "df.columns"
      ],
      "execution_count": 25,
      "outputs": [
        {
          "output_type": "execute_result",
          "data": {
            "text/plain": [
              "Index(['title', 'text', 'label'], dtype='object')"
            ]
          },
          "metadata": {},
          "execution_count": 25
        }
      ]
    },
    {
      "cell_type": "code",
      "metadata": {
        "colab": {
          "base_uri": "https://localhost:8080/",
          "height": 1000
        },
        "id": "qG1IO3v9nFbj",
        "outputId": "36ee0b21-1e76-4562-9b2c-2b340d3dc93e"
      },
      "source": [
        "df['combine']= df['title'] +' '+ df['text']\n",
        "df.head()"
      ],
      "execution_count": 26,
      "outputs": [
        {
          "output_type": "execute_result",
          "data": {
            "text/html": [
              "<div>\n",
              "<style scoped>\n",
              "    .dataframe tbody tr th:only-of-type {\n",
              "        vertical-align: middle;\n",
              "    }\n",
              "\n",
              "    .dataframe tbody tr th {\n",
              "        vertical-align: top;\n",
              "    }\n",
              "\n",
              "    .dataframe thead th {\n",
              "        text-align: right;\n",
              "    }\n",
              "</style>\n",
              "<table border=\"1\" class=\"dataframe\">\n",
              "  <thead>\n",
              "    <tr style=\"text-align: right;\">\n",
              "      <th></th>\n",
              "      <th>title</th>\n",
              "      <th>text</th>\n",
              "      <th>label</th>\n",
              "      <th>combine</th>\n",
              "    </tr>\n",
              "  </thead>\n",
              "  <tbody>\n",
              "    <tr>\n",
              "      <th>0</th>\n",
              "      <td>Donald Trump Sends Out Embarrassing New Year’s Eve Message; This is Disturbing</td>\n",
              "      <td>Donald Trump just couldn t wish all Americans a Happy New Year and leave it at that. Instead, he had to give a shout out to his enemies, haters and  the very dishonest fake news media.  The former reality show star had just one job to do and he couldn t do it. As our Country rapidly grows stronger and smarter, I want to wish all of my friends, supporters, enemies, haters, and even the very dishonest Fake News Media, a Happy and Healthy New Year,  President Angry Pants tweeted.  2018 will be a great year for America! As our Country rapidly grows stronger and smarter, I want to wish all of my friends, supporters, enemies, haters, and even the very dishonest Fake News Media, a Happy and Healthy New Year. 2018 will be a great year for America!  Donald J. Trump (@realDonaldTrump) December 3...</td>\n",
              "      <td>0</td>\n",
              "      <td>Donald Trump Sends Out Embarrassing New Year’s Eve Message; This is Disturbing Donald Trump just couldn t wish all Americans a Happy New Year and leave it at that. Instead, he had to give a shout out to his enemies, haters and  the very dishonest fake news media.  The former reality show star had just one job to do and he couldn t do it. As our Country rapidly grows stronger and smarter, I want to wish all of my friends, supporters, enemies, haters, and even the very dishonest Fake News Media, a Happy and Healthy New Year,  President Angry Pants tweeted.  2018 will be a great year for America! As our Country rapidly grows stronger and smarter, I want to wish all of my friends, supporters, enemies, haters, and even the very dishonest Fake News Media, a Happy and Healthy New Year. 2018 ...</td>\n",
              "    </tr>\n",
              "    <tr>\n",
              "      <th>1</th>\n",
              "      <td>Drunk Bragging Trump Staffer Started Russian Collusion Investigation</td>\n",
              "      <td>House Intelligence Committee Chairman Devin Nunes is going to have a bad day. He s been under the assumption, like many of us, that the Christopher Steele-dossier was what prompted the Russia investigation so he s been lashing out at the Department of Justice and the FBI in order to protect Trump. As it happens, the dossier is not what started the investigation, according to documents obtained by the New York Times.Former Trump campaign adviser George Papadopoulos was drunk in a wine bar when he revealed knowledge of Russian opposition research on Hillary Clinton.On top of that, Papadopoulos wasn t just a covfefe boy for Trump, as his administration has alleged. He had a much larger role, but none so damning as being a drunken fool in a wine bar. Coffee boys  don t help to arrange a Ne...</td>\n",
              "      <td>0</td>\n",
              "      <td>Drunk Bragging Trump Staffer Started Russian Collusion Investigation House Intelligence Committee Chairman Devin Nunes is going to have a bad day. He s been under the assumption, like many of us, that the Christopher Steele-dossier was what prompted the Russia investigation so he s been lashing out at the Department of Justice and the FBI in order to protect Trump. As it happens, the dossier is not what started the investigation, according to documents obtained by the New York Times.Former Trump campaign adviser George Papadopoulos was drunk in a wine bar when he revealed knowledge of Russian opposition research on Hillary Clinton.On top of that, Papadopoulos wasn t just a covfefe boy for Trump, as his administration has alleged. He had a much larger role, but none so damning as being...</td>\n",
              "    </tr>\n",
              "    <tr>\n",
              "      <th>2</th>\n",
              "      <td>Sheriff David Clarke Becomes An Internet Joke For Threatening To Poke People ‘In The Eye’</td>\n",
              "      <td>On Friday, it was revealed that former Milwaukee Sheriff David Clarke, who was being considered for Homeland Security Secretary in Donald Trump s administration, has an email scandal of his own.In January, there was a brief run-in on a plane between Clarke and fellow passenger Dan Black, who he later had detained by the police for no reason whatsoever, except that maybe his feelings were hurt. Clarke messaged the police to stop Black after he deplaned, and now, a search warrant has been executed by the FBI to see the exchanges.Clarke is calling it fake news even though copies of the search warrant are on the Internet. I am UNINTIMIDATED by lib media attempts to smear and discredit me with their FAKE NEWS reports designed to silence me,  the former sheriff tweeted.  I will continue to p...</td>\n",
              "      <td>0</td>\n",
              "      <td>Sheriff David Clarke Becomes An Internet Joke For Threatening To Poke People ‘In The Eye’ On Friday, it was revealed that former Milwaukee Sheriff David Clarke, who was being considered for Homeland Security Secretary in Donald Trump s administration, has an email scandal of his own.In January, there was a brief run-in on a plane between Clarke and fellow passenger Dan Black, who he later had detained by the police for no reason whatsoever, except that maybe his feelings were hurt. Clarke messaged the police to stop Black after he deplaned, and now, a search warrant has been executed by the FBI to see the exchanges.Clarke is calling it fake news even though copies of the search warrant are on the Internet. I am UNINTIMIDATED by lib media attempts to smear and discredit me with their F...</td>\n",
              "    </tr>\n",
              "    <tr>\n",
              "      <th>3</th>\n",
              "      <td>Trump Is So Obsessed He Even Has Obama’s Name Coded Into His Website (IMAGES)</td>\n",
              "      <td>On Christmas day, Donald Trump announced that he would  be back to work  the following day, but he is golfing for the fourth day in a row. The former reality show star blasted former President Barack Obama for playing golf and now Trump is on track to outpace the number of golf games his predecessor played.Updated my tracker of Trump s appearances at Trump properties.71 rounds of golf including today s. At this pace, he ll pass Obama s first-term total by July 24 next year. https://t.co/Fg7VacxRtJ pic.twitter.com/5gEMcjQTbH  Philip Bump (@pbump) December 29, 2017 That makes what a Washington Post reporter discovered on Trump s website really weird, but everything about this administration is bizarre AF. The coding contained a reference to Obama and golf:  Unlike Obama, we are working t...</td>\n",
              "      <td>0</td>\n",
              "      <td>Trump Is So Obsessed He Even Has Obama’s Name Coded Into His Website (IMAGES) On Christmas day, Donald Trump announced that he would  be back to work  the following day, but he is golfing for the fourth day in a row. The former reality show star blasted former President Barack Obama for playing golf and now Trump is on track to outpace the number of golf games his predecessor played.Updated my tracker of Trump s appearances at Trump properties.71 rounds of golf including today s. At this pace, he ll pass Obama s first-term total by July 24 next year. https://t.co/Fg7VacxRtJ pic.twitter.com/5gEMcjQTbH  Philip Bump (@pbump) December 29, 2017 That makes what a Washington Post reporter discovered on Trump s website really weird, but everything about this administration is bizarre AF. The ...</td>\n",
              "    </tr>\n",
              "    <tr>\n",
              "      <th>4</th>\n",
              "      <td>Pope Francis Just Called Out Donald Trump During His Christmas Speech</td>\n",
              "      <td>Pope Francis used his annual Christmas Day message to rebuke Donald Trump without even mentioning his name. The Pope delivered his message just days after members of the United Nations condemned Trump s move to recognize Jerusalem as the capital of Israel. The Pontiff prayed on Monday for the  peaceful coexistence of two states within mutually agreed and internationally recognized borders. We see Jesus in the children of the Middle East who continue to suffer because of growing tensions between Israelis and Palestinians,  Francis said.  On this festive day, let us ask the Lord for peace for Jerusalem and for all the Holy Land. Let us pray that the will to resume dialogue may prevail between the parties and that a negotiated solution can finally be reached. The Pope went on to plead for...</td>\n",
              "      <td>0</td>\n",
              "      <td>Pope Francis Just Called Out Donald Trump During His Christmas Speech Pope Francis used his annual Christmas Day message to rebuke Donald Trump without even mentioning his name. The Pope delivered his message just days after members of the United Nations condemned Trump s move to recognize Jerusalem as the capital of Israel. The Pontiff prayed on Monday for the  peaceful coexistence of two states within mutually agreed and internationally recognized borders. We see Jesus in the children of the Middle East who continue to suffer because of growing tensions between Israelis and Palestinians,  Francis said.  On this festive day, let us ask the Lord for peace for Jerusalem and for all the Holy Land. Let us pray that the will to resume dialogue may prevail between the parties and that a ne...</td>\n",
              "    </tr>\n",
              "  </tbody>\n",
              "</table>\n",
              "</div>"
            ],
            "text/plain": [
              "                                                                                        title  ...                                                                                                                                                                                                                                                                                                                                                                                                                                                                                                                                                                                                                                                                                                                                                                                                                          combine\n",
              "0              Donald Trump Sends Out Embarrassing New Year’s Eve Message; This is Disturbing  ...   Donald Trump Sends Out Embarrassing New Year’s Eve Message; This is Disturbing Donald Trump just couldn t wish all Americans a Happy New Year and leave it at that. Instead, he had to give a shout out to his enemies, haters and  the very dishonest fake news media.  The former reality show star had just one job to do and he couldn t do it. As our Country rapidly grows stronger and smarter, I want to wish all of my friends, supporters, enemies, haters, and even the very dishonest Fake News Media, a Happy and Healthy New Year,  President Angry Pants tweeted.  2018 will be a great year for America! As our Country rapidly grows stronger and smarter, I want to wish all of my friends, supporters, enemies, haters, and even the very dishonest Fake News Media, a Happy and Healthy New Year. 2018 ...\n",
              "1                        Drunk Bragging Trump Staffer Started Russian Collusion Investigation  ...   Drunk Bragging Trump Staffer Started Russian Collusion Investigation House Intelligence Committee Chairman Devin Nunes is going to have a bad day. He s been under the assumption, like many of us, that the Christopher Steele-dossier was what prompted the Russia investigation so he s been lashing out at the Department of Justice and the FBI in order to protect Trump. As it happens, the dossier is not what started the investigation, according to documents obtained by the New York Times.Former Trump campaign adviser George Papadopoulos was drunk in a wine bar when he revealed knowledge of Russian opposition research on Hillary Clinton.On top of that, Papadopoulos wasn t just a covfefe boy for Trump, as his administration has alleged. He had a much larger role, but none so damning as being...\n",
              "2   Sheriff David Clarke Becomes An Internet Joke For Threatening To Poke People ‘In The Eye’  ...   Sheriff David Clarke Becomes An Internet Joke For Threatening To Poke People ‘In The Eye’ On Friday, it was revealed that former Milwaukee Sheriff David Clarke, who was being considered for Homeland Security Secretary in Donald Trump s administration, has an email scandal of his own.In January, there was a brief run-in on a plane between Clarke and fellow passenger Dan Black, who he later had detained by the police for no reason whatsoever, except that maybe his feelings were hurt. Clarke messaged the police to stop Black after he deplaned, and now, a search warrant has been executed by the FBI to see the exchanges.Clarke is calling it fake news even though copies of the search warrant are on the Internet. I am UNINTIMIDATED by lib media attempts to smear and discredit me with their F...\n",
              "3               Trump Is So Obsessed He Even Has Obama’s Name Coded Into His Website (IMAGES)  ...   Trump Is So Obsessed He Even Has Obama’s Name Coded Into His Website (IMAGES) On Christmas day, Donald Trump announced that he would  be back to work  the following day, but he is golfing for the fourth day in a row. The former reality show star blasted former President Barack Obama for playing golf and now Trump is on track to outpace the number of golf games his predecessor played.Updated my tracker of Trump s appearances at Trump properties.71 rounds of golf including today s. At this pace, he ll pass Obama s first-term total by July 24 next year. https://t.co/Fg7VacxRtJ pic.twitter.com/5gEMcjQTbH  Philip Bump (@pbump) December 29, 2017 That makes what a Washington Post reporter discovered on Trump s website really weird, but everything about this administration is bizarre AF. The ...\n",
              "4                       Pope Francis Just Called Out Donald Trump During His Christmas Speech  ...   Pope Francis Just Called Out Donald Trump During His Christmas Speech Pope Francis used his annual Christmas Day message to rebuke Donald Trump without even mentioning his name. The Pope delivered his message just days after members of the United Nations condemned Trump s move to recognize Jerusalem as the capital of Israel. The Pontiff prayed on Monday for the  peaceful coexistence of two states within mutually agreed and internationally recognized borders. We see Jesus in the children of the Middle East who continue to suffer because of growing tensions between Israelis and Palestinians,  Francis said.  On this festive day, let us ask the Lord for peace for Jerusalem and for all the Holy Land. Let us pray that the will to resume dialogue may prevail between the parties and that a ne...\n",
              "\n",
              "[5 rows x 4 columns]"
            ]
          },
          "metadata": {},
          "execution_count": 26
        }
      ]
    },
    {
      "cell_type": "code",
      "metadata": {
        "colab": {
          "base_uri": "https://localhost:8080/",
          "height": 727
        },
        "id": "JIRezZXrnFfj",
        "outputId": "9c8fed1c-3414-4517-97ec-b5299f577cc0"
      },
      "source": [
        "# dropping unnecessary columns. \n",
        "df.drop(['title', 'text'], axis = 1, inplace=True)\n",
        "df.head()"
      ],
      "execution_count": 27,
      "outputs": [
        {
          "output_type": "execute_result",
          "data": {
            "text/html": [
              "<div>\n",
              "<style scoped>\n",
              "    .dataframe tbody tr th:only-of-type {\n",
              "        vertical-align: middle;\n",
              "    }\n",
              "\n",
              "    .dataframe tbody tr th {\n",
              "        vertical-align: top;\n",
              "    }\n",
              "\n",
              "    .dataframe thead th {\n",
              "        text-align: right;\n",
              "    }\n",
              "</style>\n",
              "<table border=\"1\" class=\"dataframe\">\n",
              "  <thead>\n",
              "    <tr style=\"text-align: right;\">\n",
              "      <th></th>\n",
              "      <th>label</th>\n",
              "      <th>combine</th>\n",
              "    </tr>\n",
              "  </thead>\n",
              "  <tbody>\n",
              "    <tr>\n",
              "      <th>0</th>\n",
              "      <td>0</td>\n",
              "      <td>Donald Trump Sends Out Embarrassing New Year’s Eve Message; This is Disturbing Donald Trump just couldn t wish all Americans a Happy New Year and leave it at that. Instead, he had to give a shout out to his enemies, haters and  the very dishonest fake news media.  The former reality show star had just one job to do and he couldn t do it. As our Country rapidly grows stronger and smarter, I want to wish all of my friends, supporters, enemies, haters, and even the very dishonest Fake News Media, a Happy and Healthy New Year,  President Angry Pants tweeted.  2018 will be a great year for America! As our Country rapidly grows stronger and smarter, I want to wish all of my friends, supporters, enemies, haters, and even the very dishonest Fake News Media, a Happy and Healthy New Year. 2018 ...</td>\n",
              "    </tr>\n",
              "    <tr>\n",
              "      <th>1</th>\n",
              "      <td>0</td>\n",
              "      <td>Drunk Bragging Trump Staffer Started Russian Collusion Investigation House Intelligence Committee Chairman Devin Nunes is going to have a bad day. He s been under the assumption, like many of us, that the Christopher Steele-dossier was what prompted the Russia investigation so he s been lashing out at the Department of Justice and the FBI in order to protect Trump. As it happens, the dossier is not what started the investigation, according to documents obtained by the New York Times.Former Trump campaign adviser George Papadopoulos was drunk in a wine bar when he revealed knowledge of Russian opposition research on Hillary Clinton.On top of that, Papadopoulos wasn t just a covfefe boy for Trump, as his administration has alleged. He had a much larger role, but none so damning as being...</td>\n",
              "    </tr>\n",
              "    <tr>\n",
              "      <th>2</th>\n",
              "      <td>0</td>\n",
              "      <td>Sheriff David Clarke Becomes An Internet Joke For Threatening To Poke People ‘In The Eye’ On Friday, it was revealed that former Milwaukee Sheriff David Clarke, who was being considered for Homeland Security Secretary in Donald Trump s administration, has an email scandal of his own.In January, there was a brief run-in on a plane between Clarke and fellow passenger Dan Black, who he later had detained by the police for no reason whatsoever, except that maybe his feelings were hurt. Clarke messaged the police to stop Black after he deplaned, and now, a search warrant has been executed by the FBI to see the exchanges.Clarke is calling it fake news even though copies of the search warrant are on the Internet. I am UNINTIMIDATED by lib media attempts to smear and discredit me with their F...</td>\n",
              "    </tr>\n",
              "    <tr>\n",
              "      <th>3</th>\n",
              "      <td>0</td>\n",
              "      <td>Trump Is So Obsessed He Even Has Obama’s Name Coded Into His Website (IMAGES) On Christmas day, Donald Trump announced that he would  be back to work  the following day, but he is golfing for the fourth day in a row. The former reality show star blasted former President Barack Obama for playing golf and now Trump is on track to outpace the number of golf games his predecessor played.Updated my tracker of Trump s appearances at Trump properties.71 rounds of golf including today s. At this pace, he ll pass Obama s first-term total by July 24 next year. https://t.co/Fg7VacxRtJ pic.twitter.com/5gEMcjQTbH  Philip Bump (@pbump) December 29, 2017 That makes what a Washington Post reporter discovered on Trump s website really weird, but everything about this administration is bizarre AF. The ...</td>\n",
              "    </tr>\n",
              "    <tr>\n",
              "      <th>4</th>\n",
              "      <td>0</td>\n",
              "      <td>Pope Francis Just Called Out Donald Trump During His Christmas Speech Pope Francis used his annual Christmas Day message to rebuke Donald Trump without even mentioning his name. The Pope delivered his message just days after members of the United Nations condemned Trump s move to recognize Jerusalem as the capital of Israel. The Pontiff prayed on Monday for the  peaceful coexistence of two states within mutually agreed and internationally recognized borders. We see Jesus in the children of the Middle East who continue to suffer because of growing tensions between Israelis and Palestinians,  Francis said.  On this festive day, let us ask the Lord for peace for Jerusalem and for all the Holy Land. Let us pray that the will to resume dialogue may prevail between the parties and that a ne...</td>\n",
              "    </tr>\n",
              "  </tbody>\n",
              "</table>\n",
              "</div>"
            ],
            "text/plain": [
              "   label                                                                                                                                                                                                                                                                                                                                                                                                                                                                                                                                                                                                                                                                                                                                                                                                                          combine\n",
              "0      0   Donald Trump Sends Out Embarrassing New Year’s Eve Message; This is Disturbing Donald Trump just couldn t wish all Americans a Happy New Year and leave it at that. Instead, he had to give a shout out to his enemies, haters and  the very dishonest fake news media.  The former reality show star had just one job to do and he couldn t do it. As our Country rapidly grows stronger and smarter, I want to wish all of my friends, supporters, enemies, haters, and even the very dishonest Fake News Media, a Happy and Healthy New Year,  President Angry Pants tweeted.  2018 will be a great year for America! As our Country rapidly grows stronger and smarter, I want to wish all of my friends, supporters, enemies, haters, and even the very dishonest Fake News Media, a Happy and Healthy New Year. 2018 ...\n",
              "1      0   Drunk Bragging Trump Staffer Started Russian Collusion Investigation House Intelligence Committee Chairman Devin Nunes is going to have a bad day. He s been under the assumption, like many of us, that the Christopher Steele-dossier was what prompted the Russia investigation so he s been lashing out at the Department of Justice and the FBI in order to protect Trump. As it happens, the dossier is not what started the investigation, according to documents obtained by the New York Times.Former Trump campaign adviser George Papadopoulos was drunk in a wine bar when he revealed knowledge of Russian opposition research on Hillary Clinton.On top of that, Papadopoulos wasn t just a covfefe boy for Trump, as his administration has alleged. He had a much larger role, but none so damning as being...\n",
              "2      0   Sheriff David Clarke Becomes An Internet Joke For Threatening To Poke People ‘In The Eye’ On Friday, it was revealed that former Milwaukee Sheriff David Clarke, who was being considered for Homeland Security Secretary in Donald Trump s administration, has an email scandal of his own.In January, there was a brief run-in on a plane between Clarke and fellow passenger Dan Black, who he later had detained by the police for no reason whatsoever, except that maybe his feelings were hurt. Clarke messaged the police to stop Black after he deplaned, and now, a search warrant has been executed by the FBI to see the exchanges.Clarke is calling it fake news even though copies of the search warrant are on the Internet. I am UNINTIMIDATED by lib media attempts to smear and discredit me with their F...\n",
              "3      0   Trump Is So Obsessed He Even Has Obama’s Name Coded Into His Website (IMAGES) On Christmas day, Donald Trump announced that he would  be back to work  the following day, but he is golfing for the fourth day in a row. The former reality show star blasted former President Barack Obama for playing golf and now Trump is on track to outpace the number of golf games his predecessor played.Updated my tracker of Trump s appearances at Trump properties.71 rounds of golf including today s. At this pace, he ll pass Obama s first-term total by July 24 next year. https://t.co/Fg7VacxRtJ pic.twitter.com/5gEMcjQTbH  Philip Bump (@pbump) December 29, 2017 That makes what a Washington Post reporter discovered on Trump s website really weird, but everything about this administration is bizarre AF. The ...\n",
              "4      0   Pope Francis Just Called Out Donald Trump During His Christmas Speech Pope Francis used his annual Christmas Day message to rebuke Donald Trump without even mentioning his name. The Pope delivered his message just days after members of the United Nations condemned Trump s move to recognize Jerusalem as the capital of Israel. The Pontiff prayed on Monday for the  peaceful coexistence of two states within mutually agreed and internationally recognized borders. We see Jesus in the children of the Middle East who continue to suffer because of growing tensions between Israelis and Palestinians,  Francis said.  On this festive day, let us ask the Lord for peace for Jerusalem and for all the Holy Land. Let us pray that the will to resume dialogue may prevail between the parties and that a ne..."
            ]
          },
          "metadata": {},
          "execution_count": 27
        }
      ]
    },
    {
      "cell_type": "code",
      "metadata": {
        "id": "ZZQgRhP2nFkR"
      },
      "source": [
        "# Cleaning Raw tweets\n",
        "def clean_text(text):\n",
        "    \n",
        "    #remove emails\n",
        "    text = ' '.join([i for i in text.split() if '@' not in i])\n",
        "    \n",
        "    #remove web address\n",
        "    text = re.sub('http[s]?://\\S+', '', text)\n",
        "\n",
        "    #remove brackets and parantheses (and removing the text inside the brackets and parantheses)\n",
        "    text = re.sub(\"[\\(\\[].*?[\\)\\]]\", \"\", text)\n",
        "    \n",
        "    #remove punctuations\n",
        "    text = re.sub(r'[^\\w\\s]', ' ', text)\n",
        "    \n",
        "    #Filter to allow only alphabets\n",
        "    text = re.sub(r'[^a-zA-Z\\']', ' ', text)\n",
        "    \n",
        "    #Remove Unicode characters\n",
        "    text = re.sub(r'[^\\x00-\\x7F]+', '', text)\n",
        "\n",
        "    #remove double spaces \n",
        "    text = re.sub('\\s+', ' ', text)\n",
        "    \n",
        "    return text"
      ],
      "execution_count": 28,
      "outputs": []
    },
    {
      "cell_type": "code",
      "metadata": {
        "colab": {
          "base_uri": "https://localhost:8080/",
          "height": 1000
        },
        "id": "Wob0NrhtnFm4",
        "outputId": "663f476e-8f7b-46df-b11b-b6d8e08ef447"
      },
      "source": [
        "# applying that into function.\n",
        "df[\"text\"] = df['combine'].apply(lambda x: clean_text(x))\n",
        "df.head(10)"
      ],
      "execution_count": 29,
      "outputs": [
        {
          "output_type": "execute_result",
          "data": {
            "text/html": [
              "<div>\n",
              "<style scoped>\n",
              "    .dataframe tbody tr th:only-of-type {\n",
              "        vertical-align: middle;\n",
              "    }\n",
              "\n",
              "    .dataframe tbody tr th {\n",
              "        vertical-align: top;\n",
              "    }\n",
              "\n",
              "    .dataframe thead th {\n",
              "        text-align: right;\n",
              "    }\n",
              "</style>\n",
              "<table border=\"1\" class=\"dataframe\">\n",
              "  <thead>\n",
              "    <tr style=\"text-align: right;\">\n",
              "      <th></th>\n",
              "      <th>label</th>\n",
              "      <th>combine</th>\n",
              "      <th>text</th>\n",
              "    </tr>\n",
              "  </thead>\n",
              "  <tbody>\n",
              "    <tr>\n",
              "      <th>0</th>\n",
              "      <td>0</td>\n",
              "      <td>Donald Trump Sends Out Embarrassing New Year’s Eve Message; This is Disturbing Donald Trump just couldn t wish all Americans a Happy New Year and leave it at that. Instead, he had to give a shout out to his enemies, haters and  the very dishonest fake news media.  The former reality show star had just one job to do and he couldn t do it. As our Country rapidly grows stronger and smarter, I want to wish all of my friends, supporters, enemies, haters, and even the very dishonest Fake News Media, a Happy and Healthy New Year,  President Angry Pants tweeted.  2018 will be a great year for America! As our Country rapidly grows stronger and smarter, I want to wish all of my friends, supporters, enemies, haters, and even the very dishonest Fake News Media, a Happy and Healthy New Year. 2018 ...</td>\n",
              "      <td>Donald Trump Sends Out Embarrassing New Year s Eve Message This is Disturbing Donald Trump just couldn t wish all Americans a Happy New Year and leave it at that Instead he had to give a shout out to his enemies haters and the very dishonest fake news media The former reality show star had just one job to do and he couldn t do it As our Country rapidly grows stronger and smarter I want to wish all of my friends supporters enemies haters and even the very dishonest Fake News Media a Happy and Healthy New Year President Angry Pants tweeted will be a great year for America As our Country rapidly grows stronger and smarter I want to wish all of my friends supporters enemies haters and even the very dishonest Fake News Media a Happy and Healthy New Year will be a great year for America Dona...</td>\n",
              "    </tr>\n",
              "    <tr>\n",
              "      <th>1</th>\n",
              "      <td>0</td>\n",
              "      <td>Drunk Bragging Trump Staffer Started Russian Collusion Investigation House Intelligence Committee Chairman Devin Nunes is going to have a bad day. He s been under the assumption, like many of us, that the Christopher Steele-dossier was what prompted the Russia investigation so he s been lashing out at the Department of Justice and the FBI in order to protect Trump. As it happens, the dossier is not what started the investigation, according to documents obtained by the New York Times.Former Trump campaign adviser George Papadopoulos was drunk in a wine bar when he revealed knowledge of Russian opposition research on Hillary Clinton.On top of that, Papadopoulos wasn t just a covfefe boy for Trump, as his administration has alleged. He had a much larger role, but none so damning as being...</td>\n",
              "      <td>Drunk Bragging Trump Staffer Started Russian Collusion Investigation House Intelligence Committee Chairman Devin Nunes is going to have a bad day He s been under the assumption like many of us that the Christopher Steele dossier was what prompted the Russia investigation so he s been lashing out at the Department of Justice and the FBI in order to protect Trump As it happens the dossier is not what started the investigation according to documents obtained by the New York Times Former Trump campaign adviser George Papadopoulos was drunk in a wine bar when he revealed knowledge of Russian opposition research on Hillary Clinton On top of that Papadopoulos wasn t just a covfefe boy for Trump as his administration has alleged He had a much larger role but none so damning as being a drunken ...</td>\n",
              "    </tr>\n",
              "    <tr>\n",
              "      <th>2</th>\n",
              "      <td>0</td>\n",
              "      <td>Sheriff David Clarke Becomes An Internet Joke For Threatening To Poke People ‘In The Eye’ On Friday, it was revealed that former Milwaukee Sheriff David Clarke, who was being considered for Homeland Security Secretary in Donald Trump s administration, has an email scandal of his own.In January, there was a brief run-in on a plane between Clarke and fellow passenger Dan Black, who he later had detained by the police for no reason whatsoever, except that maybe his feelings were hurt. Clarke messaged the police to stop Black after he deplaned, and now, a search warrant has been executed by the FBI to see the exchanges.Clarke is calling it fake news even though copies of the search warrant are on the Internet. I am UNINTIMIDATED by lib media attempts to smear and discredit me with their F...</td>\n",
              "      <td>Sheriff David Clarke Becomes An Internet Joke For Threatening To Poke People In The Eye On Friday it was revealed that former Milwaukee Sheriff David Clarke who was being considered for Homeland Security Secretary in Donald Trump s administration has an email scandal of his own In January there was a brief run in on a plane between Clarke and fellow passenger Dan Black who he later had detained by the police for no reason whatsoever except that maybe his feelings were hurt Clarke messaged the police to stop Black after he deplaned and now a search warrant has been executed by the FBI to see the exchanges Clarke is calling it fake news even though copies of the search warrant are on the Internet I am UNINTIMIDATED by lib media attempts to smear and discredit me with their FAKE NEWS repo...</td>\n",
              "    </tr>\n",
              "    <tr>\n",
              "      <th>3</th>\n",
              "      <td>0</td>\n",
              "      <td>Trump Is So Obsessed He Even Has Obama’s Name Coded Into His Website (IMAGES) On Christmas day, Donald Trump announced that he would  be back to work  the following day, but he is golfing for the fourth day in a row. The former reality show star blasted former President Barack Obama for playing golf and now Trump is on track to outpace the number of golf games his predecessor played.Updated my tracker of Trump s appearances at Trump properties.71 rounds of golf including today s. At this pace, he ll pass Obama s first-term total by July 24 next year. https://t.co/Fg7VacxRtJ pic.twitter.com/5gEMcjQTbH  Philip Bump (@pbump) December 29, 2017 That makes what a Washington Post reporter discovered on Trump s website really weird, but everything about this administration is bizarre AF. The ...</td>\n",
              "      <td>Trump Is So Obsessed He Even Has Obama s Name Coded Into His Website On Christmas day Donald Trump announced that he would be back to work the following day but he is golfing for the fourth day in a row The former reality show star blasted former President Barack Obama for playing golf and now Trump is on track to outpace the number of golf games his predecessor played Updated my tracker of Trump s appearances at Trump properties rounds of golf including today s At this pace he ll pass Obama s first term total by July next year pic twitter com gEMcjQTbH Philip Bump December That makes what a Washington Post reporter discovered on Trump s website really weird but everything about this administration is bizarre AF The coding contained a reference to Obama and golf Unlike Obama we are wor...</td>\n",
              "    </tr>\n",
              "    <tr>\n",
              "      <th>4</th>\n",
              "      <td>0</td>\n",
              "      <td>Pope Francis Just Called Out Donald Trump During His Christmas Speech Pope Francis used his annual Christmas Day message to rebuke Donald Trump without even mentioning his name. The Pope delivered his message just days after members of the United Nations condemned Trump s move to recognize Jerusalem as the capital of Israel. The Pontiff prayed on Monday for the  peaceful coexistence of two states within mutually agreed and internationally recognized borders. We see Jesus in the children of the Middle East who continue to suffer because of growing tensions between Israelis and Palestinians,  Francis said.  On this festive day, let us ask the Lord for peace for Jerusalem and for all the Holy Land. Let us pray that the will to resume dialogue may prevail between the parties and that a ne...</td>\n",
              "      <td>Pope Francis Just Called Out Donald Trump During His Christmas Speech Pope Francis used his annual Christmas Day message to rebuke Donald Trump without even mentioning his name The Pope delivered his message just days after members of the United Nations condemned Trump s move to recognize Jerusalem as the capital of Israel The Pontiff prayed on Monday for the peaceful coexistence of two states within mutually agreed and internationally recognized borders We see Jesus in the children of the Middle East who continue to suffer because of growing tensions between Israelis and Palestinians Francis said On this festive day let us ask the Lord for peace for Jerusalem and for all the Holy Land Let us pray that the will to resume dialogue may prevail between the parties and that a negotiated so...</td>\n",
              "    </tr>\n",
              "    <tr>\n",
              "      <th>5</th>\n",
              "      <td>0</td>\n",
              "      <td>Racist Alabama Cops Brutalize Black Boy While He Is In Handcuffs (GRAPHIC IMAGES) The number of cases of cops brutalizing and killing people of color seems to see no end. Now, we have another case that needs to be shared far and wide. An Alabama woman by the name of Angela Williams shared a graphic photo of her son, lying in a hospital bed with a beaten and fractured face, on Facebook. It needs to be shared far and wide, because this is unacceptable.It is unclear why Williams  son was in police custody or what sort of altercation resulted in his arrest, but when you see the photo you will realize that these details matter not. Cops are not supposed to beat and brutalize those in their custody. In the post you are about to see, Ms. Williams expresses her hope that the cops had their bo...</td>\n",
              "      <td>Racist Alabama Cops Brutalize Black Boy While He Is In Handcuffs The number of cases of cops brutalizing and killing people of color seems to see no end Now we have another case that needs to be shared far and wide An Alabama woman by the name of Angela Williams shared a graphic photo of her son lying in a hospital bed with a beaten and fractured face on Facebook It needs to be shared far and wide because this is unacceptable It is unclear why Williams son was in police custody or what sort of altercation resulted in his arrest but when you see the photo you will realize that these details matter not Cops are not supposed to beat and brutalize those in their custody In the post you are about to see Ms Williams expresses her hope that the cops had their body cameras on while they were b...</td>\n",
              "    </tr>\n",
              "    <tr>\n",
              "      <th>6</th>\n",
              "      <td>0</td>\n",
              "      <td>Fresh Off The Golf Course, Trump Lashes Out At FBI Deputy Director And James Comey Donald Trump spent a good portion of his day at his golf club, marking the 84th day he s done so since taking the oath of office. It must have been a bad game because just after that, Trump lashed out at FBI Deputy Director Andrew McCabe on Twitter following a report saying McCabe plans to retire in a few months. The report follows McCabe s testimony in front of congressional committees this week, as well as mounting criticism from Republicans regarding the Russia probe.So, naturally, Trump attacked McCabe with a lie. How can FBI Deputy Director Andrew McCabe, the man in charge, along with leakin  James Comey, of the Phony Hillary Clinton investigation (including her 33,000 illegally deleted emails) be ...</td>\n",
              "      <td>Fresh Off The Golf Course Trump Lashes Out At FBI Deputy Director And James Comey Donald Trump spent a good portion of his day at his golf club marking the th day he s done so since taking the oath of office It must have been a bad game because just after that Trump lashed out at FBI Deputy Director Andrew McCabe on Twitter following a report saying McCabe plans to retire in a few months The report follows McCabe s testimony in front of congressional committees this week as well as mounting criticism from Republicans regarding the Russia probe So naturally Trump attacked McCabe with a lie How can FBI Deputy Director Andrew McCabe the man in charge along with leakin James Comey of the Phony Hillary Clinton investigation be given for wife s campaign by Clinton Puppets during investigatio...</td>\n",
              "    </tr>\n",
              "    <tr>\n",
              "      <th>7</th>\n",
              "      <td>0</td>\n",
              "      <td>Trump Said Some INSANELY Racist Stuff Inside The Oval Office, And Witnesses Back It Up In the wake of yet another court decision that derailed Donald Trump s plan to bar Muslims from entering the United States, the New York Times published a report on Saturday morning detailing the president s frustration at not getting his way   and how far back that frustration goes.According to the article, back in June, Trump stomped into the Oval Office, furious about the state of the travel ban, which he thought would be implemented and fully in place by then. Instead, he fumed, visas had already been issued to immigrants at such a rate that his  friends were calling to say he looked like a fool  after making his broad pronouncements.It was then that Trump began reading from a document that a to...</td>\n",
              "      <td>Trump Said Some INSANELY Racist Stuff Inside The Oval Office And Witnesses Back It Up In the wake of yet another court decision that derailed Donald Trump s plan to bar Muslims from entering the United States the New York Times published a report on Saturday morning detailing the president s frustration at not getting his way and how far back that frustration goes According to the article back in June Trump stomped into the Oval Office furious about the state of the travel ban which he thought would be implemented and fully in place by then Instead he fumed visas had already been issued to immigrants at such a rate that his friends were calling to say he looked like a fool after making his broad pronouncements It was then that Trump began reading from a document that a top advisor note...</td>\n",
              "    </tr>\n",
              "    <tr>\n",
              "      <th>8</th>\n",
              "      <td>0</td>\n",
              "      <td>Former CIA Director Slams Trump Over UN Bullying, Openly Suggests He’s Acting Like A Dictator (TWEET) Many people have raised the alarm regarding the fact that Donald Trump is dangerously close to becoming an autocrat. The thing is, democracies become autocracies right under the people s noses, because they can often look like democracies in the beginning phases. This was explained by Republican David Frum just a couple of months into Donald Trump s presidency, in a piece in The Atlantic called  How to Build an Autocracy. In fact, if you really look critically at what is happening right now   the systematic discrediting of vital institutions such as the free press and the Federal Bureau of Investigation as well the direct weaponization of the Department of Justice in order to go after...</td>\n",
              "      <td>Former CIA Director Slams Trump Over UN Bullying Openly Suggests He s Acting Like A Dictator Many people have raised the alarm regarding the fact that Donald Trump is dangerously close to becoming an autocrat The thing is democracies become autocracies right under the people s noses because they can often look like democracies in the beginning phases This was explained by Republican David Frum just a couple of months into Donald Trump s presidency in a piece in The Atlantic called How to Build an Autocracy In fact if you really look critically at what is happening right now the systematic discrediting of vital institutions such as the free press and the Federal Bureau of Investigation as well the direct weaponization of the Department of Justice in order to go after Trump s former poli...</td>\n",
              "    </tr>\n",
              "    <tr>\n",
              "      <th>9</th>\n",
              "      <td>0</td>\n",
              "      <td>Brand-New Pro-Trump Ad Features So Much A** Kissing It Will Make You Sick Just when you might have thought we d get a break from watching people kiss Donald Trump s ass and stroke his ego ad nauseam, a pro-Trump group creates an ad that s nothing but people doing even more of those exact things. America First Policies is set to release this ad, called  Thank You, President Trump,  on Christmas Day and, well, we threw up a little in our mouths trying to watch this.Basically, the spot is nothing but people fawning all over Trump for all the stuff he hasn t actually done. The ad includes a scene with a little girl thanking Trump for bringing back  Merry Christmas,  which never went away (there are even videos of President Obama saying  Merry Christmas  himself). A man thanks him for cut...</td>\n",
              "      <td>Brand New Pro Trump Ad Features So Much A Kissing It Will Make You Sick Just when you might have thought we d get a break from watching people kiss Donald Trump s ass and stroke his ego ad nauseam a pro Trump group creates an ad that s nothing but people doing even more of those exact things America First Policies is set to release this ad called Thank You President Trump on Christmas Day and well we threw up a little in our mouths trying to watch this Basically the spot is nothing but people fawning all over Trump for all the stuff he hasn t actually done The ad includes a scene with a little girl thanking Trump for bringing back Merry Christmas which never went away A man thanks him for cutting his taxes And America First says that everyday Americans everywhere are thanking Trump for...</td>\n",
              "    </tr>\n",
              "  </tbody>\n",
              "</table>\n",
              "</div>"
            ],
            "text/plain": [
              "   label  ...                                                                                                                                                                                                                                                                                                                                                                                                                                                                                                                                                                                                                                                                                                                                                                                                                             text\n",
              "0      0  ...  Donald Trump Sends Out Embarrassing New Year s Eve Message This is Disturbing Donald Trump just couldn t wish all Americans a Happy New Year and leave it at that Instead he had to give a shout out to his enemies haters and the very dishonest fake news media The former reality show star had just one job to do and he couldn t do it As our Country rapidly grows stronger and smarter I want to wish all of my friends supporters enemies haters and even the very dishonest Fake News Media a Happy and Healthy New Year President Angry Pants tweeted will be a great year for America As our Country rapidly grows stronger and smarter I want to wish all of my friends supporters enemies haters and even the very dishonest Fake News Media a Happy and Healthy New Year will be a great year for America Dona...\n",
              "1      0  ...  Drunk Bragging Trump Staffer Started Russian Collusion Investigation House Intelligence Committee Chairman Devin Nunes is going to have a bad day He s been under the assumption like many of us that the Christopher Steele dossier was what prompted the Russia investigation so he s been lashing out at the Department of Justice and the FBI in order to protect Trump As it happens the dossier is not what started the investigation according to documents obtained by the New York Times Former Trump campaign adviser George Papadopoulos was drunk in a wine bar when he revealed knowledge of Russian opposition research on Hillary Clinton On top of that Papadopoulos wasn t just a covfefe boy for Trump as his administration has alleged He had a much larger role but none so damning as being a drunken ...\n",
              "2      0  ...  Sheriff David Clarke Becomes An Internet Joke For Threatening To Poke People In The Eye On Friday it was revealed that former Milwaukee Sheriff David Clarke who was being considered for Homeland Security Secretary in Donald Trump s administration has an email scandal of his own In January there was a brief run in on a plane between Clarke and fellow passenger Dan Black who he later had detained by the police for no reason whatsoever except that maybe his feelings were hurt Clarke messaged the police to stop Black after he deplaned and now a search warrant has been executed by the FBI to see the exchanges Clarke is calling it fake news even though copies of the search warrant are on the Internet I am UNINTIMIDATED by lib media attempts to smear and discredit me with their FAKE NEWS repo...\n",
              "3      0  ...  Trump Is So Obsessed He Even Has Obama s Name Coded Into His Website On Christmas day Donald Trump announced that he would be back to work the following day but he is golfing for the fourth day in a row The former reality show star blasted former President Barack Obama for playing golf and now Trump is on track to outpace the number of golf games his predecessor played Updated my tracker of Trump s appearances at Trump properties rounds of golf including today s At this pace he ll pass Obama s first term total by July next year pic twitter com gEMcjQTbH Philip Bump December That makes what a Washington Post reporter discovered on Trump s website really weird but everything about this administration is bizarre AF The coding contained a reference to Obama and golf Unlike Obama we are wor...\n",
              "4      0  ...  Pope Francis Just Called Out Donald Trump During His Christmas Speech Pope Francis used his annual Christmas Day message to rebuke Donald Trump without even mentioning his name The Pope delivered his message just days after members of the United Nations condemned Trump s move to recognize Jerusalem as the capital of Israel The Pontiff prayed on Monday for the peaceful coexistence of two states within mutually agreed and internationally recognized borders We see Jesus in the children of the Middle East who continue to suffer because of growing tensions between Israelis and Palestinians Francis said On this festive day let us ask the Lord for peace for Jerusalem and for all the Holy Land Let us pray that the will to resume dialogue may prevail between the parties and that a negotiated so...\n",
              "5      0  ...  Racist Alabama Cops Brutalize Black Boy While He Is In Handcuffs The number of cases of cops brutalizing and killing people of color seems to see no end Now we have another case that needs to be shared far and wide An Alabama woman by the name of Angela Williams shared a graphic photo of her son lying in a hospital bed with a beaten and fractured face on Facebook It needs to be shared far and wide because this is unacceptable It is unclear why Williams son was in police custody or what sort of altercation resulted in his arrest but when you see the photo you will realize that these details matter not Cops are not supposed to beat and brutalize those in their custody In the post you are about to see Ms Williams expresses her hope that the cops had their body cameras on while they were b...\n",
              "6      0  ...  Fresh Off The Golf Course Trump Lashes Out At FBI Deputy Director And James Comey Donald Trump spent a good portion of his day at his golf club marking the th day he s done so since taking the oath of office It must have been a bad game because just after that Trump lashed out at FBI Deputy Director Andrew McCabe on Twitter following a report saying McCabe plans to retire in a few months The report follows McCabe s testimony in front of congressional committees this week as well as mounting criticism from Republicans regarding the Russia probe So naturally Trump attacked McCabe with a lie How can FBI Deputy Director Andrew McCabe the man in charge along with leakin James Comey of the Phony Hillary Clinton investigation be given for wife s campaign by Clinton Puppets during investigatio...\n",
              "7      0  ...  Trump Said Some INSANELY Racist Stuff Inside The Oval Office And Witnesses Back It Up In the wake of yet another court decision that derailed Donald Trump s plan to bar Muslims from entering the United States the New York Times published a report on Saturday morning detailing the president s frustration at not getting his way and how far back that frustration goes According to the article back in June Trump stomped into the Oval Office furious about the state of the travel ban which he thought would be implemented and fully in place by then Instead he fumed visas had already been issued to immigrants at such a rate that his friends were calling to say he looked like a fool after making his broad pronouncements It was then that Trump began reading from a document that a top advisor note...\n",
              "8      0  ...  Former CIA Director Slams Trump Over UN Bullying Openly Suggests He s Acting Like A Dictator Many people have raised the alarm regarding the fact that Donald Trump is dangerously close to becoming an autocrat The thing is democracies become autocracies right under the people s noses because they can often look like democracies in the beginning phases This was explained by Republican David Frum just a couple of months into Donald Trump s presidency in a piece in The Atlantic called How to Build an Autocracy In fact if you really look critically at what is happening right now the systematic discrediting of vital institutions such as the free press and the Federal Bureau of Investigation as well the direct weaponization of the Department of Justice in order to go after Trump s former poli...\n",
              "9      0  ...  Brand New Pro Trump Ad Features So Much A Kissing It Will Make You Sick Just when you might have thought we d get a break from watching people kiss Donald Trump s ass and stroke his ego ad nauseam a pro Trump group creates an ad that s nothing but people doing even more of those exact things America First Policies is set to release this ad called Thank You President Trump on Christmas Day and well we threw up a little in our mouths trying to watch this Basically the spot is nothing but people fawning all over Trump for all the stuff he hasn t actually done The ad includes a scene with a little girl thanking Trump for bringing back Merry Christmas which never went away A man thanks him for cutting his taxes And America First says that everyday Americans everywhere are thanking Trump for...\n",
              "\n",
              "[10 rows x 3 columns]"
            ]
          },
          "metadata": {},
          "execution_count": 29
        }
      ]
    },
    {
      "cell_type": "code",
      "metadata": {
        "id": "kHS6qp91pVTU"
      },
      "source": [
        "# dropping the uncleaned text column \"combine\"\n",
        "df = df.drop(['combine'], axis=1)"
      ],
      "execution_count": 30,
      "outputs": []
    },
    {
      "cell_type": "markdown",
      "metadata": {
        "id": "zaf9BeJZ8pBz"
      },
      "source": [
        "### DATA PREPROCESSING (LEMMATIZATION)"
      ]
    },
    {
      "cell_type": "code",
      "metadata": {
        "id": "kD1JowJ8pVWv"
      },
      "source": [
        "# preprocessing the data (removing stopwords, convert the sentence to lower case, and also applying lemmatization to get meaningful words )\n",
        "from nltk.corpus import stopwords\n",
        "from nltk.stem import WordNetLemmatizer\n",
        "wnl=WordNetLemmatizer()\n",
        "corpus=[]\n",
        "def clean_text(review):\n",
        "  review = review.lower()\n",
        "  review = review.split()\n",
        "  review = [wnl.lemmatize(word) for word in review if word not in set(stopwords.words('english'))]\n",
        "  review = ' '.join(review)\n",
        "  return review"
      ],
      "execution_count": 31,
      "outputs": []
    },
    {
      "cell_type": "code",
      "metadata": {
        "id": "I5rEBtnTpVaf",
        "colab": {
          "base_uri": "https://localhost:8080/",
          "height": 727
        },
        "outputId": "cb933867-4fc5-4492-893a-582aa736193f"
      },
      "source": [
        "df['text']=df['text'].apply(clean_text)\n",
        "df.head()"
      ],
      "execution_count": 32,
      "outputs": [
        {
          "output_type": "execute_result",
          "data": {
            "text/html": [
              "<div>\n",
              "<style scoped>\n",
              "    .dataframe tbody tr th:only-of-type {\n",
              "        vertical-align: middle;\n",
              "    }\n",
              "\n",
              "    .dataframe tbody tr th {\n",
              "        vertical-align: top;\n",
              "    }\n",
              "\n",
              "    .dataframe thead th {\n",
              "        text-align: right;\n",
              "    }\n",
              "</style>\n",
              "<table border=\"1\" class=\"dataframe\">\n",
              "  <thead>\n",
              "    <tr style=\"text-align: right;\">\n",
              "      <th></th>\n",
              "      <th>label</th>\n",
              "      <th>text</th>\n",
              "    </tr>\n",
              "  </thead>\n",
              "  <tbody>\n",
              "    <tr>\n",
              "      <th>0</th>\n",
              "      <td>0</td>\n",
              "      <td>donald trump sends embarrassing new year eve message disturbing donald trump wish american happy new year leave instead give shout enemy hater dishonest fake news medium former reality show star one job country rapidly grows stronger smarter want wish friend supporter enemy hater even dishonest fake news medium happy healthy new year president angry pant tweeted great year america country rapidly grows stronger smarter want wish friend supporter enemy hater even dishonest fake news medium happy healthy new year great year america donald j trump december trump tweet went welll expect kind president sends new year greeting like despicable petty infantile gibberish trump lack decency even allow rise gutter long enough wish american citizen happy new year bishop talbert swan december one l...</td>\n",
              "    </tr>\n",
              "    <tr>\n",
              "      <th>1</th>\n",
              "      <td>0</td>\n",
              "      <td>drunk bragging trump staffer started russian collusion investigation house intelligence committee chairman devin nunes going bad day assumption like many u christopher steele dossier prompted russia investigation lashing department justice fbi order protect trump happens dossier started investigation according document obtained new york time former trump campaign adviser george papadopoulos drunk wine bar revealed knowledge russian opposition research hillary clinton top papadopoulos covfefe boy trump administration alleged much larger role none damning drunken fool wine bar coffee boy help arrange new york meeting trump president abdel fattah el sisi egypt two month election known former aide set meeting world leader trump team trump ran merely coffee boy may papadopoulos revealed aus...</td>\n",
              "    </tr>\n",
              "    <tr>\n",
              "      <th>2</th>\n",
              "      <td>0</td>\n",
              "      <td>sheriff david clarke becomes internet joke threatening poke people eye friday revealed former milwaukee sheriff david clarke considered homeland security secretary donald trump administration email scandal january brief run plane clarke fellow passenger dan black later detained police reason whatsoever except maybe feeling hurt clarke messaged police stop black deplaned search warrant executed fbi see exchange clarke calling fake news even though copy search warrant internet unintimidated lib medium attempt smear discredit fake news report designed silence former sheriff tweeted continue poke eye sharp stick bitch slap scum bag til get attacked better people maga unintimidated lib medium attempt smear discredit fake news report designed silence continue poke eye sharp stick bitch slap ...</td>\n",
              "    </tr>\n",
              "    <tr>\n",
              "      <th>3</th>\n",
              "      <td>0</td>\n",
              "      <td>trump obsessed even obama name coded website christmas day donald trump announced would back work following day golfing fourth day row former reality show star blasted former president barack obama playing golf trump track outpace number golf game predecessor played updated tracker trump appearance trump property round golf including today pace pas obama first term total july next year pic twitter com gemcjqtbh philip bump december make washington post reporter discovered trump website really weird everything administration bizarre af coding contained reference obama golf unlike obama working fix problem golf course however coding done correctly website donald trump spent several day row golf course coded serve following message event internal server error pic twitter com wiqsqnnzw chr...</td>\n",
              "    </tr>\n",
              "    <tr>\n",
              "      <th>4</th>\n",
              "      <td>0</td>\n",
              "      <td>pope francis called donald trump christmas speech pope francis used annual christmas day message rebuke donald trump without even mentioning name pope delivered message day member united nation condemned trump move recognize jerusalem capital israel pontiff prayed monday peaceful coexistence two state within mutually agreed internationally recognized border see jesus child middle east continue suffer growing tension israeli palestinian francis said festive day let u ask lord peace jerusalem holy land let u pray resume dialogue may prevail party negotiated solution finally reached pope went plead acceptance refugee forced home issue trump continues fight francis used jesus place inn analogy today wind war blowing world outdated model development continues produce human societal environm...</td>\n",
              "    </tr>\n",
              "  </tbody>\n",
              "</table>\n",
              "</div>"
            ],
            "text/plain": [
              "   label                                                                                                                                                                                                                                                                                                                                                                                                                                                                                                                                                                                                                                                                                                                                                                                                                             text\n",
              "0      0  donald trump sends embarrassing new year eve message disturbing donald trump wish american happy new year leave instead give shout enemy hater dishonest fake news medium former reality show star one job country rapidly grows stronger smarter want wish friend supporter enemy hater even dishonest fake news medium happy healthy new year president angry pant tweeted great year america country rapidly grows stronger smarter want wish friend supporter enemy hater even dishonest fake news medium happy healthy new year great year america donald j trump december trump tweet went welll expect kind president sends new year greeting like despicable petty infantile gibberish trump lack decency even allow rise gutter long enough wish american citizen happy new year bishop talbert swan december one l...\n",
              "1      0  drunk bragging trump staffer started russian collusion investigation house intelligence committee chairman devin nunes going bad day assumption like many u christopher steele dossier prompted russia investigation lashing department justice fbi order protect trump happens dossier started investigation according document obtained new york time former trump campaign adviser george papadopoulos drunk wine bar revealed knowledge russian opposition research hillary clinton top papadopoulos covfefe boy trump administration alleged much larger role none damning drunken fool wine bar coffee boy help arrange new york meeting trump president abdel fattah el sisi egypt two month election known former aide set meeting world leader trump team trump ran merely coffee boy may papadopoulos revealed aus...\n",
              "2      0  sheriff david clarke becomes internet joke threatening poke people eye friday revealed former milwaukee sheriff david clarke considered homeland security secretary donald trump administration email scandal january brief run plane clarke fellow passenger dan black later detained police reason whatsoever except maybe feeling hurt clarke messaged police stop black deplaned search warrant executed fbi see exchange clarke calling fake news even though copy search warrant internet unintimidated lib medium attempt smear discredit fake news report designed silence former sheriff tweeted continue poke eye sharp stick bitch slap scum bag til get attacked better people maga unintimidated lib medium attempt smear discredit fake news report designed silence continue poke eye sharp stick bitch slap ...\n",
              "3      0  trump obsessed even obama name coded website christmas day donald trump announced would back work following day golfing fourth day row former reality show star blasted former president barack obama playing golf trump track outpace number golf game predecessor played updated tracker trump appearance trump property round golf including today pace pas obama first term total july next year pic twitter com gemcjqtbh philip bump december make washington post reporter discovered trump website really weird everything administration bizarre af coding contained reference obama golf unlike obama working fix problem golf course however coding done correctly website donald trump spent several day row golf course coded serve following message event internal server error pic twitter com wiqsqnnzw chr...\n",
              "4      0  pope francis called donald trump christmas speech pope francis used annual christmas day message rebuke donald trump without even mentioning name pope delivered message day member united nation condemned trump move recognize jerusalem capital israel pontiff prayed monday peaceful coexistence two state within mutually agreed internationally recognized border see jesus child middle east continue suffer growing tension israeli palestinian francis said festive day let u ask lord peace jerusalem holy land let u pray resume dialogue may prevail party negotiated solution finally reached pope went plead acceptance refugee forced home issue trump continues fight francis used jesus place inn analogy today wind war blowing world outdated model development continues produce human societal environm..."
            ]
          },
          "metadata": {},
          "execution_count": 32
        }
      ]
    },
    {
      "cell_type": "markdown",
      "metadata": {
        "id": "_bssVV0X8x9r"
      },
      "source": [
        "#### WORD VISUALIZATION"
      ]
    },
    {
      "cell_type": "code",
      "metadata": {
        "id": "26TDSJ7HpVfX"
      },
      "source": [
        "from wordcloud import WordCloud, STOPWORDS\n",
        "import matplotlib.pyplot as plt"
      ],
      "execution_count": 33,
      "outputs": []
    },
    {
      "cell_type": "code",
      "metadata": {
        "id": "QU8wGPelpVin",
        "colab": {
          "base_uri": "https://localhost:8080/"
        },
        "outputId": "96f2f58f-fc8c-4202-a4a9-2fc24bde99c0"
      },
      "source": [
        "#making worldcloud\n",
        "from wordcloud import WordCloud, STOPWORDS\n",
        "from nltk.corpus import stopwords\n",
        "stop_words=set(stopwords.words(\"english\"))\n",
        "print(stop_words)"
      ],
      "execution_count": 34,
      "outputs": [
        {
          "output_type": "stream",
          "name": "stdout",
          "text": [
            "{'other', 'm', 'themselves', 'this', 'his', 'me', 'what', 'any', \"doesn't\", 'further', 'then', 'of', 'those', 'against', 'don', 'because', 'yourself', 'on', \"mightn't\", 'or', 'below', \"shan't\", 'did', 'nor', 'in', 'needn', 'wasn', 'your', 'is', 'which', 'up', 'a', 'were', \"aren't\", \"wasn't\", 'so', 'yours', 'to', 'are', 'should', 'very', 'they', \"she's\", 'down', 'was', 'off', 'some', 'an', 'but', 'isn', 'again', 't', 'through', \"should've\", \"mustn't\", 'our', 'that', 'why', 'how', 'have', 'these', 'being', 'not', 'd', 'mustn', 'about', \"won't\", 'as', 'there', 've', 'just', \"hadn't\", 'above', 'most', 'shouldn', 'be', \"hasn't\", 'when', 'herself', 'been', 'my', 'same', \"that'll\", 'the', 'can', 'until', 'them', 'here', 'she', \"weren't\", 'where', 'couldn', \"haven't\", \"isn't\", 'ours', 'you', \"it's\", 'under', 'who', 'he', 'll', 'won', 'ourselves', \"you're\", \"you'd\", 'each', 'will', 'once', 'if', 'her', 'by', 'ma', 'both', 'few', 'mightn', 'himself', 'him', 'and', 'only', 'does', 'before', 'between', 'hers', 'out', 'into', 'had', 'than', \"don't\", 'theirs', 'over', \"needn't\", 'myself', 'o', 'haven', 'after', 'didn', 'shan', 'at', 'am', 'hadn', 'its', 'has', 'whom', 'now', 'it', 'while', \"you'll\", 'having', \"wouldn't\", 'own', 'doesn', 'wouldn', 'itself', \"didn't\", 'with', 'weren', 'during', 're', 'no', \"you've\", \"couldn't\", 'such', 'ain', 'i', 'all', 'do', 'their', 'too', 'yourselves', 's', 'for', 'aren', 'we', 'doing', 'hasn', \"shouldn't\", 'more', 'from', 'y'}\n"
          ]
        }
      ]
    },
    {
      "cell_type": "code",
      "metadata": {
        "id": "x-UruoPPpVlO",
        "colab": {
          "base_uri": "https://localhost:8080/",
          "height": 391
        },
        "outputId": "936138a9-fe49-4c14-c6ff-004d63f40c1c"
      },
      "source": [
        "# visualizing the most frequent words using matplot library\n",
        "comment_words = ' '\n",
        "for words in df['text']: \n",
        "    comment_words = comment_words + words + ' '\n",
        "    \n",
        "wordcloud = WordCloud(width = 600, height = 600, \n",
        "                background_color='white' , \n",
        "                stopwords = stop_words, \n",
        "                min_font_size = 10).generate(comment_words) \n",
        "  \n",
        "# plot the WordCloud image                        \n",
        "plt.figure(figsize = (5, 5), facecolor = None) \n",
        "plt.imshow(wordcloud) \n",
        "plt.axis(\"off\") \n",
        "plt.tight_layout(pad = 0)"
      ],
      "execution_count": 35,
      "outputs": [
        {
          "output_type": "display_data",
          "data": {
            "image/png": "[encoded data removed]",
            "text/plain": [
              "<Figure size 360x360 with 1 Axes>"
            ]
          },
          "metadata": {
            "needs_background": "light"
          }
        }
      ]
    },
    {
      "cell_type": "markdown",
      "metadata": {
        "id": "0IMfRwGY818_"
      },
      "source": [
        "#### FEATURE EXTRACTION USING TF-IDF VECTORIZER"
      ]
    },
    {
      "cell_type": "code",
      "metadata": {
        "id": "FgBJS_BCpVoP"
      },
      "source": [
        "# converting the words into numerical form or vector form.\n",
        "from sklearn.feature_extraction.text import TfidfVectorizer\n",
        "cv=TfidfVectorizer(max_features=5000)\n",
        "x=cv.fit_transform(df['text']).toarray()"
      ],
      "execution_count": 36,
      "outputs": []
    },
    {
      "cell_type": "code",
      "metadata": {
        "id": "jaiXPjufpV1k",
        "colab": {
          "base_uri": "https://localhost:8080/"
        },
        "outputId": "b7e6f4b4-be62-46f9-c424-379b61b80581"
      },
      "source": [
        "y=df['label']\n",
        "y.head()"
      ],
      "execution_count": 37,
      "outputs": [
        {
          "output_type": "execute_result",
          "data": {
            "text/plain": [
              "0    0\n",
              "1    0\n",
              "2    0\n",
              "3    0\n",
              "4    0\n",
              "Name: label, dtype: int64"
            ]
          },
          "metadata": {},
          "execution_count": 37
        }
      ]
    },
    {
      "cell_type": "markdown",
      "metadata": {
        "id": "1kJRW_Jc88G1"
      },
      "source": [
        "#### TRAIN TEST SPLIT"
      ]
    },
    {
      "cell_type": "code",
      "metadata": {
        "id": "X3v9NZPtpV4S"
      },
      "source": [
        "from sklearn.model_selection import train_test_split\n",
        "x_train, x_test, y_train, y_test = train_test_split(x, y, test_size=0.2, random_state=0)"
      ],
      "execution_count": 38,
      "outputs": []
    },
    {
      "cell_type": "markdown",
      "metadata": {
        "id": "vrS0CVuy8-2Z"
      },
      "source": [
        "### MODEL BUILDING "
      ]
    },
    {
      "cell_type": "markdown",
      "metadata": {
        "id": "VcLpK2n_9DeW"
      },
      "source": [
        "#### MULTINOMIAL NAIVE BAYES"
      ]
    },
    {
      "cell_type": "code",
      "metadata": {
        "id": "GUXPYK1YpV91"
      },
      "source": [
        "from sklearn.naive_bayes import MultinomialNB\n",
        "clf=MultinomialNB(alpha=1.0)\n",
        "clf.fit(x_train, y_train)\n",
        "y_pred=clf.predict(x_test)"
      ],
      "execution_count": 39,
      "outputs": []
    },
    {
      "cell_type": "code",
      "metadata": {
        "id": "kPort4SJpWVn",
        "colab": {
          "base_uri": "https://localhost:8080/"
        },
        "outputId": "2e6b7666-737b-4b7a-ab83-0b84b262207b"
      },
      "source": [
        "from sklearn.metrics import confusion_matrix, classification_report, accuracy_score\n",
        "print(confusion_matrix(y_test, y_pred))\n",
        "print(classification_report(y_test, y_pred))\n",
        "print('accuracy_score: ', accuracy_score(y_test, y_pred))"
      ],
      "execution_count": 40,
      "outputs": [
        {
          "output_type": "stream",
          "name": "stdout",
          "text": [
            "[[4422  294]\n",
            " [ 361 3861]]\n",
            "              precision    recall  f1-score   support\n",
            "\n",
            "           0       0.92      0.94      0.93      4716\n",
            "           1       0.93      0.91      0.92      4222\n",
            "\n",
            "    accuracy                           0.93      8938\n",
            "   macro avg       0.93      0.93      0.93      8938\n",
            "weighted avg       0.93      0.93      0.93      8938\n",
            "\n",
            "accuracy_score:  0.9267173864399194\n"
          ]
        }
      ]
    },
    {
      "cell_type": "code",
      "metadata": {
        "id": "qruSb4_rpWZN"
      },
      "source": [
        "import pickle\n",
        "pickle.dump(cv, open('tfidf.pkl', 'wb')) "
      ],
      "execution_count": 41,
      "outputs": []
    },
    {
      "cell_type": "code",
      "metadata": {
        "id": "xF0Ghmmu2UYD"
      },
      "source": [
        "pickle.dump(clf, open('model.pkl', 'wb'))"
      ],
      "execution_count": 42,
      "outputs": []
    },
    {
      "cell_type": "markdown",
      "metadata": {
        "id": "zjwZA8oi9Si8"
      },
      "source": [
        "#### MODEL EVALUATION"
      ]
    },
    {
      "cell_type": "code",
      "metadata": {
        "id": "cp81qKp72Ued",
        "colab": {
          "base_uri": "https://localhost:8080/"
        },
        "outputId": "3eadc6fe-0435-4e85-a771-dd6b0c9586ab"
      },
      "source": [
        "test = ' Meghan McCain Tweets The Most AMAZING Response To Doug Jonesâ€™ Win In Deep-Red Alabama'\n",
        "data = [test]\n",
        "fact = cv.transform(data).toarray()\n",
        "pred = clf.predict(fact)\n",
        "print(\"pred\", pred)\n",
        "if (int(pred)==1):\n",
        "    print(\"TRUE\")\n",
        "else:\n",
        "    print(\"FAKE NEWS\")"
      ],
      "execution_count": 45,
      "outputs": [
        {
          "output_type": "stream",
          "name": "stdout",
          "text": [
            "pred [0]\n",
            "FAKE NEWS\n"
          ]
        }
      ]
    }
  ]
}