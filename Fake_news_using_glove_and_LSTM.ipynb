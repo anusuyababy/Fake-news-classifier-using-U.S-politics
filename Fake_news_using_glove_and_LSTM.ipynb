{
  "nbformat": 4,
  "nbformat_minor": 0,
  "metadata": {
    "colab": {
      "name": "Fake news using glove and LSTM.ipynb",
      "provenance": [],
      "collapsed_sections": []
    },
    "kernelspec": {
      "name": "python3",
      "display_name": "Python 3"
    },
    "language_info": {
      "name": "python"
    },
    "accelerator": "GPU"
  },
  "cells": [
    {
      "cell_type": "markdown",
      "metadata": {
        "id": "wgpUdE3OibmZ"
      },
      "source": [
        "# FAKE NEWS CLASSIFIER"
      ]
    },
    {
      "cell_type": "code",
      "metadata": {
        "colab": {
          "base_uri": "https://localhost:8080/"
        },
        "id": "D7e6OtyngLr7",
        "outputId": "af731c98-eb7f-443b-fbdc-d4b54aaca04d"
      },
      "source": [
        "#importing libraries\n",
        "import numpy as np\n",
        "import pandas as pd\n",
        "import nltk\n",
        "import matplotlib.pyplot as plt\n",
        "nltk.download('stopwords')\n",
        "nltk.download('punkt')\n",
        "nltk.download('wordnet')\n",
        "import re\n",
        "pd.set_option('max_colwidth', 800)"
      ],
      "execution_count": 4,
      "outputs": [
        {
          "output_type": "stream",
          "name": "stdout",
          "text": [
            "[nltk_data] Downloading package stopwords to /root/nltk_data...\n",
            "[nltk_data]   Unzipping corpora/stopwords.zip.\n",
            "[nltk_data] Downloading package punkt to /root/nltk_data...\n",
            "[nltk_data]   Unzipping tokenizers/punkt.zip.\n",
            "[nltk_data] Downloading package wordnet to /root/nltk_data...\n",
            "[nltk_data]   Unzipping corpora/wordnet.zip.\n"
          ]
        }
      ]
    },
    {
      "cell_type": "code",
      "metadata": {
        "colab": {
          "base_uri": "https://localhost:8080/"
        },
        "id": "AgqBkvrZ9zpn",
        "outputId": "c7b53b5a-b665-4c7f-ea12-928622d3c89e"
      },
      "source": [
        "# downloading glove files in web browser\n",
        "!wget http://nlp.stanford.edu/data/glove.6B.zip"
      ],
      "execution_count": 1,
      "outputs": [
        {
          "output_type": "stream",
          "name": "stdout",
          "text": [
            "--2021-09-01 06:06:36--  http://nlp.stanford.edu/data/glove.6B.zip\n",
            "Resolving nlp.stanford.edu (nlp.stanford.edu)... 171.64.67.140\n",
            "Connecting to nlp.stanford.edu (nlp.stanford.edu)|171.64.67.140|:80... connected.\n",
            "HTTP request sent, awaiting response... 302 Found\n",
            "Location: https://nlp.stanford.edu/data/glove.6B.zip [following]\n",
            "--2021-09-01 06:06:37--  https://nlp.stanford.edu/data/glove.6B.zip\n",
            "Connecting to nlp.stanford.edu (nlp.stanford.edu)|171.64.67.140|:443... connected.\n",
            "HTTP request sent, awaiting response... 301 Moved Permanently\n",
            "Location: http://downloads.cs.stanford.edu/nlp/data/glove.6B.zip [following]\n",
            "--2021-09-01 06:06:37--  http://downloads.cs.stanford.edu/nlp/data/glove.6B.zip\n",
            "Resolving downloads.cs.stanford.edu (downloads.cs.stanford.edu)... 171.64.64.22\n",
            "Connecting to downloads.cs.stanford.edu (downloads.cs.stanford.edu)|171.64.64.22|:80... connected.\n",
            "HTTP request sent, awaiting response... 200 OK\n",
            "Length: 862182613 (822M) [application/zip]\n",
            "Saving to: ‘glove.6B.zip’\n",
            "\n",
            "glove.6B.zip        100%[===================>] 822.24M  4.98MB/s    in 2m 41s  \n",
            "\n",
            "2021-09-01 06:09:19 (5.10 MB/s) - ‘glove.6B.zip’ saved [862182613/862182613]\n",
            "\n"
          ]
        }
      ]
    },
    {
      "cell_type": "code",
      "metadata": {
        "colab": {
          "base_uri": "https://localhost:8080/"
        },
        "id": "xeN7wtvD_CVR",
        "outputId": "10e162bc-0449-4334-db9b-569d5589d269"
      },
      "source": [
        "# unzipping the zip files\n",
        "!unzip glove.6B.zip\n"
      ],
      "execution_count": 2,
      "outputs": [
        {
          "output_type": "stream",
          "name": "stdout",
          "text": [
            "Archive:  glove.6B.zip\n",
            "  inflating: glove.6B.50d.txt        \n",
            "  inflating: glove.6B.100d.txt       \n",
            "  inflating: glove.6B.200d.txt       \n",
            "  inflating: glove.6B.300d.txt       \n"
          ]
        }
      ]
    },
    {
      "cell_type": "code",
      "metadata": {
        "colab": {
          "base_uri": "https://localhost:8080/"
        },
        "id": "aLYADzlm591g",
        "outputId": "197ef65c-3724-4ae4-a15b-e801e20a79be"
      },
      "source": [
        "!pip install keras_metrics"
      ],
      "execution_count": 5,
      "outputs": [
        {
          "output_type": "stream",
          "name": "stdout",
          "text": [
            "Collecting keras_metrics\n",
            "  Downloading keras_metrics-1.1.0-py2.py3-none-any.whl (5.6 kB)\n",
            "Requirement already satisfied: Keras>=2.1.5 in /usr/local/lib/python3.7/dist-packages (from keras_metrics) (2.6.0)\n",
            "Installing collected packages: keras-metrics\n",
            "Successfully installed keras-metrics-1.1.0\n"
          ]
        }
      ]
    },
    {
      "cell_type": "code",
      "metadata": {
        "id": "Y4CVY45dz9BJ"
      },
      "source": [
        "# importing deep learning libraries\n",
        "import tqdm\n",
        "import keras_metrics # for recall and precision metrics\n",
        "from tensorflow.keras.preprocessing.sequence import pad_sequences\n",
        "from tensorflow.keras.preprocessing.text import Tokenizer\n",
        "from tensorflow.keras.layers import Embedding, LSTM, Dropout, Dense\n",
        "from tensorflow.keras.models import Sequential\n",
        "from tensorflow.keras.utils import to_categorical\n",
        "from tensorflow.keras.callbacks import ModelCheckpoint, TensorBoard\n",
        "import time\n",
        "import pickle"
      ],
      "execution_count": 6,
      "outputs": []
    },
    {
      "cell_type": "code",
      "metadata": {
        "colab": {
          "base_uri": "https://localhost:8080/"
        },
        "id": "NWRlm-9uaqgF",
        "outputId": "ac7a5275-af8e-46a1-fe7f-863e762349cd"
      },
      "source": [
        "from google.colab import drive\n",
        "drive.mount('/content/drive')"
      ],
      "execution_count": 3,
      "outputs": [
        {
          "output_type": "stream",
          "name": "stdout",
          "text": [
            "Mounted at /content/drive\n"
          ]
        }
      ]
    },
    {
      "cell_type": "code",
      "metadata": {
        "id": "kbSBm18BbOn3"
      },
      "source": [
        "#learning word embeddings on training data using Gensim library\n",
        "from gensim.models import Word2Vec, KeyedVectors\n",
        "# gensim modules\n",
        "from gensim import utils\n",
        "from gensim.models.doc2vec import LabeledSentence\n",
        "from gensim.models import Doc2Vec"
      ],
      "execution_count": 7,
      "outputs": []
    },
    {
      "cell_type": "code",
      "metadata": {
        "colab": {
          "base_uri": "https://localhost:8080/",
          "height": 901
        },
        "id": "vhF4sRYpjCJl",
        "outputId": "9a8a4e54-ea15-473d-d040-392f3a086faa"
      },
      "source": [
        "#loading dataset\n",
        "d1=pd.read_csv('/content/drive/MyDrive/Fake.csv')\n",
        "d1.head()"
      ],
      "execution_count": 8,
      "outputs": [
        {
          "output_type": "execute_result",
          "data": {
            "text/html": [
              "<div>\n",
              "<style scoped>\n",
              "    .dataframe tbody tr th:only-of-type {\n",
              "        vertical-align: middle;\n",
              "    }\n",
              "\n",
              "    .dataframe tbody tr th {\n",
              "        vertical-align: top;\n",
              "    }\n",
              "\n",
              "    .dataframe thead th {\n",
              "        text-align: right;\n",
              "    }\n",
              "</style>\n",
              "<table border=\"1\" class=\"dataframe\">\n",
              "  <thead>\n",
              "    <tr style=\"text-align: right;\">\n",
              "      <th></th>\n",
              "      <th>title</th>\n",
              "      <th>text</th>\n",
              "      <th>subject</th>\n",
              "      <th>date</th>\n",
              "    </tr>\n",
              "  </thead>\n",
              "  <tbody>\n",
              "    <tr>\n",
              "      <th>0</th>\n",
              "      <td>Donald Trump Sends Out Embarrassing New Year’s Eve Message; This is Disturbing</td>\n",
              "      <td>Donald Trump just couldn t wish all Americans a Happy New Year and leave it at that. Instead, he had to give a shout out to his enemies, haters and  the very dishonest fake news media.  The former reality show star had just one job to do and he couldn t do it. As our Country rapidly grows stronger and smarter, I want to wish all of my friends, supporters, enemies, haters, and even the very dishonest Fake News Media, a Happy and Healthy New Year,  President Angry Pants tweeted.  2018 will be a great year for America! As our Country rapidly grows stronger and smarter, I want to wish all of my friends, supporters, enemies, haters, and even the very dishonest Fake News Media, a Happy and Healthy New Year. 2018 will be a great year for America!  Donald J. Trump (@realDonaldTrump) December 3...</td>\n",
              "      <td>News</td>\n",
              "      <td>December 31, 2017</td>\n",
              "    </tr>\n",
              "    <tr>\n",
              "      <th>1</th>\n",
              "      <td>Drunk Bragging Trump Staffer Started Russian Collusion Investigation</td>\n",
              "      <td>House Intelligence Committee Chairman Devin Nunes is going to have a bad day. He s been under the assumption, like many of us, that the Christopher Steele-dossier was what prompted the Russia investigation so he s been lashing out at the Department of Justice and the FBI in order to protect Trump. As it happens, the dossier is not what started the investigation, according to documents obtained by the New York Times.Former Trump campaign adviser George Papadopoulos was drunk in a wine bar when he revealed knowledge of Russian opposition research on Hillary Clinton.On top of that, Papadopoulos wasn t just a covfefe boy for Trump, as his administration has alleged. He had a much larger role, but none so damning as being a drunken fool in a wine bar. Coffee boys  don t help to arrange a Ne...</td>\n",
              "      <td>News</td>\n",
              "      <td>December 31, 2017</td>\n",
              "    </tr>\n",
              "    <tr>\n",
              "      <th>2</th>\n",
              "      <td>Sheriff David Clarke Becomes An Internet Joke For Threatening To Poke People ‘In The Eye’</td>\n",
              "      <td>On Friday, it was revealed that former Milwaukee Sheriff David Clarke, who was being considered for Homeland Security Secretary in Donald Trump s administration, has an email scandal of his own.In January, there was a brief run-in on a plane between Clarke and fellow passenger Dan Black, who he later had detained by the police for no reason whatsoever, except that maybe his feelings were hurt. Clarke messaged the police to stop Black after he deplaned, and now, a search warrant has been executed by the FBI to see the exchanges.Clarke is calling it fake news even though copies of the search warrant are on the Internet. I am UNINTIMIDATED by lib media attempts to smear and discredit me with their FAKE NEWS reports designed to silence me,  the former sheriff tweeted.  I will continue to p...</td>\n",
              "      <td>News</td>\n",
              "      <td>December 30, 2017</td>\n",
              "    </tr>\n",
              "    <tr>\n",
              "      <th>3</th>\n",
              "      <td>Trump Is So Obsessed He Even Has Obama’s Name Coded Into His Website (IMAGES)</td>\n",
              "      <td>On Christmas day, Donald Trump announced that he would  be back to work  the following day, but he is golfing for the fourth day in a row. The former reality show star blasted former President Barack Obama for playing golf and now Trump is on track to outpace the number of golf games his predecessor played.Updated my tracker of Trump s appearances at Trump properties.71 rounds of golf including today s. At this pace, he ll pass Obama s first-term total by July 24 next year. https://t.co/Fg7VacxRtJ pic.twitter.com/5gEMcjQTbH  Philip Bump (@pbump) December 29, 2017 That makes what a Washington Post reporter discovered on Trump s website really weird, but everything about this administration is bizarre AF. The coding contained a reference to Obama and golf:  Unlike Obama, we are working t...</td>\n",
              "      <td>News</td>\n",
              "      <td>December 29, 2017</td>\n",
              "    </tr>\n",
              "    <tr>\n",
              "      <th>4</th>\n",
              "      <td>Pope Francis Just Called Out Donald Trump During His Christmas Speech</td>\n",
              "      <td>Pope Francis used his annual Christmas Day message to rebuke Donald Trump without even mentioning his name. The Pope delivered his message just days after members of the United Nations condemned Trump s move to recognize Jerusalem as the capital of Israel. The Pontiff prayed on Monday for the  peaceful coexistence of two states within mutually agreed and internationally recognized borders. We see Jesus in the children of the Middle East who continue to suffer because of growing tensions between Israelis and Palestinians,  Francis said.  On this festive day, let us ask the Lord for peace for Jerusalem and for all the Holy Land. Let us pray that the will to resume dialogue may prevail between the parties and that a negotiated solution can finally be reached. The Pope went on to plead for...</td>\n",
              "      <td>News</td>\n",
              "      <td>December 25, 2017</td>\n",
              "    </tr>\n",
              "  </tbody>\n",
              "</table>\n",
              "</div>"
            ],
            "text/plain": [
              "                                                                                        title  ...               date\n",
              "0              Donald Trump Sends Out Embarrassing New Year’s Eve Message; This is Disturbing  ...  December 31, 2017\n",
              "1                        Drunk Bragging Trump Staffer Started Russian Collusion Investigation  ...  December 31, 2017\n",
              "2   Sheriff David Clarke Becomes An Internet Joke For Threatening To Poke People ‘In The Eye’  ...  December 30, 2017\n",
              "3               Trump Is So Obsessed He Even Has Obama’s Name Coded Into His Website (IMAGES)  ...  December 29, 2017\n",
              "4                       Pope Francis Just Called Out Donald Trump During His Christmas Speech  ...  December 25, 2017\n",
              "\n",
              "[5 rows x 4 columns]"
            ]
          },
          "metadata": {},
          "execution_count": 8
        }
      ]
    },
    {
      "cell_type": "code",
      "metadata": {
        "colab": {
          "base_uri": "https://localhost:8080/",
          "height": 901
        },
        "id": "jCNjV6atjCNz",
        "outputId": "d5dbf7f9-01cc-460e-dbd8-ce0388ef5d70"
      },
      "source": [
        "d2=pd.read_csv('/content/drive/MyDrive/True.csv')\n",
        "d2.head()"
      ],
      "execution_count": 9,
      "outputs": [
        {
          "output_type": "execute_result",
          "data": {
            "text/html": [
              "<div>\n",
              "<style scoped>\n",
              "    .dataframe tbody tr th:only-of-type {\n",
              "        vertical-align: middle;\n",
              "    }\n",
              "\n",
              "    .dataframe tbody tr th {\n",
              "        vertical-align: top;\n",
              "    }\n",
              "\n",
              "    .dataframe thead th {\n",
              "        text-align: right;\n",
              "    }\n",
              "</style>\n",
              "<table border=\"1\" class=\"dataframe\">\n",
              "  <thead>\n",
              "    <tr style=\"text-align: right;\">\n",
              "      <th></th>\n",
              "      <th>title</th>\n",
              "      <th>text</th>\n",
              "      <th>subject</th>\n",
              "      <th>date</th>\n",
              "    </tr>\n",
              "  </thead>\n",
              "  <tbody>\n",
              "    <tr>\n",
              "      <th>0</th>\n",
              "      <td>As U.S. budget fight looms, Republicans flip their fiscal script</td>\n",
              "      <td>WASHINGTON (Reuters) - The head of a conservative Republican faction in the U.S. Congress, who voted this month for a huge expansion of the national debt to pay for tax cuts, called himself a “fiscal conservative” on Sunday and urged budget restraint in 2018. In keeping with a sharp pivot under way among Republicans, U.S. Representative Mark Meadows, speaking on CBS’ “Face the Nation,” drew a hard line on federal spending, which lawmakers are bracing to do battle over in January. When they return from the holidays on Wednesday, lawmakers will begin trying to pass a federal budget in a fight likely to be linked to other issues, such as immigration policy, even as the November congressional election campaigns approach in which Republicans will seek to keep control of Congress. President ...</td>\n",
              "      <td>politicsNews</td>\n",
              "      <td>December 31, 2017</td>\n",
              "    </tr>\n",
              "    <tr>\n",
              "      <th>1</th>\n",
              "      <td>U.S. military to accept transgender recruits on Monday: Pentagon</td>\n",
              "      <td>WASHINGTON (Reuters) - Transgender people will be allowed for the first time to enlist in the U.S. military starting on Monday as ordered by federal courts, the Pentagon said on Friday, after President Donald Trump’s administration decided not to appeal rulings that blocked his transgender ban. Two federal appeals courts, one in Washington and one in Virginia, last week rejected the administration’s request to put on hold orders by lower court judges requiring the military to begin accepting transgender recruits on Jan. 1. A Justice Department official said the administration will not challenge those rulings. “The Department of Defense has announced that it will be releasing an independent study of these issues in the coming weeks. So rather than litigate this interim appeal before tha...</td>\n",
              "      <td>politicsNews</td>\n",
              "      <td>December 29, 2017</td>\n",
              "    </tr>\n",
              "    <tr>\n",
              "      <th>2</th>\n",
              "      <td>Senior U.S. Republican senator: 'Let Mr. Mueller do his job'</td>\n",
              "      <td>WASHINGTON (Reuters) - The special counsel investigation of links between Russia and President Trump’s 2016 election campaign should continue without interference in 2018, despite calls from some Trump administration allies and Republican lawmakers to shut it down, a prominent Republican senator said on Sunday. Lindsey Graham, who serves on the Senate armed forces and judiciary committees, said Department of Justice Special Counsel Robert Mueller needs to carry on with his Russia investigation without political interference. “This investigation will go forward. It will be an investigation conducted without political influence,” Graham said on CBS’s Face the Nation news program. “And we all need to let Mr. Mueller do his job. I think he’s the right guy at the right time.”  The question ...</td>\n",
              "      <td>politicsNews</td>\n",
              "      <td>December 31, 2017</td>\n",
              "    </tr>\n",
              "    <tr>\n",
              "      <th>3</th>\n",
              "      <td>FBI Russia probe helped by Australian diplomat tip-off: NYT</td>\n",
              "      <td>WASHINGTON (Reuters) - Trump campaign adviser George Papadopoulos told an Australian diplomat in May 2016 that Russia had political dirt on Democratic presidential candidate Hillary Clinton, the New York Times reported on Saturday. The conversation between Papadopoulos and the diplomat, Alexander Downer, in London was a driving factor behind the FBI’s decision to open a counter-intelligence investigation of Moscow’s contacts with the Trump campaign, the Times reported. Two months after the meeting, Australian officials passed the information that came from Papadopoulos to their American counterparts when leaked Democratic emails began appearing online, according to the newspaper, which cited four current and former U.S. and foreign officials. Besides the information from the Australian...</td>\n",
              "      <td>politicsNews</td>\n",
              "      <td>December 30, 2017</td>\n",
              "    </tr>\n",
              "    <tr>\n",
              "      <th>4</th>\n",
              "      <td>Trump wants Postal Service to charge 'much more' for Amazon shipments</td>\n",
              "      <td>SEATTLE/WASHINGTON (Reuters) - President Donald Trump called on the U.S. Postal Service on Friday to charge “much more” to ship packages for Amazon (AMZN.O), picking another fight with an online retail giant he has criticized in the past.     “Why is the United States Post Office, which is losing many billions of dollars a year, while charging Amazon and others so little to deliver their packages, making Amazon richer and the Post Office dumber and poorer? Should be charging MUCH MORE!” Trump wrote on Twitter.  The president’s tweet drew fresh attention to the fragile finances of the Postal Service at a time when tens of millions of parcels have just been shipped all over the country for the holiday season.  The U.S. Postal Service, which runs at a big loss, is an independent agency wi...</td>\n",
              "      <td>politicsNews</td>\n",
              "      <td>December 29, 2017</td>\n",
              "    </tr>\n",
              "  </tbody>\n",
              "</table>\n",
              "</div>"
            ],
            "text/plain": [
              "                                                                   title  ...                date\n",
              "0       As U.S. budget fight looms, Republicans flip their fiscal script  ...  December 31, 2017 \n",
              "1       U.S. military to accept transgender recruits on Monday: Pentagon  ...  December 29, 2017 \n",
              "2           Senior U.S. Republican senator: 'Let Mr. Mueller do his job'  ...  December 31, 2017 \n",
              "3            FBI Russia probe helped by Australian diplomat tip-off: NYT  ...  December 30, 2017 \n",
              "4  Trump wants Postal Service to charge 'much more' for Amazon shipments  ...  December 29, 2017 \n",
              "\n",
              "[5 rows x 4 columns]"
            ]
          },
          "metadata": {},
          "execution_count": 9
        }
      ]
    },
    {
      "cell_type": "code",
      "metadata": {
        "id": "wsqP6F6CjCRY"
      },
      "source": [
        "d1['label'] = 0 # fake news\n",
        "d2['label'] = 1 # true news"
      ],
      "execution_count": 10,
      "outputs": []
    },
    {
      "cell_type": "markdown",
      "metadata": {
        "id": "E6URFPzSNzYP"
      },
      "source": [
        "## DATA CLEANING AND EDA"
      ]
    },
    {
      "cell_type": "markdown",
      "metadata": {
        "id": "vjd1163k0-cu"
      },
      "source": [
        "### DATASET I - DATA CLEANING"
      ]
    },
    {
      "cell_type": "code",
      "metadata": {
        "colab": {
          "base_uri": "https://localhost:8080/",
          "height": 988
        },
        "id": "7pCcYAKq1Dok",
        "outputId": "01ccfd4c-d2db-4892-f315-4e8534f5dd2f"
      },
      "source": [
        "d1.head()"
      ],
      "execution_count": 11,
      "outputs": [
        {
          "output_type": "execute_result",
          "data": {
            "text/html": [
              "<div>\n",
              "<style scoped>\n",
              "    .dataframe tbody tr th:only-of-type {\n",
              "        vertical-align: middle;\n",
              "    }\n",
              "\n",
              "    .dataframe tbody tr th {\n",
              "        vertical-align: top;\n",
              "    }\n",
              "\n",
              "    .dataframe thead th {\n",
              "        text-align: right;\n",
              "    }\n",
              "</style>\n",
              "<table border=\"1\" class=\"dataframe\">\n",
              "  <thead>\n",
              "    <tr style=\"text-align: right;\">\n",
              "      <th></th>\n",
              "      <th>title</th>\n",
              "      <th>text</th>\n",
              "      <th>subject</th>\n",
              "      <th>date</th>\n",
              "      <th>label</th>\n",
              "    </tr>\n",
              "  </thead>\n",
              "  <tbody>\n",
              "    <tr>\n",
              "      <th>0</th>\n",
              "      <td>Donald Trump Sends Out Embarrassing New Year’s Eve Message; This is Disturbing</td>\n",
              "      <td>Donald Trump just couldn t wish all Americans a Happy New Year and leave it at that. Instead, he had to give a shout out to his enemies, haters and  the very dishonest fake news media.  The former reality show star had just one job to do and he couldn t do it. As our Country rapidly grows stronger and smarter, I want to wish all of my friends, supporters, enemies, haters, and even the very dishonest Fake News Media, a Happy and Healthy New Year,  President Angry Pants tweeted.  2018 will be a great year for America! As our Country rapidly grows stronger and smarter, I want to wish all of my friends, supporters, enemies, haters, and even the very dishonest Fake News Media, a Happy and Healthy New Year. 2018 will be a great year for America!  Donald J. Trump (@realDonaldTrump) December 3...</td>\n",
              "      <td>News</td>\n",
              "      <td>December 31, 2017</td>\n",
              "      <td>0</td>\n",
              "    </tr>\n",
              "    <tr>\n",
              "      <th>1</th>\n",
              "      <td>Drunk Bragging Trump Staffer Started Russian Collusion Investigation</td>\n",
              "      <td>House Intelligence Committee Chairman Devin Nunes is going to have a bad day. He s been under the assumption, like many of us, that the Christopher Steele-dossier was what prompted the Russia investigation so he s been lashing out at the Department of Justice and the FBI in order to protect Trump. As it happens, the dossier is not what started the investigation, according to documents obtained by the New York Times.Former Trump campaign adviser George Papadopoulos was drunk in a wine bar when he revealed knowledge of Russian opposition research on Hillary Clinton.On top of that, Papadopoulos wasn t just a covfefe boy for Trump, as his administration has alleged. He had a much larger role, but none so damning as being a drunken fool in a wine bar. Coffee boys  don t help to arrange a Ne...</td>\n",
              "      <td>News</td>\n",
              "      <td>December 31, 2017</td>\n",
              "      <td>0</td>\n",
              "    </tr>\n",
              "    <tr>\n",
              "      <th>2</th>\n",
              "      <td>Sheriff David Clarke Becomes An Internet Joke For Threatening To Poke People ‘In The Eye’</td>\n",
              "      <td>On Friday, it was revealed that former Milwaukee Sheriff David Clarke, who was being considered for Homeland Security Secretary in Donald Trump s administration, has an email scandal of his own.In January, there was a brief run-in on a plane between Clarke and fellow passenger Dan Black, who he later had detained by the police for no reason whatsoever, except that maybe his feelings were hurt. Clarke messaged the police to stop Black after he deplaned, and now, a search warrant has been executed by the FBI to see the exchanges.Clarke is calling it fake news even though copies of the search warrant are on the Internet. I am UNINTIMIDATED by lib media attempts to smear and discredit me with their FAKE NEWS reports designed to silence me,  the former sheriff tweeted.  I will continue to p...</td>\n",
              "      <td>News</td>\n",
              "      <td>December 30, 2017</td>\n",
              "      <td>0</td>\n",
              "    </tr>\n",
              "    <tr>\n",
              "      <th>3</th>\n",
              "      <td>Trump Is So Obsessed He Even Has Obama’s Name Coded Into His Website (IMAGES)</td>\n",
              "      <td>On Christmas day, Donald Trump announced that he would  be back to work  the following day, but he is golfing for the fourth day in a row. The former reality show star blasted former President Barack Obama for playing golf and now Trump is on track to outpace the number of golf games his predecessor played.Updated my tracker of Trump s appearances at Trump properties.71 rounds of golf including today s. At this pace, he ll pass Obama s first-term total by July 24 next year. https://t.co/Fg7VacxRtJ pic.twitter.com/5gEMcjQTbH  Philip Bump (@pbump) December 29, 2017 That makes what a Washington Post reporter discovered on Trump s website really weird, but everything about this administration is bizarre AF. The coding contained a reference to Obama and golf:  Unlike Obama, we are working t...</td>\n",
              "      <td>News</td>\n",
              "      <td>December 29, 2017</td>\n",
              "      <td>0</td>\n",
              "    </tr>\n",
              "    <tr>\n",
              "      <th>4</th>\n",
              "      <td>Pope Francis Just Called Out Donald Trump During His Christmas Speech</td>\n",
              "      <td>Pope Francis used his annual Christmas Day message to rebuke Donald Trump without even mentioning his name. The Pope delivered his message just days after members of the United Nations condemned Trump s move to recognize Jerusalem as the capital of Israel. The Pontiff prayed on Monday for the  peaceful coexistence of two states within mutually agreed and internationally recognized borders. We see Jesus in the children of the Middle East who continue to suffer because of growing tensions between Israelis and Palestinians,  Francis said.  On this festive day, let us ask the Lord for peace for Jerusalem and for all the Holy Land. Let us pray that the will to resume dialogue may prevail between the parties and that a negotiated solution can finally be reached. The Pope went on to plead for...</td>\n",
              "      <td>News</td>\n",
              "      <td>December 25, 2017</td>\n",
              "      <td>0</td>\n",
              "    </tr>\n",
              "  </tbody>\n",
              "</table>\n",
              "</div>"
            ],
            "text/plain": [
              "                                                                                        title  ... label\n",
              "0              Donald Trump Sends Out Embarrassing New Year’s Eve Message; This is Disturbing  ...     0\n",
              "1                        Drunk Bragging Trump Staffer Started Russian Collusion Investigation  ...     0\n",
              "2   Sheriff David Clarke Becomes An Internet Joke For Threatening To Poke People ‘In The Eye’  ...     0\n",
              "3               Trump Is So Obsessed He Even Has Obama’s Name Coded Into His Website (IMAGES)  ...     0\n",
              "4                       Pope Francis Just Called Out Donald Trump During His Christmas Speech  ...     0\n",
              "\n",
              "[5 rows x 5 columns]"
            ]
          },
          "metadata": {},
          "execution_count": 11
        }
      ]
    },
    {
      "cell_type": "markdown",
      "metadata": {
        "id": "7GrjOa8Scx4W"
      },
      "source": [
        "Noticed some words in fake dataset that are present in the true dataset. \n",
        "[BOILER ROOM:, WARNING:, FLASHBACK:, VIDEO:, WATCH!, BREAKING:, WATCH:, REPORT:, WATCH AND LAUGH:, BREAKING NEWS:, UPDATED VIDEO:, UPDATE:, SHOCKING:, POLL:, Factbox:]. These words are present in the start. \n",
        "e.g WATCH: Paul Ryan Just Told Us. \n",
        "So these words do not use for prediction (whether the news is fake or not). So making this with the empty string."
      ]
    },
    {
      "cell_type": "code",
      "metadata": {
        "id": "JQKWI8-t1Due"
      },
      "source": [
        "d1['title'] = d1['title'].str.replace('BOILER ROOM:', '')\n",
        "d1['title'] = d1['title'].str.replace('WARNING:', '')\n",
        "d1['title'] = d1['title'].str.replace('FLASHBACK:', '')\n",
        "d1['title'] = d1['title'].str.replace('VIDEO:', '')\n",
        "d1['title'] = d1['title'].str.replace('BREAKING:', '')\n",
        "d1['title'] = d1['title'].str.replace('BREAKING NEWS:', '')\n",
        "d1['title'] = d1['title'].str.replace('WATCH:', '')\n",
        "d1['title'] = d1['title'].str.replace('REPORT: ', '')\n",
        "d1['title'] = d1['title'].str.replace('WATCH AND LAUGH:', '')\n",
        "d1['title'] = d1['title'].str.replace('UPDATE:', '')\n",
        "d1['title'] = d1['title'].str.replace('SHOCKING:', '')\n",
        "d1['title'] = d1['title'].str.replace('POLL:', '')\n",
        "d1['title'] = d1['title'].str.replace('WATCH!', '')\n",
        "d1['title'] = d1['title'].str.replace('UPDATED VIDEO:', '')\n",
        "d1['title'] = d1['title'].str.replace('Factbox:', '')"
      ],
      "execution_count": 12,
      "outputs": []
    },
    {
      "cell_type": "markdown",
      "metadata": {
        "id": "8Y6n5rn904cu"
      },
      "source": [
        "### DATASET II - DATA CLEANING"
      ]
    },
    {
      "cell_type": "code",
      "metadata": {
        "id": "WnoIJJ26ht8V"
      },
      "source": [
        "# 'factbox:'. so removing them\n",
        "d2['title'] = d2['title'].str.replace('Factbox:', '')"
      ],
      "execution_count": 13,
      "outputs": []
    },
    {
      "cell_type": "markdown",
      "metadata": {
        "id": "5nj7Ye5K1Mbl"
      },
      "source": [
        "Difference in Text\n",
        "\n",
        "Real news seems to have source of publication which is not present in fake news set\n",
        "\n",
        "Looking at the data:\n",
        "\n",
        "1. most of text contains reuters information such as \"WASHINGTON (Reuters)\".\n",
        "2. Some text are tweets from Twitter.\n",
        "3. Few text do not contain any publication info.\n",
        "\n"
      ]
    },
    {
      "cell_type": "code",
      "metadata": {
        "id": "vBoOCQGPNZq4"
      },
      "source": [
        "#First Creating list of index that do not have publication part\n",
        "unknown_publishers = []\n",
        "for index,row in enumerate(d2.text.values):\n",
        "    try:\n",
        "        record = row.split(\" -\", maxsplit=1)\n",
        "        #if no text part is present, following will give error\n",
        "        record[1]\n",
        "        #if len of piblication part is greater than 260\n",
        "        #following will give error, ensuring no text having \"-\" in between is counted\n",
        "        assert(len(record[0]) < 260)\n",
        "    except:\n",
        "        unknown_publishers.append(index)"
      ],
      "execution_count": 14,
      "outputs": []
    },
    {
      "cell_type": "code",
      "metadata": {
        "colab": {
          "base_uri": "https://localhost:8080/"
        },
        "id": "Pb-Xg3LxOPp2",
        "outputId": "d2c6365f-2c68-4b2a-f432-9062c1dea040"
      },
      "source": [
        "#Thus we have list of indices where publisher is not mentioned\n",
        "#lets check\n",
        "d2.iloc[unknown_publishers].text\n",
        "#true, they do not have text like \"WASHINGTON (Reuters)\""
      ],
      "execution_count": 15,
      "outputs": [
        {
          "output_type": "execute_result",
          "data": {
            "text/plain": [
              "3488     The White House on Wednesday disclosed a group of former lobbyists working in President Donald Trump’s administration who have been issued ethics waivers, following a request from the U.S. government’s ethics agency. The list of at least 11 waivers include White House adviser Kellyanne Conway and Trump's Chief of Staff Reince Priebus, according to a chart issued on the White House website. (bit.ly/1LPKWx8) Conway is permitted to “participate in communications and meetings involving former clients which are political, advocacy, trade or non-profit organizations,” while Priebus, a former Republican National Committee chairman, is allowed to have communications and meetings with the RNC, the document says. Shortly after taking office in January, Trump signed an executive order barring lob...\n",
              "4358     Neil Gorsuch, President Donald Trump’s appointee to the U.S. Supreme Court who was confirmed by the Senate to the lifetime job on Friday in a 54-45 vote, will have an immediate impact on cases already pending before the justices. The nine-seat court has operated with only eight justices after the death of conservative Antonin Scalia on Feb. 13, 2016, with four liberals and four conservatives. Gorsuch’s confirmation restores a 5-4 conservative majority. The new justice could cast the deciding vote in new cases before the court as well as some cases already argued during the current term that ends in June. The court could decide to hear fresh arguments in cases in which they otherwise would be split 4-4. Here is a list of five such cases in which Gorsuch could be pivotal. Religious right...\n",
              "4465     WASHINGTON The clock began running out this week on a strategy that has provided U.S. Republicans in Congress with their only notable legislative successes this year: aggressive use of an obscure U.S. law known as the Congressional Review Act (CRA).  On his 75th day in power, President Donald Trump has yet to offer any major legislation or win passage of a bill he favors, but House of Representatives Majority Leader Kevin McCarthy has notched numerous small-scale victories with his strategy.  Vice President Mike Pence told business leaders at the White House on Tuesday that Trump would sign more CRA resolutions soon and roll back an “avalanche of red tape” from the administration of President Barack Obama, a Democrat.  REUTERS COMMENTARYWar College: One tank to rule them allThe right w...\n",
              "5784     Federal appeals court judge Neil Gorsuch, the U.S. Supreme Court pick of President Donald Trump, is a conservative intellectual known for backing religious rights and seen as very much in the mold of Antonin Scalia, the justice he was chosen to replace.  Gorsuch, who has not shied away from needling liberals on occasion, is 49 and could influence the high court for decades to come in the lifetime post, if confirmed by the Republican-led Senate. He is the youngest Supreme Court nominee since Republican President George H.W. Bush in 1991 picked Clarence Thomas, who was 43 at the time.  DON’T MISS For hardline West Bank settlers, Jared Kushner's their man He currently serves as a judge on the 10th U.S. Circuit Court of Appeals in Denver, the city where he was born. He was appointed to tha...\n",
              "6660     Republican members of Congress are complaining that U.S. intelligence agencies are refusing to brief them widely on a classified CIA report that concluded Russia hacked Democratic Party data in an effort to help Donald Trump win the presidency. The Republicans said Director of National Intelligence James Clapper has refused their requests for full briefings of Congress’ two intelligence committees. U.S. government officials said the leaders of Congress and the chairmen of the two intelligence committees, known as the “Gang of Eight,” have been briefed on the Central Intelligence Agency’s conclusion. Nevertheless, Representative Devin Nunes, the California Republican who chairs the House Intelligence Committee and is a member of President-elect Trump’s transition team as well as the Gan...\n",
              "6823     Over the course of the U.S. presidential campaign, Donald Trump changed his mind on many issues. But he’s been consistent on one foreign policy question: he wants to end American support for Syrian opposition groups fighting Bashar al-Assad’s regime. Trump argues that the United States should expend all of its efforts on fighting Islamic State instead.  \"I’ve had an opposite view of many people regarding Syria,” Trump told the Wall Street Journal on Nov. 11, in his first interview after he won the White House. “My attitude was you’re fighting Syria, Syria is fighting ISIS, and you have to get rid of ISIS. Russia is now totally aligned with Syria, and now you have Iran, which is becoming powerful, because of us, is aligned with Syria. … Now we’re backing rebels against Syria, and we hav...\n",
              "7922     After going through a week reminiscent of Napoleon’s at Waterloo, Republican presidential nominee Donald Trump will likely claim that Indiana Governor Mike Pence’s performance in Tuesday’s vice-presidential debate gave a boost to their campaign.  That would be overstating it.  The debate probably changed few votes in the 2016 presidential election. The question is whether it will change any votes in the 2020 contest.  In this year’s race, the debate was something of a wash. Virginia Senator Tim Kaine, the Democratic vice-presidential nominee, came across like an over-caffeinated prosecutorial chipmunk – interrupting at every occasion. And at moments that weren’t occasions at all.  A gentle soul who’s uncomfortable in the attack-dog role that the Clinton campaign has assigned him, Kaine...\n",
              "8194     The following timeline charts the origin and spread of the Zika virus from its discovery nearly 70 years ago: 1947: Scientists researching yellow fever in Uganda’s Zika Forest identify the virus in a rhesus monkey 1948: Virus recovered from Aedes africanus mosquito in Zika Forest 1952: First human cases detected in Uganda and Tanzania 1960s-80s: Zika detected in mosquitoes and monkeys across equatorial Africa 1960s–80s: Zika found in equatorial Asia, including India, Indonesia, Malaysia and Pakistan 2007: Zika spreads from Africa and Asia, first large outbreak on Pacific island of Yap 2012: Researchers identify two distinct lineages of the virus, African and Asian 2013–14: Zika outbreaks in French Polynesia, Easter Island, the Cook Islands and New Caledonia. Retrospective analysis show...\n",
              "8195     Global health officials are racing to better understand the Zika virus behind a major outbreak that began in Brazil last year and has spread to almost 60 countries.  The following are some questions and answers about the virus and current outbreak: How do people become infected? Zika is transmitted to people through the bite of infected female mosquitoes, primarily the Aedes aegypti mosquito, the same type that spreads dengue, chikungunya and yellow fever. The Pan American Health Organization (PAHO) said Aedes aegypti mosquitoes are found in all countries in the Americas except Canada and continental Chile, and the virus will likely reach all countries and territories of the region where Aedes mosquitoes are found. The virus can also be transmitted through sex, from either a male or fe...\n",
              "8247                                                                  U.S. President Barack Obama visited a street market in Luang Prabang on Wednesday (September 7), where he greeted residents and tasted fresh coconut. He walked near the river of Mekong where women sell coconut drinks and tasted the local refreshment, posing for photographs and conversing with locals. Obama arrived in Laos Tuesday morning (September 6), becoming the first sitting U.S. president to visit landlocked Laos, where the United States waged a “secret war” while fighting in Vietnam, dropping an estimated two million tonnes of bombs on the country. Obama’s visit follows his attendance at the G20 summit in the Chinese city of Hangzhou. He is also due to attend an annual international gathering in the Southeast Asian region.\n",
              "8465     ALGONAC, MICH.—Parker Fox drifted out of the Donald Trump rally in a sort of euphoric daze, along with the thousands emptying into the parking lot alongside him. “After leaving a Trump rally, you’re very pro-Trump,” he recalled a few weeks later, describing a noisy communion with people who understood that politics mattered, unlike some people he could name at his high school. “It was so enthusiastic and so energetic you could feel it in your body. It gave you chills.” He’d barely had time to calm down when he learned through Facebook that his other favorite presidential candidate would also be passing through his quiet corner of eastern Michigan—Bernie Sanders. In fact, the U.S. senator from Vermont would be at the same community college the very next day. This thrilled Fox: his first...\n",
              "8481     Global health officials are racing to better understand the Zika virus behind a major outbreak that began in Brazil last year and has spread to many countries in the Americas.  The following are some questions and answers about the virus and current outbreak: How do people become infected? Zika is transmitted to people through the bite of infected female mosquitoes, primarily the Aedes aegypti mosquito, the same type that spreads dengue, chikungunya and yellow fever. The Pan American Health Organization (PAHO) said Aedes mosquitoes are found in all countries in the Americas except Canada and continental Chile, and the virus will likely reach all countries and territories of the region where Aedes mosquitoes are found. How do you treat Zika? There is no treatment or vaccine for Zika inf...\n",
              "8482     The following timeline charts the origin and spread of the Zika virus from its discovery nearly 70 years ago: 1947: Scientists researching yellow fever in Uganda’s Zika Forest identify the virus in a rhesus monkey 1948: Virus recovered from Aedes africanus mosquito in Zika Forest 1952: First human cases detected in Uganda and Tanzania 1954: Virus found in Nigeria 1960s-80s: Zika detected in mosquitoes and monkeys across equatorial Africa 1969–83: Zika found in equatorial Asia, including India, Indonesia, Malaysia and Pakistan 2007: Zika spreads from Africa and Asia, first large outbreak on Pacific island of Yap 2012: Researchers identify two distinct lineages of the virus, African and Asian 2013–14: Zika outbreaks in French Polynesia, Easter Island, the Cook Islands and New Caledonia. ...\n",
              "8505     Global health officials are racing to better understand the Zika virus behind a major outbreak that began in Brazil last year and has spread to many countries in the Americas.  The following are some questions and answers about the virus and current outbreak: How do people become infected? Zika is transmitted to people through the bite of infected female mosquitoes, primarily the Aedes aegypti mosquito, the same type that spreads dengue, chikungunya and yellow fever. The Pan American Health Organization (PAHO) said Aedes mosquitoes are found in all countries in the Americas except Canada and continental Chile, and the virus will likely reach all countries and territories of the region where Aedes mosquitoes are found. How do you treat Zika? There is no treatment or vaccine for Zika inf...\n",
              "8506     The following timeline charts the origin and spread of the Zika virus from its discovery nearly 70 years ago: 1947: Scientists researching yellow fever in Uganda’s Zika Forest identify the virus in a rhesus monkey 1948: Virus recovered from Aedes africanus mosquito in Zika Forest 1952: First human cases detected in Uganda and Tanzania 1954: Virus found in Nigeria 1960s-80s: Zika detected in mosquitoes and monkeys across equatorial Africa 1969–83: Zika found in equatorial Asia, including India, Indonesia, Malaysia and Pakistan 2007: Zika spreads from Africa and Asia, first large outbreak on Pacific island of Yap 2012: Researchers identify two distinct lineages of the virus, African and Asian 2013–14: Zika outbreaks in French Polynesia, Easter Island, the Cook Islands and New Caledonia. ...\n",
              "8771     In a speech weighted with America’s complicated racial history, Democrat Hillary Clinton laced into Republican presidential rival Donald Trump on Wednesday, accusing him of fueling divisions among Americans over race and religion. “His campaign is as divisive as any we have seen in our lifetimes,” Clinton said at a campaign appearance at the Illinois state house in Springfield. “It is built on stoking mistrust and pitting American against American. It’s there in everything he says and everything he promises to do as president.” Clinton ticked off Trump’s proposals to ban Muslims from entering the country, create a database of Muslims already in the country and step up deportations by creating a special deportation force as policies intended to drive Americans apart. She lambasted Trump...\n",
              "8970                                                                                                                                                                                                                                                                                                                                                                                                                                                                                                                                                                                                                                                                                                                                                                                                                                    \n",
              "9008     The following timeline charts the origin and spread of the Zika virus from its discovery nearly 70 years ago: 1947: Scientists researching yellow fever in Uganda’s Zika Forest identify the virus in a rhesus monkey 1948: Virus recovered from Aedes africanus mosquito in Zika Forest 1952: First human cases detected in Uganda and Tanzania 1954: Virus found in Nigeria 1960s-80s: Zika detected in mosquitoes and monkeys across equatorial Africa 1969–83: Zika found in equatorial Asia, including India, Indonesia, Malaysia and Pakistan 2007: Zika spreads from Africa and Asia, first large outbreak on Pacific island of Yap 2012: Researchers identify two distinct lineages of the virus, African and Asian 2013–14: Zika outbreaks in French Polynesia, Easter Island, the Cook Islands and New Caledonia. ...\n",
              "9009     Global health officials are racing to better understand the Zika virus behind a major outbreak that began in Brazil last year and has spread to many countries in the Americas.  The following are some questions and answers about the virus and current outbreak: How do people become infected? Zika is transmitted to people through the bite of infected female mosquitoes, primarily the Aedes aegypti mosquito, the same type that spreads dengue, chikungunya and yellow fever. The Pan American Health Organization (PAHO) said Aedes mosquitoes are found in all countries in the Americas except Canada and continental Chile, and the virus will likely reach all countries and territories of the region where Aedes mosquitoes are found. How do you treat Zika? There is no treatment or vaccine for Zika inf...\n",
              "9307     It’s the near future, and North Korea’s regime is on the brink of collapse. As rumors swirl of palace coups, forces on both sides of the world’s most militarized border are on heightened alert. The U.S. military faces a much bigger problem. Somewhere in the Pacific, a North Korean submarine is believed to be carrying nuclear warheads and the missiles to deliver them. And nobody knows where it is.  It sounds like the plot of a “Hunt for Red October”-style technothriller. But if Pyongyang’s technicians continue at their current pace, experts say it is becoming ever more likely.  One thing is certain: North Korea is plowing considerable resources into building its nuclear capability. And it is clearly making progress – even if Tuesday’s failed missile test shows it still has a long way to...\n",
              "9618     GOP leaders have unleashed a stunning level of vitriol against their party’s most successful presidential candidate.  House Speaker Paul Ryan (R-Wis.), emphatically declared last week that he was not ready to endorse Donald Trump, his party’s presumptive presidential nominee. This move was unprecedented in modern American history. Trump’s response was that Ryan may need to be replaced as head of the Republican National Convention.  Ryan’s rebuke reminds Americans that Trump is deeply unpopular, particularly among a significant number of powerful Republicans. Former GOP presidential nominee Mitt Romney belittled the GOP’s new leader as a moral cretin unfit to be the standard bearer. Former President George W. Bush and his father, President George H.W. Bush, both say they are not attendi...\n",
              "9737                                                                                  Caitlyn Jenner posted a video on Wednesday (April 26) of herself using a women’s bathroom at Republican Presidential candidate Donald Trump’s New York hotel. Published on her Facebook page, Jenner’s video shows her walking along the street, entering the Trump International Hotel and Tower and making her way to the restrooms. The video was spurred on by Trump, who, during an appearance on The Today Show last week, said in an interview that he would not care if Jenner used the women’s room at his properties. His comment came following the trending topic of so-called “bathroom bills,” like the one passed in North Carolina, which prohibits transgender people from using bathrooms consistent with their gender identity.\n",
              "10479    The Democratic and Republican nominees for the Nov. 8 presidential election are decided in a series of state-by-state contests. The key to winning the nomination for each party is ultimately not about the popular vote, but about securing the number of delegates needed to win the nomination at each party’s convention - July 18-21 in Cleveland for the Republicans and July 25-28 in Philadelphia for the Democrats. The following is a guide to the nominating process: Q: Is the delegate selection process the same for the Republican and Democratic parties? A: No. The parties set their own rules. One thing that is the same is that at each party convention, a candidate needs to reach only a simple majority of the delegate votes to win the nomination. Q: How many delegates are there? A: The Democ...\n",
              "Name: text, dtype: object"
            ]
          },
          "metadata": {},
          "execution_count": 15
        }
      ]
    },
    {
      "cell_type": "code",
      "metadata": {
        "id": "_cjul9NfOPuz"
      },
      "source": [
        "#Seperating Publication info, from actual text\n",
        "publisher = []\n",
        "tmp_text = []\n",
        "for index,row in enumerate(d2.text.values):\n",
        "    if index in unknown_publishers:\n",
        "        #Add unknown of publisher not mentioned\n",
        "        tmp_text.append(row)\n",
        "        \n",
        "        publisher.append(\"Unknown\")\n",
        "        continue\n",
        "    record = row.split(\" -\", maxsplit=1)\n",
        "    publisher.append(record[0])\n",
        "    tmp_text.append(record[1])"
      ],
      "execution_count": 16,
      "outputs": []
    },
    {
      "cell_type": "code",
      "metadata": {
        "id": "7sUHIje8OiLJ"
      },
      "source": [
        "#Replace existing text column with new text\n",
        "#add seperate column for publication info\n",
        "d2[\"publisher\"] = publisher\n",
        "d2[\"text\"] = tmp_text\n",
        "\n",
        "del publisher, tmp_text, record, unknown_publishers"
      ],
      "execution_count": 17,
      "outputs": []
    },
    {
      "cell_type": "code",
      "metadata": {
        "colab": {
          "base_uri": "https://localhost:8080/",
          "height": 1000
        },
        "id": "43eHtmMOOplw",
        "outputId": "1fc9d5b6-bffd-436c-eb72-1e4a8f68abd2"
      },
      "source": [
        "d2.head()"
      ],
      "execution_count": 18,
      "outputs": [
        {
          "output_type": "execute_result",
          "data": {
            "text/html": [
              "<div>\n",
              "<style scoped>\n",
              "    .dataframe tbody tr th:only-of-type {\n",
              "        vertical-align: middle;\n",
              "    }\n",
              "\n",
              "    .dataframe tbody tr th {\n",
              "        vertical-align: top;\n",
              "    }\n",
              "\n",
              "    .dataframe thead th {\n",
              "        text-align: right;\n",
              "    }\n",
              "</style>\n",
              "<table border=\"1\" class=\"dataframe\">\n",
              "  <thead>\n",
              "    <tr style=\"text-align: right;\">\n",
              "      <th></th>\n",
              "      <th>title</th>\n",
              "      <th>text</th>\n",
              "      <th>subject</th>\n",
              "      <th>date</th>\n",
              "      <th>label</th>\n",
              "      <th>publisher</th>\n",
              "    </tr>\n",
              "  </thead>\n",
              "  <tbody>\n",
              "    <tr>\n",
              "      <th>0</th>\n",
              "      <td>As U.S. budget fight looms, Republicans flip their fiscal script</td>\n",
              "      <td>The head of a conservative Republican faction in the U.S. Congress, who voted this month for a huge expansion of the national debt to pay for tax cuts, called himself a “fiscal conservative” on Sunday and urged budget restraint in 2018. In keeping with a sharp pivot under way among Republicans, U.S. Representative Mark Meadows, speaking on CBS’ “Face the Nation,” drew a hard line on federal spending, which lawmakers are bracing to do battle over in January. When they return from the holidays on Wednesday, lawmakers will begin trying to pass a federal budget in a fight likely to be linked to other issues, such as immigration policy, even as the November congressional election campaigns approach in which Republicans will seek to keep control of Congress. President Donald Trump and his R...</td>\n",
              "      <td>politicsNews</td>\n",
              "      <td>December 31, 2017</td>\n",
              "      <td>1</td>\n",
              "      <td>WASHINGTON (Reuters)</td>\n",
              "    </tr>\n",
              "    <tr>\n",
              "      <th>1</th>\n",
              "      <td>U.S. military to accept transgender recruits on Monday: Pentagon</td>\n",
              "      <td>Transgender people will be allowed for the first time to enlist in the U.S. military starting on Monday as ordered by federal courts, the Pentagon said on Friday, after President Donald Trump’s administration decided not to appeal rulings that blocked his transgender ban. Two federal appeals courts, one in Washington and one in Virginia, last week rejected the administration’s request to put on hold orders by lower court judges requiring the military to begin accepting transgender recruits on Jan. 1. A Justice Department official said the administration will not challenge those rulings. “The Department of Defense has announced that it will be releasing an independent study of these issues in the coming weeks. So rather than litigate this interim appeal before that occurs, the administ...</td>\n",
              "      <td>politicsNews</td>\n",
              "      <td>December 29, 2017</td>\n",
              "      <td>1</td>\n",
              "      <td>WASHINGTON (Reuters)</td>\n",
              "    </tr>\n",
              "    <tr>\n",
              "      <th>2</th>\n",
              "      <td>Senior U.S. Republican senator: 'Let Mr. Mueller do his job'</td>\n",
              "      <td>The special counsel investigation of links between Russia and President Trump’s 2016 election campaign should continue without interference in 2018, despite calls from some Trump administration allies and Republican lawmakers to shut it down, a prominent Republican senator said on Sunday. Lindsey Graham, who serves on the Senate armed forces and judiciary committees, said Department of Justice Special Counsel Robert Mueller needs to carry on with his Russia investigation without political interference. “This investigation will go forward. It will be an investigation conducted without political influence,” Graham said on CBS’s Face the Nation news program. “And we all need to let Mr. Mueller do his job. I think he’s the right guy at the right time.”  The question of how Russia may have...</td>\n",
              "      <td>politicsNews</td>\n",
              "      <td>December 31, 2017</td>\n",
              "      <td>1</td>\n",
              "      <td>WASHINGTON (Reuters)</td>\n",
              "    </tr>\n",
              "    <tr>\n",
              "      <th>3</th>\n",
              "      <td>FBI Russia probe helped by Australian diplomat tip-off: NYT</td>\n",
              "      <td>Trump campaign adviser George Papadopoulos told an Australian diplomat in May 2016 that Russia had political dirt on Democratic presidential candidate Hillary Clinton, the New York Times reported on Saturday. The conversation between Papadopoulos and the diplomat, Alexander Downer, in London was a driving factor behind the FBI’s decision to open a counter-intelligence investigation of Moscow’s contacts with the Trump campaign, the Times reported. Two months after the meeting, Australian officials passed the information that came from Papadopoulos to their American counterparts when leaked Democratic emails began appearing online, according to the newspaper, which cited four current and former U.S. and foreign officials. Besides the information from the Australians, the probe by the Fe...</td>\n",
              "      <td>politicsNews</td>\n",
              "      <td>December 30, 2017</td>\n",
              "      <td>1</td>\n",
              "      <td>WASHINGTON (Reuters)</td>\n",
              "    </tr>\n",
              "    <tr>\n",
              "      <th>4</th>\n",
              "      <td>Trump wants Postal Service to charge 'much more' for Amazon shipments</td>\n",
              "      <td>President Donald Trump called on the U.S. Postal Service on Friday to charge “much more” to ship packages for Amazon (AMZN.O), picking another fight with an online retail giant he has criticized in the past.     “Why is the United States Post Office, which is losing many billions of dollars a year, while charging Amazon and others so little to deliver their packages, making Amazon richer and the Post Office dumber and poorer? Should be charging MUCH MORE!” Trump wrote on Twitter.  The president’s tweet drew fresh attention to the fragile finances of the Postal Service at a time when tens of millions of parcels have just been shipped all over the country for the holiday season.  The U.S. Postal Service, which runs at a big loss, is an independent agency within the federal government an...</td>\n",
              "      <td>politicsNews</td>\n",
              "      <td>December 29, 2017</td>\n",
              "      <td>1</td>\n",
              "      <td>SEATTLE/WASHINGTON (Reuters)</td>\n",
              "    </tr>\n",
              "  </tbody>\n",
              "</table>\n",
              "</div>"
            ],
            "text/plain": [
              "                                                                   title  ...                     publisher\n",
              "0       As U.S. budget fight looms, Republicans flip their fiscal script  ...          WASHINGTON (Reuters)\n",
              "1       U.S. military to accept transgender recruits on Monday: Pentagon  ...          WASHINGTON (Reuters)\n",
              "2           Senior U.S. Republican senator: 'Let Mr. Mueller do his job'  ...          WASHINGTON (Reuters)\n",
              "3            FBI Russia probe helped by Australian diplomat tip-off: NYT  ...          WASHINGTON (Reuters)\n",
              "4  Trump wants Postal Service to charge 'much more' for Amazon shipments  ...  SEATTLE/WASHINGTON (Reuters)\n",
              "\n",
              "[5 rows x 6 columns]"
            ]
          },
          "metadata": {},
          "execution_count": 18
        }
      ]
    },
    {
      "cell_type": "code",
      "metadata": {
        "colab": {
          "base_uri": "https://localhost:8080/"
        },
        "id": "G8Vsl7lyO03S",
        "outputId": "80cdee8a-a725-45b1-a2d1-9e710b6a06c2"
      },
      "source": [
        "d2['publisher'].value_counts()"
      ],
      "execution_count": 19,
      "outputs": [
        {
          "output_type": "execute_result",
          "data": {
            "text/plain": [
              "WASHINGTON (Reuters)                        6389\n",
              "(Reuters)                                   1483\n",
              "LONDON (Reuters)                             705\n",
              "NEW YORK (Reuters)                           695\n",
              "MOSCOW (Reuters)                             623\n",
              "                                            ... \n",
              "NEW YORK/ANKARA (Reuters)                      1\n",
              " NOGALES, Arizona (Reuters)                    1\n",
              "MYEBON, Myanmar (Reuters)                      1\n",
              "SACRAMENTO, Calif./LOS ANGELES (Reuters)       1\n",
              "SANDY SPRINGS, Ga. (Reuters)                   1\n",
              "Name: publisher, Length: 1692, dtype: int64"
            ]
          },
          "metadata": {},
          "execution_count": 19
        }
      ]
    },
    {
      "cell_type": "code",
      "metadata": {
        "colab": {
          "base_uri": "https://localhost:8080/",
          "height": 988
        },
        "id": "_dJtKHYmO_tJ",
        "outputId": "ce79121d-220f-4438-98fc-692b8b3d92ce"
      },
      "source": [
        "d2.drop(['publisher'], axis=1, inplace=True)\n",
        "d2.head()"
      ],
      "execution_count": 20,
      "outputs": [
        {
          "output_type": "execute_result",
          "data": {
            "text/html": [
              "<div>\n",
              "<style scoped>\n",
              "    .dataframe tbody tr th:only-of-type {\n",
              "        vertical-align: middle;\n",
              "    }\n",
              "\n",
              "    .dataframe tbody tr th {\n",
              "        vertical-align: top;\n",
              "    }\n",
              "\n",
              "    .dataframe thead th {\n",
              "        text-align: right;\n",
              "    }\n",
              "</style>\n",
              "<table border=\"1\" class=\"dataframe\">\n",
              "  <thead>\n",
              "    <tr style=\"text-align: right;\">\n",
              "      <th></th>\n",
              "      <th>title</th>\n",
              "      <th>text</th>\n",
              "      <th>subject</th>\n",
              "      <th>date</th>\n",
              "      <th>label</th>\n",
              "    </tr>\n",
              "  </thead>\n",
              "  <tbody>\n",
              "    <tr>\n",
              "      <th>0</th>\n",
              "      <td>As U.S. budget fight looms, Republicans flip their fiscal script</td>\n",
              "      <td>The head of a conservative Republican faction in the U.S. Congress, who voted this month for a huge expansion of the national debt to pay for tax cuts, called himself a “fiscal conservative” on Sunday and urged budget restraint in 2018. In keeping with a sharp pivot under way among Republicans, U.S. Representative Mark Meadows, speaking on CBS’ “Face the Nation,” drew a hard line on federal spending, which lawmakers are bracing to do battle over in January. When they return from the holidays on Wednesday, lawmakers will begin trying to pass a federal budget in a fight likely to be linked to other issues, such as immigration policy, even as the November congressional election campaigns approach in which Republicans will seek to keep control of Congress. President Donald Trump and his R...</td>\n",
              "      <td>politicsNews</td>\n",
              "      <td>December 31, 2017</td>\n",
              "      <td>1</td>\n",
              "    </tr>\n",
              "    <tr>\n",
              "      <th>1</th>\n",
              "      <td>U.S. military to accept transgender recruits on Monday: Pentagon</td>\n",
              "      <td>Transgender people will be allowed for the first time to enlist in the U.S. military starting on Monday as ordered by federal courts, the Pentagon said on Friday, after President Donald Trump’s administration decided not to appeal rulings that blocked his transgender ban. Two federal appeals courts, one in Washington and one in Virginia, last week rejected the administration’s request to put on hold orders by lower court judges requiring the military to begin accepting transgender recruits on Jan. 1. A Justice Department official said the administration will not challenge those rulings. “The Department of Defense has announced that it will be releasing an independent study of these issues in the coming weeks. So rather than litigate this interim appeal before that occurs, the administ...</td>\n",
              "      <td>politicsNews</td>\n",
              "      <td>December 29, 2017</td>\n",
              "      <td>1</td>\n",
              "    </tr>\n",
              "    <tr>\n",
              "      <th>2</th>\n",
              "      <td>Senior U.S. Republican senator: 'Let Mr. Mueller do his job'</td>\n",
              "      <td>The special counsel investigation of links between Russia and President Trump’s 2016 election campaign should continue without interference in 2018, despite calls from some Trump administration allies and Republican lawmakers to shut it down, a prominent Republican senator said on Sunday. Lindsey Graham, who serves on the Senate armed forces and judiciary committees, said Department of Justice Special Counsel Robert Mueller needs to carry on with his Russia investigation without political interference. “This investigation will go forward. It will be an investigation conducted without political influence,” Graham said on CBS’s Face the Nation news program. “And we all need to let Mr. Mueller do his job. I think he’s the right guy at the right time.”  The question of how Russia may have...</td>\n",
              "      <td>politicsNews</td>\n",
              "      <td>December 31, 2017</td>\n",
              "      <td>1</td>\n",
              "    </tr>\n",
              "    <tr>\n",
              "      <th>3</th>\n",
              "      <td>FBI Russia probe helped by Australian diplomat tip-off: NYT</td>\n",
              "      <td>Trump campaign adviser George Papadopoulos told an Australian diplomat in May 2016 that Russia had political dirt on Democratic presidential candidate Hillary Clinton, the New York Times reported on Saturday. The conversation between Papadopoulos and the diplomat, Alexander Downer, in London was a driving factor behind the FBI’s decision to open a counter-intelligence investigation of Moscow’s contacts with the Trump campaign, the Times reported. Two months after the meeting, Australian officials passed the information that came from Papadopoulos to their American counterparts when leaked Democratic emails began appearing online, according to the newspaper, which cited four current and former U.S. and foreign officials. Besides the information from the Australians, the probe by the Fe...</td>\n",
              "      <td>politicsNews</td>\n",
              "      <td>December 30, 2017</td>\n",
              "      <td>1</td>\n",
              "    </tr>\n",
              "    <tr>\n",
              "      <th>4</th>\n",
              "      <td>Trump wants Postal Service to charge 'much more' for Amazon shipments</td>\n",
              "      <td>President Donald Trump called on the U.S. Postal Service on Friday to charge “much more” to ship packages for Amazon (AMZN.O), picking another fight with an online retail giant he has criticized in the past.     “Why is the United States Post Office, which is losing many billions of dollars a year, while charging Amazon and others so little to deliver their packages, making Amazon richer and the Post Office dumber and poorer? Should be charging MUCH MORE!” Trump wrote on Twitter.  The president’s tweet drew fresh attention to the fragile finances of the Postal Service at a time when tens of millions of parcels have just been shipped all over the country for the holiday season.  The U.S. Postal Service, which runs at a big loss, is an independent agency within the federal government an...</td>\n",
              "      <td>politicsNews</td>\n",
              "      <td>December 29, 2017</td>\n",
              "      <td>1</td>\n",
              "    </tr>\n",
              "  </tbody>\n",
              "</table>\n",
              "</div>"
            ],
            "text/plain": [
              "                                                                   title  ... label\n",
              "0       As U.S. budget fight looms, Republicans flip their fiscal script  ...     1\n",
              "1       U.S. military to accept transgender recruits on Monday: Pentagon  ...     1\n",
              "2           Senior U.S. Republican senator: 'Let Mr. Mueller do his job'  ...     1\n",
              "3            FBI Russia probe helped by Australian diplomat tip-off: NYT  ...     1\n",
              "4  Trump wants Postal Service to charge 'much more' for Amazon shipments  ...     1\n",
              "\n",
              "[5 rows x 5 columns]"
            ]
          },
          "metadata": {},
          "execution_count": 20
        }
      ]
    },
    {
      "cell_type": "markdown",
      "metadata": {
        "id": "YARrl3g7NAdS"
      },
      "source": [
        "### COMBINING TWO DATASETS"
      ]
    },
    {
      "cell_type": "code",
      "metadata": {
        "colab": {
          "base_uri": "https://localhost:8080/",
          "height": 988
        },
        "id": "8G3mZkyHjCaC",
        "outputId": "98fc8ed1-f7e4-45bc-e8be-8a532dcecb0a"
      },
      "source": [
        "# combining the two datasets or concatenating the two dataset.\n",
        "frame = [d1, d2]\n",
        "df = pd.concat(frame)\n",
        "df.head()"
      ],
      "execution_count": 21,
      "outputs": [
        {
          "output_type": "execute_result",
          "data": {
            "text/html": [
              "<div>\n",
              "<style scoped>\n",
              "    .dataframe tbody tr th:only-of-type {\n",
              "        vertical-align: middle;\n",
              "    }\n",
              "\n",
              "    .dataframe tbody tr th {\n",
              "        vertical-align: top;\n",
              "    }\n",
              "\n",
              "    .dataframe thead th {\n",
              "        text-align: right;\n",
              "    }\n",
              "</style>\n",
              "<table border=\"1\" class=\"dataframe\">\n",
              "  <thead>\n",
              "    <tr style=\"text-align: right;\">\n",
              "      <th></th>\n",
              "      <th>title</th>\n",
              "      <th>text</th>\n",
              "      <th>subject</th>\n",
              "      <th>date</th>\n",
              "      <th>label</th>\n",
              "    </tr>\n",
              "  </thead>\n",
              "  <tbody>\n",
              "    <tr>\n",
              "      <th>0</th>\n",
              "      <td>Donald Trump Sends Out Embarrassing New Year’s Eve Message; This is Disturbing</td>\n",
              "      <td>Donald Trump just couldn t wish all Americans a Happy New Year and leave it at that. Instead, he had to give a shout out to his enemies, haters and  the very dishonest fake news media.  The former reality show star had just one job to do and he couldn t do it. As our Country rapidly grows stronger and smarter, I want to wish all of my friends, supporters, enemies, haters, and even the very dishonest Fake News Media, a Happy and Healthy New Year,  President Angry Pants tweeted.  2018 will be a great year for America! As our Country rapidly grows stronger and smarter, I want to wish all of my friends, supporters, enemies, haters, and even the very dishonest Fake News Media, a Happy and Healthy New Year. 2018 will be a great year for America!  Donald J. Trump (@realDonaldTrump) December 3...</td>\n",
              "      <td>News</td>\n",
              "      <td>December 31, 2017</td>\n",
              "      <td>0</td>\n",
              "    </tr>\n",
              "    <tr>\n",
              "      <th>1</th>\n",
              "      <td>Drunk Bragging Trump Staffer Started Russian Collusion Investigation</td>\n",
              "      <td>House Intelligence Committee Chairman Devin Nunes is going to have a bad day. He s been under the assumption, like many of us, that the Christopher Steele-dossier was what prompted the Russia investigation so he s been lashing out at the Department of Justice and the FBI in order to protect Trump. As it happens, the dossier is not what started the investigation, according to documents obtained by the New York Times.Former Trump campaign adviser George Papadopoulos was drunk in a wine bar when he revealed knowledge of Russian opposition research on Hillary Clinton.On top of that, Papadopoulos wasn t just a covfefe boy for Trump, as his administration has alleged. He had a much larger role, but none so damning as being a drunken fool in a wine bar. Coffee boys  don t help to arrange a Ne...</td>\n",
              "      <td>News</td>\n",
              "      <td>December 31, 2017</td>\n",
              "      <td>0</td>\n",
              "    </tr>\n",
              "    <tr>\n",
              "      <th>2</th>\n",
              "      <td>Sheriff David Clarke Becomes An Internet Joke For Threatening To Poke People ‘In The Eye’</td>\n",
              "      <td>On Friday, it was revealed that former Milwaukee Sheriff David Clarke, who was being considered for Homeland Security Secretary in Donald Trump s administration, has an email scandal of his own.In January, there was a brief run-in on a plane between Clarke and fellow passenger Dan Black, who he later had detained by the police for no reason whatsoever, except that maybe his feelings were hurt. Clarke messaged the police to stop Black after he deplaned, and now, a search warrant has been executed by the FBI to see the exchanges.Clarke is calling it fake news even though copies of the search warrant are on the Internet. I am UNINTIMIDATED by lib media attempts to smear and discredit me with their FAKE NEWS reports designed to silence me,  the former sheriff tweeted.  I will continue to p...</td>\n",
              "      <td>News</td>\n",
              "      <td>December 30, 2017</td>\n",
              "      <td>0</td>\n",
              "    </tr>\n",
              "    <tr>\n",
              "      <th>3</th>\n",
              "      <td>Trump Is So Obsessed He Even Has Obama’s Name Coded Into His Website (IMAGES)</td>\n",
              "      <td>On Christmas day, Donald Trump announced that he would  be back to work  the following day, but he is golfing for the fourth day in a row. The former reality show star blasted former President Barack Obama for playing golf and now Trump is on track to outpace the number of golf games his predecessor played.Updated my tracker of Trump s appearances at Trump properties.71 rounds of golf including today s. At this pace, he ll pass Obama s first-term total by July 24 next year. https://t.co/Fg7VacxRtJ pic.twitter.com/5gEMcjQTbH  Philip Bump (@pbump) December 29, 2017 That makes what a Washington Post reporter discovered on Trump s website really weird, but everything about this administration is bizarre AF. The coding contained a reference to Obama and golf:  Unlike Obama, we are working t...</td>\n",
              "      <td>News</td>\n",
              "      <td>December 29, 2017</td>\n",
              "      <td>0</td>\n",
              "    </tr>\n",
              "    <tr>\n",
              "      <th>4</th>\n",
              "      <td>Pope Francis Just Called Out Donald Trump During His Christmas Speech</td>\n",
              "      <td>Pope Francis used his annual Christmas Day message to rebuke Donald Trump without even mentioning his name. The Pope delivered his message just days after members of the United Nations condemned Trump s move to recognize Jerusalem as the capital of Israel. The Pontiff prayed on Monday for the  peaceful coexistence of two states within mutually agreed and internationally recognized borders. We see Jesus in the children of the Middle East who continue to suffer because of growing tensions between Israelis and Palestinians,  Francis said.  On this festive day, let us ask the Lord for peace for Jerusalem and for all the Holy Land. Let us pray that the will to resume dialogue may prevail between the parties and that a negotiated solution can finally be reached. The Pope went on to plead for...</td>\n",
              "      <td>News</td>\n",
              "      <td>December 25, 2017</td>\n",
              "      <td>0</td>\n",
              "    </tr>\n",
              "  </tbody>\n",
              "</table>\n",
              "</div>"
            ],
            "text/plain": [
              "                                                                                        title  ... label\n",
              "0              Donald Trump Sends Out Embarrassing New Year’s Eve Message; This is Disturbing  ...     0\n",
              "1                        Drunk Bragging Trump Staffer Started Russian Collusion Investigation  ...     0\n",
              "2   Sheriff David Clarke Becomes An Internet Joke For Threatening To Poke People ‘In The Eye’  ...     0\n",
              "3               Trump Is So Obsessed He Even Has Obama’s Name Coded Into His Website (IMAGES)  ...     0\n",
              "4                       Pope Francis Just Called Out Donald Trump During His Christmas Speech  ...     0\n",
              "\n",
              "[5 rows x 5 columns]"
            ]
          },
          "metadata": {},
          "execution_count": 21
        }
      ]
    },
    {
      "cell_type": "code",
      "metadata": {
        "colab": {
          "base_uri": "https://localhost:8080/"
        },
        "id": "DAjLmFK1lMMY",
        "outputId": "ca1ac926-2746-4f7d-e762-826975f0a920"
      },
      "source": [
        "df.shape"
      ],
      "execution_count": 22,
      "outputs": [
        {
          "output_type": "execute_result",
          "data": {
            "text/plain": [
              "(44898, 5)"
            ]
          },
          "metadata": {},
          "execution_count": 22
        }
      ]
    },
    {
      "cell_type": "code",
      "metadata": {
        "colab": {
          "base_uri": "https://localhost:8080/"
        },
        "id": "CPauJ6DPkO85",
        "outputId": "9f5893fe-14f8-4234-8bb6-ffdeaae1208c"
      },
      "source": [
        "df.isnull().sum()"
      ],
      "execution_count": 23,
      "outputs": [
        {
          "output_type": "execute_result",
          "data": {
            "text/plain": [
              "title      0\n",
              "text       0\n",
              "subject    0\n",
              "date       0\n",
              "label      0\n",
              "dtype: int64"
            ]
          },
          "metadata": {},
          "execution_count": 23
        }
      ]
    },
    {
      "cell_type": "code",
      "metadata": {
        "id": "nxu2bm_ckPAx"
      },
      "source": [
        "df = df.drop_duplicates()"
      ],
      "execution_count": 24,
      "outputs": []
    },
    {
      "cell_type": "code",
      "metadata": {
        "id": "NmdqcOAOnHVu"
      },
      "source": [
        "df.reset_index(inplace=True)"
      ],
      "execution_count": 26,
      "outputs": []
    },
    {
      "cell_type": "code",
      "metadata": {
        "colab": {
          "base_uri": "https://localhost:8080/"
        },
        "id": "KdMLL42xkPM6",
        "outputId": "7b7fb783-5d1f-4f5c-ff41-abe67008e088"
      },
      "source": [
        "# after dropping duplicates, my new dataset shape. Total duplicates in the entire dataset = 209\n",
        "df.shape"
      ],
      "execution_count": 27,
      "outputs": [
        {
          "output_type": "execute_result",
          "data": {
            "text/plain": [
              "(44689, 6)"
            ]
          },
          "metadata": {},
          "execution_count": 27
        }
      ]
    },
    {
      "cell_type": "code",
      "metadata": {
        "colab": {
          "base_uri": "https://localhost:8080/"
        },
        "id": "COFzZ3jwmxQQ",
        "outputId": "9b60788a-e9e9-4562-ff17-0cff446bb560"
      },
      "source": [
        "df.columns"
      ],
      "execution_count": 28,
      "outputs": [
        {
          "output_type": "execute_result",
          "data": {
            "text/plain": [
              "Index(['index', 'title', 'text', 'subject', 'date', 'label'], dtype='object')"
            ]
          },
          "metadata": {},
          "execution_count": 28
        }
      ]
    },
    {
      "cell_type": "code",
      "metadata": {
        "colab": {
          "base_uri": "https://localhost:8080/"
        },
        "id": "Vpefi__Pnz55",
        "outputId": "9f3f70eb-f56c-4f40-9485-29e78f8639c2"
      },
      "source": [
        "df['subject'].value_counts()"
      ],
      "execution_count": 29,
      "outputs": [
        {
          "output_type": "execute_result",
          "data": {
            "text/plain": [
              "politicsNews       11220\n",
              "worldnews           9991\n",
              "News                9050\n",
              "politics            6838\n",
              "left-news           4459\n",
              "Government News     1570\n",
              "US_News              783\n",
              "Middle-east          778\n",
              "Name: subject, dtype: int64"
            ]
          },
          "metadata": {},
          "execution_count": 29
        }
      ]
    },
    {
      "cell_type": "code",
      "metadata": {
        "colab": {
          "base_uri": "https://localhost:8080/"
        },
        "id": "-ecmLfTcn4U5",
        "outputId": "cb32285b-477e-42ae-ec3a-948eedb87ca5"
      },
      "source": [
        "df['label'].value_counts()"
      ],
      "execution_count": 30,
      "outputs": [
        {
          "output_type": "execute_result",
          "data": {
            "text/plain": [
              "0    23478\n",
              "1    21211\n",
              "Name: label, dtype: int64"
            ]
          },
          "metadata": {},
          "execution_count": 30
        }
      ]
    },
    {
      "cell_type": "code",
      "metadata": {
        "colab": {
          "base_uri": "https://localhost:8080/",
          "height": 884
        },
        "id": "KiuAJHx_jCc8",
        "outputId": "1483a462-9f97-485b-af7c-20928c216833"
      },
      "source": [
        "# dropping unnecessary columns. \n",
        "df.drop(['subject', 'date'], axis = 1, inplace=True)\n",
        "df.head()"
      ],
      "execution_count": 31,
      "outputs": [
        {
          "output_type": "execute_result",
          "data": {
            "text/html": [
              "<div>\n",
              "<style scoped>\n",
              "    .dataframe tbody tr th:only-of-type {\n",
              "        vertical-align: middle;\n",
              "    }\n",
              "\n",
              "    .dataframe tbody tr th {\n",
              "        vertical-align: top;\n",
              "    }\n",
              "\n",
              "    .dataframe thead th {\n",
              "        text-align: right;\n",
              "    }\n",
              "</style>\n",
              "<table border=\"1\" class=\"dataframe\">\n",
              "  <thead>\n",
              "    <tr style=\"text-align: right;\">\n",
              "      <th></th>\n",
              "      <th>index</th>\n",
              "      <th>title</th>\n",
              "      <th>text</th>\n",
              "      <th>label</th>\n",
              "    </tr>\n",
              "  </thead>\n",
              "  <tbody>\n",
              "    <tr>\n",
              "      <th>0</th>\n",
              "      <td>0</td>\n",
              "      <td>Donald Trump Sends Out Embarrassing New Year’s Eve Message; This is Disturbing</td>\n",
              "      <td>Donald Trump just couldn t wish all Americans a Happy New Year and leave it at that. Instead, he had to give a shout out to his enemies, haters and  the very dishonest fake news media.  The former reality show star had just one job to do and he couldn t do it. As our Country rapidly grows stronger and smarter, I want to wish all of my friends, supporters, enemies, haters, and even the very dishonest Fake News Media, a Happy and Healthy New Year,  President Angry Pants tweeted.  2018 will be a great year for America! As our Country rapidly grows stronger and smarter, I want to wish all of my friends, supporters, enemies, haters, and even the very dishonest Fake News Media, a Happy and Healthy New Year. 2018 will be a great year for America!  Donald J. Trump (@realDonaldTrump) December 3...</td>\n",
              "      <td>0</td>\n",
              "    </tr>\n",
              "    <tr>\n",
              "      <th>1</th>\n",
              "      <td>1</td>\n",
              "      <td>Drunk Bragging Trump Staffer Started Russian Collusion Investigation</td>\n",
              "      <td>House Intelligence Committee Chairman Devin Nunes is going to have a bad day. He s been under the assumption, like many of us, that the Christopher Steele-dossier was what prompted the Russia investigation so he s been lashing out at the Department of Justice and the FBI in order to protect Trump. As it happens, the dossier is not what started the investigation, according to documents obtained by the New York Times.Former Trump campaign adviser George Papadopoulos was drunk in a wine bar when he revealed knowledge of Russian opposition research on Hillary Clinton.On top of that, Papadopoulos wasn t just a covfefe boy for Trump, as his administration has alleged. He had a much larger role, but none so damning as being a drunken fool in a wine bar. Coffee boys  don t help to arrange a Ne...</td>\n",
              "      <td>0</td>\n",
              "    </tr>\n",
              "    <tr>\n",
              "      <th>2</th>\n",
              "      <td>2</td>\n",
              "      <td>Sheriff David Clarke Becomes An Internet Joke For Threatening To Poke People ‘In The Eye’</td>\n",
              "      <td>On Friday, it was revealed that former Milwaukee Sheriff David Clarke, who was being considered for Homeland Security Secretary in Donald Trump s administration, has an email scandal of his own.In January, there was a brief run-in on a plane between Clarke and fellow passenger Dan Black, who he later had detained by the police for no reason whatsoever, except that maybe his feelings were hurt. Clarke messaged the police to stop Black after he deplaned, and now, a search warrant has been executed by the FBI to see the exchanges.Clarke is calling it fake news even though copies of the search warrant are on the Internet. I am UNINTIMIDATED by lib media attempts to smear and discredit me with their FAKE NEWS reports designed to silence me,  the former sheriff tweeted.  I will continue to p...</td>\n",
              "      <td>0</td>\n",
              "    </tr>\n",
              "    <tr>\n",
              "      <th>3</th>\n",
              "      <td>3</td>\n",
              "      <td>Trump Is So Obsessed He Even Has Obama’s Name Coded Into His Website (IMAGES)</td>\n",
              "      <td>On Christmas day, Donald Trump announced that he would  be back to work  the following day, but he is golfing for the fourth day in a row. The former reality show star blasted former President Barack Obama for playing golf and now Trump is on track to outpace the number of golf games his predecessor played.Updated my tracker of Trump s appearances at Trump properties.71 rounds of golf including today s. At this pace, he ll pass Obama s first-term total by July 24 next year. https://t.co/Fg7VacxRtJ pic.twitter.com/5gEMcjQTbH  Philip Bump (@pbump) December 29, 2017 That makes what a Washington Post reporter discovered on Trump s website really weird, but everything about this administration is bizarre AF. The coding contained a reference to Obama and golf:  Unlike Obama, we are working t...</td>\n",
              "      <td>0</td>\n",
              "    </tr>\n",
              "    <tr>\n",
              "      <th>4</th>\n",
              "      <td>4</td>\n",
              "      <td>Pope Francis Just Called Out Donald Trump During His Christmas Speech</td>\n",
              "      <td>Pope Francis used his annual Christmas Day message to rebuke Donald Trump without even mentioning his name. The Pope delivered his message just days after members of the United Nations condemned Trump s move to recognize Jerusalem as the capital of Israel. The Pontiff prayed on Monday for the  peaceful coexistence of two states within mutually agreed and internationally recognized borders. We see Jesus in the children of the Middle East who continue to suffer because of growing tensions between Israelis and Palestinians,  Francis said.  On this festive day, let us ask the Lord for peace for Jerusalem and for all the Holy Land. Let us pray that the will to resume dialogue may prevail between the parties and that a negotiated solution can finally be reached. The Pope went on to plead for...</td>\n",
              "      <td>0</td>\n",
              "    </tr>\n",
              "  </tbody>\n",
              "</table>\n",
              "</div>"
            ],
            "text/plain": [
              "   index  ... label\n",
              "0      0  ...     0\n",
              "1      1  ...     0\n",
              "2      2  ...     0\n",
              "3      3  ...     0\n",
              "4      4  ...     0\n",
              "\n",
              "[5 rows x 4 columns]"
            ]
          },
          "metadata": {},
          "execution_count": 31
        }
      ]
    },
    {
      "cell_type": "code",
      "metadata": {
        "colab": {
          "base_uri": "https://localhost:8080/"
        },
        "id": "ZhAphokqnFYC",
        "outputId": "72d75677-22b5-495e-f3f3-f75507f3c8d0"
      },
      "source": [
        "df.columns"
      ],
      "execution_count": 32,
      "outputs": [
        {
          "output_type": "execute_result",
          "data": {
            "text/plain": [
              "Index(['index', 'title', 'text', 'label'], dtype='object')"
            ]
          },
          "metadata": {},
          "execution_count": 32
        }
      ]
    },
    {
      "cell_type": "code",
      "metadata": {
        "colab": {
          "base_uri": "https://localhost:8080/",
          "height": 1000
        },
        "id": "qG1IO3v9nFbj",
        "outputId": "f8049b6e-355e-40ba-db9d-12adbd4f5df5"
      },
      "source": [
        "df['combine']= df['title'] +' '+ df['text']\n",
        "df.head()"
      ],
      "execution_count": 33,
      "outputs": [
        {
          "output_type": "execute_result",
          "data": {
            "text/html": [
              "<div>\n",
              "<style scoped>\n",
              "    .dataframe tbody tr th:only-of-type {\n",
              "        vertical-align: middle;\n",
              "    }\n",
              "\n",
              "    .dataframe tbody tr th {\n",
              "        vertical-align: top;\n",
              "    }\n",
              "\n",
              "    .dataframe thead th {\n",
              "        text-align: right;\n",
              "    }\n",
              "</style>\n",
              "<table border=\"1\" class=\"dataframe\">\n",
              "  <thead>\n",
              "    <tr style=\"text-align: right;\">\n",
              "      <th></th>\n",
              "      <th>index</th>\n",
              "      <th>title</th>\n",
              "      <th>text</th>\n",
              "      <th>label</th>\n",
              "      <th>combine</th>\n",
              "    </tr>\n",
              "  </thead>\n",
              "  <tbody>\n",
              "    <tr>\n",
              "      <th>0</th>\n",
              "      <td>0</td>\n",
              "      <td>Donald Trump Sends Out Embarrassing New Year’s Eve Message; This is Disturbing</td>\n",
              "      <td>Donald Trump just couldn t wish all Americans a Happy New Year and leave it at that. Instead, he had to give a shout out to his enemies, haters and  the very dishonest fake news media.  The former reality show star had just one job to do and he couldn t do it. As our Country rapidly grows stronger and smarter, I want to wish all of my friends, supporters, enemies, haters, and even the very dishonest Fake News Media, a Happy and Healthy New Year,  President Angry Pants tweeted.  2018 will be a great year for America! As our Country rapidly grows stronger and smarter, I want to wish all of my friends, supporters, enemies, haters, and even the very dishonest Fake News Media, a Happy and Healthy New Year. 2018 will be a great year for America!  Donald J. Trump (@realDonaldTrump) December 3...</td>\n",
              "      <td>0</td>\n",
              "      <td>Donald Trump Sends Out Embarrassing New Year’s Eve Message; This is Disturbing Donald Trump just couldn t wish all Americans a Happy New Year and leave it at that. Instead, he had to give a shout out to his enemies, haters and  the very dishonest fake news media.  The former reality show star had just one job to do and he couldn t do it. As our Country rapidly grows stronger and smarter, I want to wish all of my friends, supporters, enemies, haters, and even the very dishonest Fake News Media, a Happy and Healthy New Year,  President Angry Pants tweeted.  2018 will be a great year for America! As our Country rapidly grows stronger and smarter, I want to wish all of my friends, supporters, enemies, haters, and even the very dishonest Fake News Media, a Happy and Healthy New Year. 2018 ...</td>\n",
              "    </tr>\n",
              "    <tr>\n",
              "      <th>1</th>\n",
              "      <td>1</td>\n",
              "      <td>Drunk Bragging Trump Staffer Started Russian Collusion Investigation</td>\n",
              "      <td>House Intelligence Committee Chairman Devin Nunes is going to have a bad day. He s been under the assumption, like many of us, that the Christopher Steele-dossier was what prompted the Russia investigation so he s been lashing out at the Department of Justice and the FBI in order to protect Trump. As it happens, the dossier is not what started the investigation, according to documents obtained by the New York Times.Former Trump campaign adviser George Papadopoulos was drunk in a wine bar when he revealed knowledge of Russian opposition research on Hillary Clinton.On top of that, Papadopoulos wasn t just a covfefe boy for Trump, as his administration has alleged. He had a much larger role, but none so damning as being a drunken fool in a wine bar. Coffee boys  don t help to arrange a Ne...</td>\n",
              "      <td>0</td>\n",
              "      <td>Drunk Bragging Trump Staffer Started Russian Collusion Investigation House Intelligence Committee Chairman Devin Nunes is going to have a bad day. He s been under the assumption, like many of us, that the Christopher Steele-dossier was what prompted the Russia investigation so he s been lashing out at the Department of Justice and the FBI in order to protect Trump. As it happens, the dossier is not what started the investigation, according to documents obtained by the New York Times.Former Trump campaign adviser George Papadopoulos was drunk in a wine bar when he revealed knowledge of Russian opposition research on Hillary Clinton.On top of that, Papadopoulos wasn t just a covfefe boy for Trump, as his administration has alleged. He had a much larger role, but none so damning as being...</td>\n",
              "    </tr>\n",
              "    <tr>\n",
              "      <th>2</th>\n",
              "      <td>2</td>\n",
              "      <td>Sheriff David Clarke Becomes An Internet Joke For Threatening To Poke People ‘In The Eye’</td>\n",
              "      <td>On Friday, it was revealed that former Milwaukee Sheriff David Clarke, who was being considered for Homeland Security Secretary in Donald Trump s administration, has an email scandal of his own.In January, there was a brief run-in on a plane between Clarke and fellow passenger Dan Black, who he later had detained by the police for no reason whatsoever, except that maybe his feelings were hurt. Clarke messaged the police to stop Black after he deplaned, and now, a search warrant has been executed by the FBI to see the exchanges.Clarke is calling it fake news even though copies of the search warrant are on the Internet. I am UNINTIMIDATED by lib media attempts to smear and discredit me with their FAKE NEWS reports designed to silence me,  the former sheriff tweeted.  I will continue to p...</td>\n",
              "      <td>0</td>\n",
              "      <td>Sheriff David Clarke Becomes An Internet Joke For Threatening To Poke People ‘In The Eye’ On Friday, it was revealed that former Milwaukee Sheriff David Clarke, who was being considered for Homeland Security Secretary in Donald Trump s administration, has an email scandal of his own.In January, there was a brief run-in on a plane between Clarke and fellow passenger Dan Black, who he later had detained by the police for no reason whatsoever, except that maybe his feelings were hurt. Clarke messaged the police to stop Black after he deplaned, and now, a search warrant has been executed by the FBI to see the exchanges.Clarke is calling it fake news even though copies of the search warrant are on the Internet. I am UNINTIMIDATED by lib media attempts to smear and discredit me with their F...</td>\n",
              "    </tr>\n",
              "    <tr>\n",
              "      <th>3</th>\n",
              "      <td>3</td>\n",
              "      <td>Trump Is So Obsessed He Even Has Obama’s Name Coded Into His Website (IMAGES)</td>\n",
              "      <td>On Christmas day, Donald Trump announced that he would  be back to work  the following day, but he is golfing for the fourth day in a row. The former reality show star blasted former President Barack Obama for playing golf and now Trump is on track to outpace the number of golf games his predecessor played.Updated my tracker of Trump s appearances at Trump properties.71 rounds of golf including today s. At this pace, he ll pass Obama s first-term total by July 24 next year. https://t.co/Fg7VacxRtJ pic.twitter.com/5gEMcjQTbH  Philip Bump (@pbump) December 29, 2017 That makes what a Washington Post reporter discovered on Trump s website really weird, but everything about this administration is bizarre AF. The coding contained a reference to Obama and golf:  Unlike Obama, we are working t...</td>\n",
              "      <td>0</td>\n",
              "      <td>Trump Is So Obsessed He Even Has Obama’s Name Coded Into His Website (IMAGES) On Christmas day, Donald Trump announced that he would  be back to work  the following day, but he is golfing for the fourth day in a row. The former reality show star blasted former President Barack Obama for playing golf and now Trump is on track to outpace the number of golf games his predecessor played.Updated my tracker of Trump s appearances at Trump properties.71 rounds of golf including today s. At this pace, he ll pass Obama s first-term total by July 24 next year. https://t.co/Fg7VacxRtJ pic.twitter.com/5gEMcjQTbH  Philip Bump (@pbump) December 29, 2017 That makes what a Washington Post reporter discovered on Trump s website really weird, but everything about this administration is bizarre AF. The ...</td>\n",
              "    </tr>\n",
              "    <tr>\n",
              "      <th>4</th>\n",
              "      <td>4</td>\n",
              "      <td>Pope Francis Just Called Out Donald Trump During His Christmas Speech</td>\n",
              "      <td>Pope Francis used his annual Christmas Day message to rebuke Donald Trump without even mentioning his name. The Pope delivered his message just days after members of the United Nations condemned Trump s move to recognize Jerusalem as the capital of Israel. The Pontiff prayed on Monday for the  peaceful coexistence of two states within mutually agreed and internationally recognized borders. We see Jesus in the children of the Middle East who continue to suffer because of growing tensions between Israelis and Palestinians,  Francis said.  On this festive day, let us ask the Lord for peace for Jerusalem and for all the Holy Land. Let us pray that the will to resume dialogue may prevail between the parties and that a negotiated solution can finally be reached. The Pope went on to plead for...</td>\n",
              "      <td>0</td>\n",
              "      <td>Pope Francis Just Called Out Donald Trump During His Christmas Speech Pope Francis used his annual Christmas Day message to rebuke Donald Trump without even mentioning his name. The Pope delivered his message just days after members of the United Nations condemned Trump s move to recognize Jerusalem as the capital of Israel. The Pontiff prayed on Monday for the  peaceful coexistence of two states within mutually agreed and internationally recognized borders. We see Jesus in the children of the Middle East who continue to suffer because of growing tensions between Israelis and Palestinians,  Francis said.  On this festive day, let us ask the Lord for peace for Jerusalem and for all the Holy Land. Let us pray that the will to resume dialogue may prevail between the parties and that a ne...</td>\n",
              "    </tr>\n",
              "  </tbody>\n",
              "</table>\n",
              "</div>"
            ],
            "text/plain": [
              "   index  ...                                                                                                                                                                                                                                                                                                                                                                                                                                                                                                                                                                                                                                                                                                                                                                                                                          combine\n",
              "0      0  ...   Donald Trump Sends Out Embarrassing New Year’s Eve Message; This is Disturbing Donald Trump just couldn t wish all Americans a Happy New Year and leave it at that. Instead, he had to give a shout out to his enemies, haters and  the very dishonest fake news media.  The former reality show star had just one job to do and he couldn t do it. As our Country rapidly grows stronger and smarter, I want to wish all of my friends, supporters, enemies, haters, and even the very dishonest Fake News Media, a Happy and Healthy New Year,  President Angry Pants tweeted.  2018 will be a great year for America! As our Country rapidly grows stronger and smarter, I want to wish all of my friends, supporters, enemies, haters, and even the very dishonest Fake News Media, a Happy and Healthy New Year. 2018 ...\n",
              "1      1  ...   Drunk Bragging Trump Staffer Started Russian Collusion Investigation House Intelligence Committee Chairman Devin Nunes is going to have a bad day. He s been under the assumption, like many of us, that the Christopher Steele-dossier was what prompted the Russia investigation so he s been lashing out at the Department of Justice and the FBI in order to protect Trump. As it happens, the dossier is not what started the investigation, according to documents obtained by the New York Times.Former Trump campaign adviser George Papadopoulos was drunk in a wine bar when he revealed knowledge of Russian opposition research on Hillary Clinton.On top of that, Papadopoulos wasn t just a covfefe boy for Trump, as his administration has alleged. He had a much larger role, but none so damning as being...\n",
              "2      2  ...   Sheriff David Clarke Becomes An Internet Joke For Threatening To Poke People ‘In The Eye’ On Friday, it was revealed that former Milwaukee Sheriff David Clarke, who was being considered for Homeland Security Secretary in Donald Trump s administration, has an email scandal of his own.In January, there was a brief run-in on a plane between Clarke and fellow passenger Dan Black, who he later had detained by the police for no reason whatsoever, except that maybe his feelings were hurt. Clarke messaged the police to stop Black after he deplaned, and now, a search warrant has been executed by the FBI to see the exchanges.Clarke is calling it fake news even though copies of the search warrant are on the Internet. I am UNINTIMIDATED by lib media attempts to smear and discredit me with their F...\n",
              "3      3  ...   Trump Is So Obsessed He Even Has Obama’s Name Coded Into His Website (IMAGES) On Christmas day, Donald Trump announced that he would  be back to work  the following day, but he is golfing for the fourth day in a row. The former reality show star blasted former President Barack Obama for playing golf and now Trump is on track to outpace the number of golf games his predecessor played.Updated my tracker of Trump s appearances at Trump properties.71 rounds of golf including today s. At this pace, he ll pass Obama s first-term total by July 24 next year. https://t.co/Fg7VacxRtJ pic.twitter.com/5gEMcjQTbH  Philip Bump (@pbump) December 29, 2017 That makes what a Washington Post reporter discovered on Trump s website really weird, but everything about this administration is bizarre AF. The ...\n",
              "4      4  ...   Pope Francis Just Called Out Donald Trump During His Christmas Speech Pope Francis used his annual Christmas Day message to rebuke Donald Trump without even mentioning his name. The Pope delivered his message just days after members of the United Nations condemned Trump s move to recognize Jerusalem as the capital of Israel. The Pontiff prayed on Monday for the  peaceful coexistence of two states within mutually agreed and internationally recognized borders. We see Jesus in the children of the Middle East who continue to suffer because of growing tensions between Israelis and Palestinians,  Francis said.  On this festive day, let us ask the Lord for peace for Jerusalem and for all the Holy Land. Let us pray that the will to resume dialogue may prevail between the parties and that a ne...\n",
              "\n",
              "[5 rows x 5 columns]"
            ]
          },
          "metadata": {},
          "execution_count": 33
        }
      ]
    },
    {
      "cell_type": "code",
      "metadata": {
        "colab": {
          "base_uri": "https://localhost:8080/",
          "height": 727
        },
        "id": "JIRezZXrnFfj",
        "outputId": "c7a6bf68-d7f2-4b39-809b-e41d4501827c"
      },
      "source": [
        "# dropping unnecessary columns. \n",
        "df.drop(['index', 'title', 'text'], axis = 1, inplace=True)\n",
        "df.head()"
      ],
      "execution_count": 34,
      "outputs": [
        {
          "output_type": "execute_result",
          "data": {
            "text/html": [
              "<div>\n",
              "<style scoped>\n",
              "    .dataframe tbody tr th:only-of-type {\n",
              "        vertical-align: middle;\n",
              "    }\n",
              "\n",
              "    .dataframe tbody tr th {\n",
              "        vertical-align: top;\n",
              "    }\n",
              "\n",
              "    .dataframe thead th {\n",
              "        text-align: right;\n",
              "    }\n",
              "</style>\n",
              "<table border=\"1\" class=\"dataframe\">\n",
              "  <thead>\n",
              "    <tr style=\"text-align: right;\">\n",
              "      <th></th>\n",
              "      <th>label</th>\n",
              "      <th>combine</th>\n",
              "    </tr>\n",
              "  </thead>\n",
              "  <tbody>\n",
              "    <tr>\n",
              "      <th>0</th>\n",
              "      <td>0</td>\n",
              "      <td>Donald Trump Sends Out Embarrassing New Year’s Eve Message; This is Disturbing Donald Trump just couldn t wish all Americans a Happy New Year and leave it at that. Instead, he had to give a shout out to his enemies, haters and  the very dishonest fake news media.  The former reality show star had just one job to do and he couldn t do it. As our Country rapidly grows stronger and smarter, I want to wish all of my friends, supporters, enemies, haters, and even the very dishonest Fake News Media, a Happy and Healthy New Year,  President Angry Pants tweeted.  2018 will be a great year for America! As our Country rapidly grows stronger and smarter, I want to wish all of my friends, supporters, enemies, haters, and even the very dishonest Fake News Media, a Happy and Healthy New Year. 2018 ...</td>\n",
              "    </tr>\n",
              "    <tr>\n",
              "      <th>1</th>\n",
              "      <td>0</td>\n",
              "      <td>Drunk Bragging Trump Staffer Started Russian Collusion Investigation House Intelligence Committee Chairman Devin Nunes is going to have a bad day. He s been under the assumption, like many of us, that the Christopher Steele-dossier was what prompted the Russia investigation so he s been lashing out at the Department of Justice and the FBI in order to protect Trump. As it happens, the dossier is not what started the investigation, according to documents obtained by the New York Times.Former Trump campaign adviser George Papadopoulos was drunk in a wine bar when he revealed knowledge of Russian opposition research on Hillary Clinton.On top of that, Papadopoulos wasn t just a covfefe boy for Trump, as his administration has alleged. He had a much larger role, but none so damning as being...</td>\n",
              "    </tr>\n",
              "    <tr>\n",
              "      <th>2</th>\n",
              "      <td>0</td>\n",
              "      <td>Sheriff David Clarke Becomes An Internet Joke For Threatening To Poke People ‘In The Eye’ On Friday, it was revealed that former Milwaukee Sheriff David Clarke, who was being considered for Homeland Security Secretary in Donald Trump s administration, has an email scandal of his own.In January, there was a brief run-in on a plane between Clarke and fellow passenger Dan Black, who he later had detained by the police for no reason whatsoever, except that maybe his feelings were hurt. Clarke messaged the police to stop Black after he deplaned, and now, a search warrant has been executed by the FBI to see the exchanges.Clarke is calling it fake news even though copies of the search warrant are on the Internet. I am UNINTIMIDATED by lib media attempts to smear and discredit me with their F...</td>\n",
              "    </tr>\n",
              "    <tr>\n",
              "      <th>3</th>\n",
              "      <td>0</td>\n",
              "      <td>Trump Is So Obsessed He Even Has Obama’s Name Coded Into His Website (IMAGES) On Christmas day, Donald Trump announced that he would  be back to work  the following day, but he is golfing for the fourth day in a row. The former reality show star blasted former President Barack Obama for playing golf and now Trump is on track to outpace the number of golf games his predecessor played.Updated my tracker of Trump s appearances at Trump properties.71 rounds of golf including today s. At this pace, he ll pass Obama s first-term total by July 24 next year. https://t.co/Fg7VacxRtJ pic.twitter.com/5gEMcjQTbH  Philip Bump (@pbump) December 29, 2017 That makes what a Washington Post reporter discovered on Trump s website really weird, but everything about this administration is bizarre AF. The ...</td>\n",
              "    </tr>\n",
              "    <tr>\n",
              "      <th>4</th>\n",
              "      <td>0</td>\n",
              "      <td>Pope Francis Just Called Out Donald Trump During His Christmas Speech Pope Francis used his annual Christmas Day message to rebuke Donald Trump without even mentioning his name. The Pope delivered his message just days after members of the United Nations condemned Trump s move to recognize Jerusalem as the capital of Israel. The Pontiff prayed on Monday for the  peaceful coexistence of two states within mutually agreed and internationally recognized borders. We see Jesus in the children of the Middle East who continue to suffer because of growing tensions between Israelis and Palestinians,  Francis said.  On this festive day, let us ask the Lord for peace for Jerusalem and for all the Holy Land. Let us pray that the will to resume dialogue may prevail between the parties and that a ne...</td>\n",
              "    </tr>\n",
              "  </tbody>\n",
              "</table>\n",
              "</div>"
            ],
            "text/plain": [
              "   label                                                                                                                                                                                                                                                                                                                                                                                                                                                                                                                                                                                                                                                                                                                                                                                                                          combine\n",
              "0      0   Donald Trump Sends Out Embarrassing New Year’s Eve Message; This is Disturbing Donald Trump just couldn t wish all Americans a Happy New Year and leave it at that. Instead, he had to give a shout out to his enemies, haters and  the very dishonest fake news media.  The former reality show star had just one job to do and he couldn t do it. As our Country rapidly grows stronger and smarter, I want to wish all of my friends, supporters, enemies, haters, and even the very dishonest Fake News Media, a Happy and Healthy New Year,  President Angry Pants tweeted.  2018 will be a great year for America! As our Country rapidly grows stronger and smarter, I want to wish all of my friends, supporters, enemies, haters, and even the very dishonest Fake News Media, a Happy and Healthy New Year. 2018 ...\n",
              "1      0   Drunk Bragging Trump Staffer Started Russian Collusion Investigation House Intelligence Committee Chairman Devin Nunes is going to have a bad day. He s been under the assumption, like many of us, that the Christopher Steele-dossier was what prompted the Russia investigation so he s been lashing out at the Department of Justice and the FBI in order to protect Trump. As it happens, the dossier is not what started the investigation, according to documents obtained by the New York Times.Former Trump campaign adviser George Papadopoulos was drunk in a wine bar when he revealed knowledge of Russian opposition research on Hillary Clinton.On top of that, Papadopoulos wasn t just a covfefe boy for Trump, as his administration has alleged. He had a much larger role, but none so damning as being...\n",
              "2      0   Sheriff David Clarke Becomes An Internet Joke For Threatening To Poke People ‘In The Eye’ On Friday, it was revealed that former Milwaukee Sheriff David Clarke, who was being considered for Homeland Security Secretary in Donald Trump s administration, has an email scandal of his own.In January, there was a brief run-in on a plane between Clarke and fellow passenger Dan Black, who he later had detained by the police for no reason whatsoever, except that maybe his feelings were hurt. Clarke messaged the police to stop Black after he deplaned, and now, a search warrant has been executed by the FBI to see the exchanges.Clarke is calling it fake news even though copies of the search warrant are on the Internet. I am UNINTIMIDATED by lib media attempts to smear and discredit me with their F...\n",
              "3      0   Trump Is So Obsessed He Even Has Obama’s Name Coded Into His Website (IMAGES) On Christmas day, Donald Trump announced that he would  be back to work  the following day, but he is golfing for the fourth day in a row. The former reality show star blasted former President Barack Obama for playing golf and now Trump is on track to outpace the number of golf games his predecessor played.Updated my tracker of Trump s appearances at Trump properties.71 rounds of golf including today s. At this pace, he ll pass Obama s first-term total by July 24 next year. https://t.co/Fg7VacxRtJ pic.twitter.com/5gEMcjQTbH  Philip Bump (@pbump) December 29, 2017 That makes what a Washington Post reporter discovered on Trump s website really weird, but everything about this administration is bizarre AF. The ...\n",
              "4      0   Pope Francis Just Called Out Donald Trump During His Christmas Speech Pope Francis used his annual Christmas Day message to rebuke Donald Trump without even mentioning his name. The Pope delivered his message just days after members of the United Nations condemned Trump s move to recognize Jerusalem as the capital of Israel. The Pontiff prayed on Monday for the  peaceful coexistence of two states within mutually agreed and internationally recognized borders. We see Jesus in the children of the Middle East who continue to suffer because of growing tensions between Israelis and Palestinians,  Francis said.  On this festive day, let us ask the Lord for peace for Jerusalem and for all the Holy Land. Let us pray that the will to resume dialogue may prevail between the parties and that a ne..."
            ]
          },
          "metadata": {},
          "execution_count": 34
        }
      ]
    },
    {
      "cell_type": "code",
      "metadata": {
        "id": "ZZQgRhP2nFkR"
      },
      "source": [
        "# Cleaning Raw tweets\n",
        "def clean_text(text):\n",
        "    \n",
        "    #remove emails\n",
        "    text = ' '.join([i for i in text.split() if '@' not in i])\n",
        "    \n",
        "    #remove web address\n",
        "    text = re.sub('http[s]?://\\S+', '', text)\n",
        "\n",
        "    #remove brackets and parantheses (and removing the text inside the brackets and parantheses)\n",
        "    text = re.sub(\"[\\(\\[].*?[\\)\\]]\", \"\", text)\n",
        "\n",
        "    #remove punctuations\n",
        "    text = re.sub(r'[^\\w\\s]', ' ', text)\n",
        "    \n",
        "    #Filter to allow only alphabets\n",
        "    text = re.sub(r'[^a-zA-Z\\']', ' ', text)\n",
        "\n",
        "    #Remove Unicode characters\n",
        "    text = re.sub(r'[^\\x00-\\x7F]+', '', text)\n",
        "\n",
        "    #remove double spaces \n",
        "    text = re.sub('\\s+', ' ', text)\n",
        "    \n",
        "    return text"
      ],
      "execution_count": 35,
      "outputs": []
    },
    {
      "cell_type": "code",
      "metadata": {
        "colab": {
          "base_uri": "https://localhost:8080/",
          "height": 1000
        },
        "id": "Wob0NrhtnFm4",
        "outputId": "10111968-b03b-44fd-eee3-e472980a64dc"
      },
      "source": [
        "# applying that into function.\n",
        "df[\"text\"] = df['combine'].apply(lambda x: clean_text(x))\n",
        "df.head(10)"
      ],
      "execution_count": 36,
      "outputs": [
        {
          "output_type": "execute_result",
          "data": {
            "text/html": [
              "<div>\n",
              "<style scoped>\n",
              "    .dataframe tbody tr th:only-of-type {\n",
              "        vertical-align: middle;\n",
              "    }\n",
              "\n",
              "    .dataframe tbody tr th {\n",
              "        vertical-align: top;\n",
              "    }\n",
              "\n",
              "    .dataframe thead th {\n",
              "        text-align: right;\n",
              "    }\n",
              "</style>\n",
              "<table border=\"1\" class=\"dataframe\">\n",
              "  <thead>\n",
              "    <tr style=\"text-align: right;\">\n",
              "      <th></th>\n",
              "      <th>label</th>\n",
              "      <th>combine</th>\n",
              "      <th>text</th>\n",
              "    </tr>\n",
              "  </thead>\n",
              "  <tbody>\n",
              "    <tr>\n",
              "      <th>0</th>\n",
              "      <td>0</td>\n",
              "      <td>Donald Trump Sends Out Embarrassing New Year’s Eve Message; This is Disturbing Donald Trump just couldn t wish all Americans a Happy New Year and leave it at that. Instead, he had to give a shout out to his enemies, haters and  the very dishonest fake news media.  The former reality show star had just one job to do and he couldn t do it. As our Country rapidly grows stronger and smarter, I want to wish all of my friends, supporters, enemies, haters, and even the very dishonest Fake News Media, a Happy and Healthy New Year,  President Angry Pants tweeted.  2018 will be a great year for America! As our Country rapidly grows stronger and smarter, I want to wish all of my friends, supporters, enemies, haters, and even the very dishonest Fake News Media, a Happy and Healthy New Year. 2018 ...</td>\n",
              "      <td>Donald Trump Sends Out Embarrassing New Year s Eve Message This is Disturbing Donald Trump just couldn t wish all Americans a Happy New Year and leave it at that Instead he had to give a shout out to his enemies haters and the very dishonest fake news media The former reality show star had just one job to do and he couldn t do it As our Country rapidly grows stronger and smarter I want to wish all of my friends supporters enemies haters and even the very dishonest Fake News Media a Happy and Healthy New Year President Angry Pants tweeted will be a great year for America As our Country rapidly grows stronger and smarter I want to wish all of my friends supporters enemies haters and even the very dishonest Fake News Media a Happy and Healthy New Year will be a great year for America Dona...</td>\n",
              "    </tr>\n",
              "    <tr>\n",
              "      <th>1</th>\n",
              "      <td>0</td>\n",
              "      <td>Drunk Bragging Trump Staffer Started Russian Collusion Investigation House Intelligence Committee Chairman Devin Nunes is going to have a bad day. He s been under the assumption, like many of us, that the Christopher Steele-dossier was what prompted the Russia investigation so he s been lashing out at the Department of Justice and the FBI in order to protect Trump. As it happens, the dossier is not what started the investigation, according to documents obtained by the New York Times.Former Trump campaign adviser George Papadopoulos was drunk in a wine bar when he revealed knowledge of Russian opposition research on Hillary Clinton.On top of that, Papadopoulos wasn t just a covfefe boy for Trump, as his administration has alleged. He had a much larger role, but none so damning as being...</td>\n",
              "      <td>Drunk Bragging Trump Staffer Started Russian Collusion Investigation House Intelligence Committee Chairman Devin Nunes is going to have a bad day He s been under the assumption like many of us that the Christopher Steele dossier was what prompted the Russia investigation so he s been lashing out at the Department of Justice and the FBI in order to protect Trump As it happens the dossier is not what started the investigation according to documents obtained by the New York Times Former Trump campaign adviser George Papadopoulos was drunk in a wine bar when he revealed knowledge of Russian opposition research on Hillary Clinton On top of that Papadopoulos wasn t just a covfefe boy for Trump as his administration has alleged He had a much larger role but none so damning as being a drunken ...</td>\n",
              "    </tr>\n",
              "    <tr>\n",
              "      <th>2</th>\n",
              "      <td>0</td>\n",
              "      <td>Sheriff David Clarke Becomes An Internet Joke For Threatening To Poke People ‘In The Eye’ On Friday, it was revealed that former Milwaukee Sheriff David Clarke, who was being considered for Homeland Security Secretary in Donald Trump s administration, has an email scandal of his own.In January, there was a brief run-in on a plane between Clarke and fellow passenger Dan Black, who he later had detained by the police for no reason whatsoever, except that maybe his feelings were hurt. Clarke messaged the police to stop Black after he deplaned, and now, a search warrant has been executed by the FBI to see the exchanges.Clarke is calling it fake news even though copies of the search warrant are on the Internet. I am UNINTIMIDATED by lib media attempts to smear and discredit me with their F...</td>\n",
              "      <td>Sheriff David Clarke Becomes An Internet Joke For Threatening To Poke People In The Eye On Friday it was revealed that former Milwaukee Sheriff David Clarke who was being considered for Homeland Security Secretary in Donald Trump s administration has an email scandal of his own In January there was a brief run in on a plane between Clarke and fellow passenger Dan Black who he later had detained by the police for no reason whatsoever except that maybe his feelings were hurt Clarke messaged the police to stop Black after he deplaned and now a search warrant has been executed by the FBI to see the exchanges Clarke is calling it fake news even though copies of the search warrant are on the Internet I am UNINTIMIDATED by lib media attempts to smear and discredit me with their FAKE NEWS repo...</td>\n",
              "    </tr>\n",
              "    <tr>\n",
              "      <th>3</th>\n",
              "      <td>0</td>\n",
              "      <td>Trump Is So Obsessed He Even Has Obama’s Name Coded Into His Website (IMAGES) On Christmas day, Donald Trump announced that he would  be back to work  the following day, but he is golfing for the fourth day in a row. The former reality show star blasted former President Barack Obama for playing golf and now Trump is on track to outpace the number of golf games his predecessor played.Updated my tracker of Trump s appearances at Trump properties.71 rounds of golf including today s. At this pace, he ll pass Obama s first-term total by July 24 next year. https://t.co/Fg7VacxRtJ pic.twitter.com/5gEMcjQTbH  Philip Bump (@pbump) December 29, 2017 That makes what a Washington Post reporter discovered on Trump s website really weird, but everything about this administration is bizarre AF. The ...</td>\n",
              "      <td>Trump Is So Obsessed He Even Has Obama s Name Coded Into His Website On Christmas day Donald Trump announced that he would be back to work the following day but he is golfing for the fourth day in a row The former reality show star blasted former President Barack Obama for playing golf and now Trump is on track to outpace the number of golf games his predecessor played Updated my tracker of Trump s appearances at Trump properties rounds of golf including today s At this pace he ll pass Obama s first term total by July next year pic twitter com gEMcjQTbH Philip Bump December That makes what a Washington Post reporter discovered on Trump s website really weird but everything about this administration is bizarre AF The coding contained a reference to Obama and golf Unlike Obama we are wor...</td>\n",
              "    </tr>\n",
              "    <tr>\n",
              "      <th>4</th>\n",
              "      <td>0</td>\n",
              "      <td>Pope Francis Just Called Out Donald Trump During His Christmas Speech Pope Francis used his annual Christmas Day message to rebuke Donald Trump without even mentioning his name. The Pope delivered his message just days after members of the United Nations condemned Trump s move to recognize Jerusalem as the capital of Israel. The Pontiff prayed on Monday for the  peaceful coexistence of two states within mutually agreed and internationally recognized borders. We see Jesus in the children of the Middle East who continue to suffer because of growing tensions between Israelis and Palestinians,  Francis said.  On this festive day, let us ask the Lord for peace for Jerusalem and for all the Holy Land. Let us pray that the will to resume dialogue may prevail between the parties and that a ne...</td>\n",
              "      <td>Pope Francis Just Called Out Donald Trump During His Christmas Speech Pope Francis used his annual Christmas Day message to rebuke Donald Trump without even mentioning his name The Pope delivered his message just days after members of the United Nations condemned Trump s move to recognize Jerusalem as the capital of Israel The Pontiff prayed on Monday for the peaceful coexistence of two states within mutually agreed and internationally recognized borders We see Jesus in the children of the Middle East who continue to suffer because of growing tensions between Israelis and Palestinians Francis said On this festive day let us ask the Lord for peace for Jerusalem and for all the Holy Land Let us pray that the will to resume dialogue may prevail between the parties and that a negotiated so...</td>\n",
              "    </tr>\n",
              "    <tr>\n",
              "      <th>5</th>\n",
              "      <td>0</td>\n",
              "      <td>Racist Alabama Cops Brutalize Black Boy While He Is In Handcuffs (GRAPHIC IMAGES) The number of cases of cops brutalizing and killing people of color seems to see no end. Now, we have another case that needs to be shared far and wide. An Alabama woman by the name of Angela Williams shared a graphic photo of her son, lying in a hospital bed with a beaten and fractured face, on Facebook. It needs to be shared far and wide, because this is unacceptable.It is unclear why Williams  son was in police custody or what sort of altercation resulted in his arrest, but when you see the photo you will realize that these details matter not. Cops are not supposed to beat and brutalize those in their custody. In the post you are about to see, Ms. Williams expresses her hope that the cops had their bo...</td>\n",
              "      <td>Racist Alabama Cops Brutalize Black Boy While He Is In Handcuffs The number of cases of cops brutalizing and killing people of color seems to see no end Now we have another case that needs to be shared far and wide An Alabama woman by the name of Angela Williams shared a graphic photo of her son lying in a hospital bed with a beaten and fractured face on Facebook It needs to be shared far and wide because this is unacceptable It is unclear why Williams son was in police custody or what sort of altercation resulted in his arrest but when you see the photo you will realize that these details matter not Cops are not supposed to beat and brutalize those in their custody In the post you are about to see Ms Williams expresses her hope that the cops had their body cameras on while they were b...</td>\n",
              "    </tr>\n",
              "    <tr>\n",
              "      <th>6</th>\n",
              "      <td>0</td>\n",
              "      <td>Fresh Off The Golf Course, Trump Lashes Out At FBI Deputy Director And James Comey Donald Trump spent a good portion of his day at his golf club, marking the 84th day he s done so since taking the oath of office. It must have been a bad game because just after that, Trump lashed out at FBI Deputy Director Andrew McCabe on Twitter following a report saying McCabe plans to retire in a few months. The report follows McCabe s testimony in front of congressional committees this week, as well as mounting criticism from Republicans regarding the Russia probe.So, naturally, Trump attacked McCabe with a lie. How can FBI Deputy Director Andrew McCabe, the man in charge, along with leakin  James Comey, of the Phony Hillary Clinton investigation (including her 33,000 illegally deleted emails) be ...</td>\n",
              "      <td>Fresh Off The Golf Course Trump Lashes Out At FBI Deputy Director And James Comey Donald Trump spent a good portion of his day at his golf club marking the th day he s done so since taking the oath of office It must have been a bad game because just after that Trump lashed out at FBI Deputy Director Andrew McCabe on Twitter following a report saying McCabe plans to retire in a few months The report follows McCabe s testimony in front of congressional committees this week as well as mounting criticism from Republicans regarding the Russia probe So naturally Trump attacked McCabe with a lie How can FBI Deputy Director Andrew McCabe the man in charge along with leakin James Comey of the Phony Hillary Clinton investigation be given for wife s campaign by Clinton Puppets during investigatio...</td>\n",
              "    </tr>\n",
              "    <tr>\n",
              "      <th>7</th>\n",
              "      <td>0</td>\n",
              "      <td>Trump Said Some INSANELY Racist Stuff Inside The Oval Office, And Witnesses Back It Up In the wake of yet another court decision that derailed Donald Trump s plan to bar Muslims from entering the United States, the New York Times published a report on Saturday morning detailing the president s frustration at not getting his way   and how far back that frustration goes.According to the article, back in June, Trump stomped into the Oval Office, furious about the state of the travel ban, which he thought would be implemented and fully in place by then. Instead, he fumed, visas had already been issued to immigrants at such a rate that his  friends were calling to say he looked like a fool  after making his broad pronouncements.It was then that Trump began reading from a document that a to...</td>\n",
              "      <td>Trump Said Some INSANELY Racist Stuff Inside The Oval Office And Witnesses Back It Up In the wake of yet another court decision that derailed Donald Trump s plan to bar Muslims from entering the United States the New York Times published a report on Saturday morning detailing the president s frustration at not getting his way and how far back that frustration goes According to the article back in June Trump stomped into the Oval Office furious about the state of the travel ban which he thought would be implemented and fully in place by then Instead he fumed visas had already been issued to immigrants at such a rate that his friends were calling to say he looked like a fool after making his broad pronouncements It was then that Trump began reading from a document that a top advisor note...</td>\n",
              "    </tr>\n",
              "    <tr>\n",
              "      <th>8</th>\n",
              "      <td>0</td>\n",
              "      <td>Former CIA Director Slams Trump Over UN Bullying, Openly Suggests He’s Acting Like A Dictator (TWEET) Many people have raised the alarm regarding the fact that Donald Trump is dangerously close to becoming an autocrat. The thing is, democracies become autocracies right under the people s noses, because they can often look like democracies in the beginning phases. This was explained by Republican David Frum just a couple of months into Donald Trump s presidency, in a piece in The Atlantic called  How to Build an Autocracy. In fact, if you really look critically at what is happening right now   the systematic discrediting of vital institutions such as the free press and the Federal Bureau of Investigation as well the direct weaponization of the Department of Justice in order to go after...</td>\n",
              "      <td>Former CIA Director Slams Trump Over UN Bullying Openly Suggests He s Acting Like A Dictator Many people have raised the alarm regarding the fact that Donald Trump is dangerously close to becoming an autocrat The thing is democracies become autocracies right under the people s noses because they can often look like democracies in the beginning phases This was explained by Republican David Frum just a couple of months into Donald Trump s presidency in a piece in The Atlantic called How to Build an Autocracy In fact if you really look critically at what is happening right now the systematic discrediting of vital institutions such as the free press and the Federal Bureau of Investigation as well the direct weaponization of the Department of Justice in order to go after Trump s former poli...</td>\n",
              "    </tr>\n",
              "    <tr>\n",
              "      <th>9</th>\n",
              "      <td>0</td>\n",
              "      <td>Brand-New Pro-Trump Ad Features So Much A** Kissing It Will Make You Sick Just when you might have thought we d get a break from watching people kiss Donald Trump s ass and stroke his ego ad nauseam, a pro-Trump group creates an ad that s nothing but people doing even more of those exact things. America First Policies is set to release this ad, called  Thank You, President Trump,  on Christmas Day and, well, we threw up a little in our mouths trying to watch this.Basically, the spot is nothing but people fawning all over Trump for all the stuff he hasn t actually done. The ad includes a scene with a little girl thanking Trump for bringing back  Merry Christmas,  which never went away (there are even videos of President Obama saying  Merry Christmas  himself). A man thanks him for cut...</td>\n",
              "      <td>Brand New Pro Trump Ad Features So Much A Kissing It Will Make You Sick Just when you might have thought we d get a break from watching people kiss Donald Trump s ass and stroke his ego ad nauseam a pro Trump group creates an ad that s nothing but people doing even more of those exact things America First Policies is set to release this ad called Thank You President Trump on Christmas Day and well we threw up a little in our mouths trying to watch this Basically the spot is nothing but people fawning all over Trump for all the stuff he hasn t actually done The ad includes a scene with a little girl thanking Trump for bringing back Merry Christmas which never went away A man thanks him for cutting his taxes And America First says that everyday Americans everywhere are thanking Trump for...</td>\n",
              "    </tr>\n",
              "  </tbody>\n",
              "</table>\n",
              "</div>"
            ],
            "text/plain": [
              "   label  ...                                                                                                                                                                                                                                                                                                                                                                                                                                                                                                                                                                                                                                                                                                                                                                                                                             text\n",
              "0      0  ...  Donald Trump Sends Out Embarrassing New Year s Eve Message This is Disturbing Donald Trump just couldn t wish all Americans a Happy New Year and leave it at that Instead he had to give a shout out to his enemies haters and the very dishonest fake news media The former reality show star had just one job to do and he couldn t do it As our Country rapidly grows stronger and smarter I want to wish all of my friends supporters enemies haters and even the very dishonest Fake News Media a Happy and Healthy New Year President Angry Pants tweeted will be a great year for America As our Country rapidly grows stronger and smarter I want to wish all of my friends supporters enemies haters and even the very dishonest Fake News Media a Happy and Healthy New Year will be a great year for America Dona...\n",
              "1      0  ...  Drunk Bragging Trump Staffer Started Russian Collusion Investigation House Intelligence Committee Chairman Devin Nunes is going to have a bad day He s been under the assumption like many of us that the Christopher Steele dossier was what prompted the Russia investigation so he s been lashing out at the Department of Justice and the FBI in order to protect Trump As it happens the dossier is not what started the investigation according to documents obtained by the New York Times Former Trump campaign adviser George Papadopoulos was drunk in a wine bar when he revealed knowledge of Russian opposition research on Hillary Clinton On top of that Papadopoulos wasn t just a covfefe boy for Trump as his administration has alleged He had a much larger role but none so damning as being a drunken ...\n",
              "2      0  ...  Sheriff David Clarke Becomes An Internet Joke For Threatening To Poke People In The Eye On Friday it was revealed that former Milwaukee Sheriff David Clarke who was being considered for Homeland Security Secretary in Donald Trump s administration has an email scandal of his own In January there was a brief run in on a plane between Clarke and fellow passenger Dan Black who he later had detained by the police for no reason whatsoever except that maybe his feelings were hurt Clarke messaged the police to stop Black after he deplaned and now a search warrant has been executed by the FBI to see the exchanges Clarke is calling it fake news even though copies of the search warrant are on the Internet I am UNINTIMIDATED by lib media attempts to smear and discredit me with their FAKE NEWS repo...\n",
              "3      0  ...  Trump Is So Obsessed He Even Has Obama s Name Coded Into His Website On Christmas day Donald Trump announced that he would be back to work the following day but he is golfing for the fourth day in a row The former reality show star blasted former President Barack Obama for playing golf and now Trump is on track to outpace the number of golf games his predecessor played Updated my tracker of Trump s appearances at Trump properties rounds of golf including today s At this pace he ll pass Obama s first term total by July next year pic twitter com gEMcjQTbH Philip Bump December That makes what a Washington Post reporter discovered on Trump s website really weird but everything about this administration is bizarre AF The coding contained a reference to Obama and golf Unlike Obama we are wor...\n",
              "4      0  ...  Pope Francis Just Called Out Donald Trump During His Christmas Speech Pope Francis used his annual Christmas Day message to rebuke Donald Trump without even mentioning his name The Pope delivered his message just days after members of the United Nations condemned Trump s move to recognize Jerusalem as the capital of Israel The Pontiff prayed on Monday for the peaceful coexistence of two states within mutually agreed and internationally recognized borders We see Jesus in the children of the Middle East who continue to suffer because of growing tensions between Israelis and Palestinians Francis said On this festive day let us ask the Lord for peace for Jerusalem and for all the Holy Land Let us pray that the will to resume dialogue may prevail between the parties and that a negotiated so...\n",
              "5      0  ...  Racist Alabama Cops Brutalize Black Boy While He Is In Handcuffs The number of cases of cops brutalizing and killing people of color seems to see no end Now we have another case that needs to be shared far and wide An Alabama woman by the name of Angela Williams shared a graphic photo of her son lying in a hospital bed with a beaten and fractured face on Facebook It needs to be shared far and wide because this is unacceptable It is unclear why Williams son was in police custody or what sort of altercation resulted in his arrest but when you see the photo you will realize that these details matter not Cops are not supposed to beat and brutalize those in their custody In the post you are about to see Ms Williams expresses her hope that the cops had their body cameras on while they were b...\n",
              "6      0  ...  Fresh Off The Golf Course Trump Lashes Out At FBI Deputy Director And James Comey Donald Trump spent a good portion of his day at his golf club marking the th day he s done so since taking the oath of office It must have been a bad game because just after that Trump lashed out at FBI Deputy Director Andrew McCabe on Twitter following a report saying McCabe plans to retire in a few months The report follows McCabe s testimony in front of congressional committees this week as well as mounting criticism from Republicans regarding the Russia probe So naturally Trump attacked McCabe with a lie How can FBI Deputy Director Andrew McCabe the man in charge along with leakin James Comey of the Phony Hillary Clinton investigation be given for wife s campaign by Clinton Puppets during investigatio...\n",
              "7      0  ...  Trump Said Some INSANELY Racist Stuff Inside The Oval Office And Witnesses Back It Up In the wake of yet another court decision that derailed Donald Trump s plan to bar Muslims from entering the United States the New York Times published a report on Saturday morning detailing the president s frustration at not getting his way and how far back that frustration goes According to the article back in June Trump stomped into the Oval Office furious about the state of the travel ban which he thought would be implemented and fully in place by then Instead he fumed visas had already been issued to immigrants at such a rate that his friends were calling to say he looked like a fool after making his broad pronouncements It was then that Trump began reading from a document that a top advisor note...\n",
              "8      0  ...  Former CIA Director Slams Trump Over UN Bullying Openly Suggests He s Acting Like A Dictator Many people have raised the alarm regarding the fact that Donald Trump is dangerously close to becoming an autocrat The thing is democracies become autocracies right under the people s noses because they can often look like democracies in the beginning phases This was explained by Republican David Frum just a couple of months into Donald Trump s presidency in a piece in The Atlantic called How to Build an Autocracy In fact if you really look critically at what is happening right now the systematic discrediting of vital institutions such as the free press and the Federal Bureau of Investigation as well the direct weaponization of the Department of Justice in order to go after Trump s former poli...\n",
              "9      0  ...  Brand New Pro Trump Ad Features So Much A Kissing It Will Make You Sick Just when you might have thought we d get a break from watching people kiss Donald Trump s ass and stroke his ego ad nauseam a pro Trump group creates an ad that s nothing but people doing even more of those exact things America First Policies is set to release this ad called Thank You President Trump on Christmas Day and well we threw up a little in our mouths trying to watch this Basically the spot is nothing but people fawning all over Trump for all the stuff he hasn t actually done The ad includes a scene with a little girl thanking Trump for bringing back Merry Christmas which never went away A man thanks him for cutting his taxes And America First says that everyday Americans everywhere are thanking Trump for...\n",
              "\n",
              "[10 rows x 3 columns]"
            ]
          },
          "metadata": {},
          "execution_count": 36
        }
      ]
    },
    {
      "cell_type": "code",
      "metadata": {
        "id": "kHS6qp91pVTU"
      },
      "source": [
        "# dropping the uncleaned text column \"combine\"\n",
        "df = df.drop(['combine'], axis=1)"
      ],
      "execution_count": 37,
      "outputs": []
    },
    {
      "cell_type": "code",
      "metadata": {
        "colab": {
          "base_uri": "https://localhost:8080/",
          "height": 727
        },
        "id": "OImeJ-5VQqAb",
        "outputId": "03c5c787-3691-402c-c6d8-894a36c1b28e"
      },
      "source": [
        "df.head()"
      ],
      "execution_count": 38,
      "outputs": [
        {
          "output_type": "execute_result",
          "data": {
            "text/html": [
              "<div>\n",
              "<style scoped>\n",
              "    .dataframe tbody tr th:only-of-type {\n",
              "        vertical-align: middle;\n",
              "    }\n",
              "\n",
              "    .dataframe tbody tr th {\n",
              "        vertical-align: top;\n",
              "    }\n",
              "\n",
              "    .dataframe thead th {\n",
              "        text-align: right;\n",
              "    }\n",
              "</style>\n",
              "<table border=\"1\" class=\"dataframe\">\n",
              "  <thead>\n",
              "    <tr style=\"text-align: right;\">\n",
              "      <th></th>\n",
              "      <th>label</th>\n",
              "      <th>text</th>\n",
              "    </tr>\n",
              "  </thead>\n",
              "  <tbody>\n",
              "    <tr>\n",
              "      <th>0</th>\n",
              "      <td>0</td>\n",
              "      <td>Donald Trump Sends Out Embarrassing New Year s Eve Message This is Disturbing Donald Trump just couldn t wish all Americans a Happy New Year and leave it at that Instead he had to give a shout out to his enemies haters and the very dishonest fake news media The former reality show star had just one job to do and he couldn t do it As our Country rapidly grows stronger and smarter I want to wish all of my friends supporters enemies haters and even the very dishonest Fake News Media a Happy and Healthy New Year President Angry Pants tweeted will be a great year for America As our Country rapidly grows stronger and smarter I want to wish all of my friends supporters enemies haters and even the very dishonest Fake News Media a Happy and Healthy New Year will be a great year for America Dona...</td>\n",
              "    </tr>\n",
              "    <tr>\n",
              "      <th>1</th>\n",
              "      <td>0</td>\n",
              "      <td>Drunk Bragging Trump Staffer Started Russian Collusion Investigation House Intelligence Committee Chairman Devin Nunes is going to have a bad day He s been under the assumption like many of us that the Christopher Steele dossier was what prompted the Russia investigation so he s been lashing out at the Department of Justice and the FBI in order to protect Trump As it happens the dossier is not what started the investigation according to documents obtained by the New York Times Former Trump campaign adviser George Papadopoulos was drunk in a wine bar when he revealed knowledge of Russian opposition research on Hillary Clinton On top of that Papadopoulos wasn t just a covfefe boy for Trump as his administration has alleged He had a much larger role but none so damning as being a drunken ...</td>\n",
              "    </tr>\n",
              "    <tr>\n",
              "      <th>2</th>\n",
              "      <td>0</td>\n",
              "      <td>Sheriff David Clarke Becomes An Internet Joke For Threatening To Poke People In The Eye On Friday it was revealed that former Milwaukee Sheriff David Clarke who was being considered for Homeland Security Secretary in Donald Trump s administration has an email scandal of his own In January there was a brief run in on a plane between Clarke and fellow passenger Dan Black who he later had detained by the police for no reason whatsoever except that maybe his feelings were hurt Clarke messaged the police to stop Black after he deplaned and now a search warrant has been executed by the FBI to see the exchanges Clarke is calling it fake news even though copies of the search warrant are on the Internet I am UNINTIMIDATED by lib media attempts to smear and discredit me with their FAKE NEWS repo...</td>\n",
              "    </tr>\n",
              "    <tr>\n",
              "      <th>3</th>\n",
              "      <td>0</td>\n",
              "      <td>Trump Is So Obsessed He Even Has Obama s Name Coded Into His Website On Christmas day Donald Trump announced that he would be back to work the following day but he is golfing for the fourth day in a row The former reality show star blasted former President Barack Obama for playing golf and now Trump is on track to outpace the number of golf games his predecessor played Updated my tracker of Trump s appearances at Trump properties rounds of golf including today s At this pace he ll pass Obama s first term total by July next year pic twitter com gEMcjQTbH Philip Bump December That makes what a Washington Post reporter discovered on Trump s website really weird but everything about this administration is bizarre AF The coding contained a reference to Obama and golf Unlike Obama we are wor...</td>\n",
              "    </tr>\n",
              "    <tr>\n",
              "      <th>4</th>\n",
              "      <td>0</td>\n",
              "      <td>Pope Francis Just Called Out Donald Trump During His Christmas Speech Pope Francis used his annual Christmas Day message to rebuke Donald Trump without even mentioning his name The Pope delivered his message just days after members of the United Nations condemned Trump s move to recognize Jerusalem as the capital of Israel The Pontiff prayed on Monday for the peaceful coexistence of two states within mutually agreed and internationally recognized borders We see Jesus in the children of the Middle East who continue to suffer because of growing tensions between Israelis and Palestinians Francis said On this festive day let us ask the Lord for peace for Jerusalem and for all the Holy Land Let us pray that the will to resume dialogue may prevail between the parties and that a negotiated so...</td>\n",
              "    </tr>\n",
              "  </tbody>\n",
              "</table>\n",
              "</div>"
            ],
            "text/plain": [
              "   label                                                                                                                                                                                                                                                                                                                                                                                                                                                                                                                                                                                                                                                                                                                                                                                                                             text\n",
              "0      0  Donald Trump Sends Out Embarrassing New Year s Eve Message This is Disturbing Donald Trump just couldn t wish all Americans a Happy New Year and leave it at that Instead he had to give a shout out to his enemies haters and the very dishonest fake news media The former reality show star had just one job to do and he couldn t do it As our Country rapidly grows stronger and smarter I want to wish all of my friends supporters enemies haters and even the very dishonest Fake News Media a Happy and Healthy New Year President Angry Pants tweeted will be a great year for America As our Country rapidly grows stronger and smarter I want to wish all of my friends supporters enemies haters and even the very dishonest Fake News Media a Happy and Healthy New Year will be a great year for America Dona...\n",
              "1      0  Drunk Bragging Trump Staffer Started Russian Collusion Investigation House Intelligence Committee Chairman Devin Nunes is going to have a bad day He s been under the assumption like many of us that the Christopher Steele dossier was what prompted the Russia investigation so he s been lashing out at the Department of Justice and the FBI in order to protect Trump As it happens the dossier is not what started the investigation according to documents obtained by the New York Times Former Trump campaign adviser George Papadopoulos was drunk in a wine bar when he revealed knowledge of Russian opposition research on Hillary Clinton On top of that Papadopoulos wasn t just a covfefe boy for Trump as his administration has alleged He had a much larger role but none so damning as being a drunken ...\n",
              "2      0  Sheriff David Clarke Becomes An Internet Joke For Threatening To Poke People In The Eye On Friday it was revealed that former Milwaukee Sheriff David Clarke who was being considered for Homeland Security Secretary in Donald Trump s administration has an email scandal of his own In January there was a brief run in on a plane between Clarke and fellow passenger Dan Black who he later had detained by the police for no reason whatsoever except that maybe his feelings were hurt Clarke messaged the police to stop Black after he deplaned and now a search warrant has been executed by the FBI to see the exchanges Clarke is calling it fake news even though copies of the search warrant are on the Internet I am UNINTIMIDATED by lib media attempts to smear and discredit me with their FAKE NEWS repo...\n",
              "3      0  Trump Is So Obsessed He Even Has Obama s Name Coded Into His Website On Christmas day Donald Trump announced that he would be back to work the following day but he is golfing for the fourth day in a row The former reality show star blasted former President Barack Obama for playing golf and now Trump is on track to outpace the number of golf games his predecessor played Updated my tracker of Trump s appearances at Trump properties rounds of golf including today s At this pace he ll pass Obama s first term total by July next year pic twitter com gEMcjQTbH Philip Bump December That makes what a Washington Post reporter discovered on Trump s website really weird but everything about this administration is bizarre AF The coding contained a reference to Obama and golf Unlike Obama we are wor...\n",
              "4      0  Pope Francis Just Called Out Donald Trump During His Christmas Speech Pope Francis used his annual Christmas Day message to rebuke Donald Trump without even mentioning his name The Pope delivered his message just days after members of the United Nations condemned Trump s move to recognize Jerusalem as the capital of Israel The Pontiff prayed on Monday for the peaceful coexistence of two states within mutually agreed and internationally recognized borders We see Jesus in the children of the Middle East who continue to suffer because of growing tensions between Israelis and Palestinians Francis said On this festive day let us ask the Lord for peace for Jerusalem and for all the Holy Land Let us pray that the will to resume dialogue may prevail between the parties and that a negotiated so..."
            ]
          },
          "metadata": {},
          "execution_count": 38
        }
      ]
    },
    {
      "cell_type": "code",
      "metadata": {
        "colab": {
          "base_uri": "https://localhost:8080/"
        },
        "id": "LMG51FxXQ7OK",
        "outputId": "13522acf-6691-481e-e6b9-92b2ab3917a7"
      },
      "source": [
        "df['label'].value_counts()"
      ],
      "execution_count": 68,
      "outputs": [
        {
          "output_type": "execute_result",
          "data": {
            "text/plain": [
              "0    23478\n",
              "1    21211\n",
              "Name: label, dtype: int64"
            ]
          },
          "metadata": {},
          "execution_count": 68
        }
      ]
    },
    {
      "cell_type": "markdown",
      "metadata": {
        "id": "EGGub7wXRT-Y"
      },
      "source": [
        "This is perfectly balanced dataset."
      ]
    },
    {
      "cell_type": "code",
      "metadata": {
        "colab": {
          "base_uri": "https://localhost:8080/",
          "height": 354
        },
        "id": "qTHZtJfvRaPy",
        "outputId": "3c202ec5-403c-4f4f-a55f-8db205854c5e"
      },
      "source": [
        "import seaborn as sns\n",
        "sns.countplot('label',data=df)"
      ],
      "execution_count": 70,
      "outputs": [
        {
          "output_type": "stream",
          "name": "stderr",
          "text": [
            "/usr/local/lib/python3.7/dist-packages/seaborn/_decorators.py:43: FutureWarning: Pass the following variable as a keyword arg: x. From version 0.12, the only valid positional argument will be `data`, and passing other arguments without an explicit keyword will result in an error or misinterpretation.\n",
            "  FutureWarning\n"
          ]
        },
        {
          "output_type": "execute_result",
          "data": {
            "text/plain": [
              "<matplotlib.axes._subplots.AxesSubplot at 0x7f609196b550>"
            ]
          },
          "metadata": {},
          "execution_count": 70
        },
        {
          "output_type": "display_data",
          "data": {
            "image/png": "[encoded data removed]",
            "text/plain": [
              "<Figure size 432x288 with 1 Axes>"
            ]
          },
          "metadata": {
            "needs_background": "light"
          }
        }
      ]
    },
    {
      "cell_type": "markdown",
      "metadata": {
        "id": "Q5l_3ToqNnnB"
      },
      "source": [
        "### WORD CLOUD VISUALIZATION"
      ]
    },
    {
      "cell_type": "code",
      "metadata": {
        "id": "RS-K52MiN39c"
      },
      "source": [
        "from wordcloud import WordCloud, STOPWORDS\n",
        "import matplotlib.pyplot as plt"
      ],
      "execution_count": 65,
      "outputs": []
    },
    {
      "cell_type": "code",
      "metadata": {
        "colab": {
          "base_uri": "https://localhost:8080/"
        },
        "id": "WYIKYL6bN-br",
        "outputId": "4eb04bd2-6527-476e-ef5d-9dc647a1eb04"
      },
      "source": [
        "#making worldcloud\n",
        "from wordcloud import WordCloud, STOPWORDS\n",
        "from nltk.corpus import stopwords\n",
        "stop_words=set(stopwords.words(\"english\"))\n",
        "print(stop_words)"
      ],
      "execution_count": 66,
      "outputs": [
        {
          "output_type": "stream",
          "name": "stdout",
          "text": [
            "{\"shan't\", 'isn', 'down', 'for', 'the', 'own', 'were', \"shouldn't\", 'are', 'been', 'their', 'out', 't', 'don', 'so', 'himself', 'hers', 'this', 'other', \"you'd\", \"wouldn't\", 'm', 'your', 'any', 'our', 'aren', 'i', 'theirs', 'shouldn', 'under', 'how', 'each', 'by', 'what', 'will', 'my', 'into', 'ma', 'yourselves', \"couldn't\", 'he', 'had', 'it', 'if', 'between', 'while', 'hasn', 'ourselves', \"haven't\", \"needn't\", \"you've\", 'whom', 'having', 'll', 'no', 'them', 'few', 'ain', 'these', 'you', 'hadn', 'themselves', \"hasn't\", 'weren', 'him', 'who', \"it's\", 'too', \"isn't\", 'her', 'from', 'there', 'does', 'than', 'his', 'in', \"mustn't\", 'most', 'haven', 'y', 'mustn', 'that', \"weren't\", 'why', 'very', 'such', 'during', 's', 'myself', 've', 'yourself', 'have', 'a', 'once', \"you're\", 'or', 'off', 'just', 'up', 'has', 'to', \"hadn't\", 'over', 'some', 'against', 'further', 'is', 'couldn', 'through', 'until', 'before', 'then', 'being', \"wasn't\", 'same', 'we', \"aren't\", \"she's\", 'after', 'they', \"mightn't\", 'ours', \"doesn't\", 'wouldn', \"don't\", 'didn', 'be', \"won't\", 'am', 'which', 'on', 'those', 'its', 'itself', 'should', 'an', 'was', 'yours', 're', 'won', 'and', 'here', 'all', 'o', 'again', 'where', 'more', 'when', 'not', 'as', 'at', 'now', 'shan', 'nor', 'd', 'mightn', 'needn', 'doing', 'of', 'doesn', 'herself', 'about', 'she', \"should've\", \"that'll\", 'with', 'wasn', 'did', 'above', 'me', 'below', 'but', 'because', 'can', 'do', 'only', 'both', \"you'll\", \"didn't\"}\n"
          ]
        }
      ]
    },
    {
      "cell_type": "code",
      "metadata": {
        "colab": {
          "base_uri": "https://localhost:8080/",
          "height": 607
        },
        "id": "21PiiNbeN-gO",
        "outputId": "bf4ddb20-944b-4c3d-d080-a25c57da44e4"
      },
      "source": [
        "# visualizing the most frequent words using matplot library\n",
        "comment_words = ' '\n",
        "for words in df['text']: \n",
        "    comment_words = comment_words + words + ' '\n",
        "    \n",
        "wordcloud = WordCloud(width = 800, height = 800, \n",
        "                background_color='white' , \n",
        "                stopwords = stop_words, \n",
        "                min_font_size = 20).generate(comment_words) \n",
        "  \n",
        "# plot the WordCloud image                        \n",
        "plt.figure(figsize = (8, 8), facecolor = None) \n",
        "plt.imshow(wordcloud) \n",
        "plt.axis(\"off\") \n",
        "plt.tight_layout(pad = 0)"
      ],
      "execution_count": 67,
      "outputs": [
        {
          "output_type": "display_data",
          "data": {
            "image/png": "[encoded data removed]",
            "text/plain": [
              "<Figure size 576x576 with 1 Axes>"
            ]
          },
          "metadata": {
            "needs_background": "light"
          }
        }
      ]
    },
    {
      "cell_type": "markdown",
      "metadata": {
        "id": "r0_fSV1XRuLq"
      },
      "source": [
        "## FEATURE EXTRACTION"
      ]
    },
    {
      "cell_type": "markdown",
      "metadata": {
        "id": "X9G0suAuFc8B"
      },
      "source": [
        "### WORD EMBEDDING USING GLOVE (GLOBAL VECTORS FOR WORD REPRESENTATION)"
      ]
    },
    {
      "cell_type": "code",
      "metadata": {
        "id": "XkzZMFbSiqbU"
      },
      "source": [
        "# assigning parameters\n",
        "SEQUENCE_LENGTH = 100 # the length of all sequences (number of words per sample)\n",
        "EMBEDDING_SIZE = 100  # Using 100-Dimensional GloVe embedding vectors\n",
        "TEST_SIZE = 0.25 # ratio of testing set\n",
        "\n",
        "BATCH_SIZE = 64\n",
        "EPOCHS = 20 # number of epochs\n",
        "\n",
        "# to convert labels to integers and vice-versa\n",
        "label2int = {\"fake\": 0, \"true\": 1}\n",
        "int2label = {0: \"fake\", 1: \"true\"}"
      ],
      "execution_count": 40,
      "outputs": []
    },
    {
      "cell_type": "code",
      "metadata": {
        "id": "tYhGoqSMjVZm"
      },
      "source": [
        "# load the data\n",
        "X = df['text']\n",
        "y = df['label']"
      ],
      "execution_count": 41,
      "outputs": []
    },
    {
      "cell_type": "code",
      "metadata": {
        "id": "2r5GSfoejb0G"
      },
      "source": [
        "# Text tokenization\n",
        "# vectorizing text, turning each text into sequence of integers\n",
        "tokenizer = Tokenizer()"
      ],
      "execution_count": 42,
      "outputs": []
    },
    {
      "cell_type": "code",
      "metadata": {
        "colab": {
          "base_uri": "https://localhost:8080/"
        },
        "id": "I4UNqIwnjkno",
        "outputId": "89aafdca-126b-4f38-f843-e400d1b5d7dc"
      },
      "source": [
        "tokenizer"
      ],
      "execution_count": 43,
      "outputs": [
        {
          "output_type": "execute_result",
          "data": {
            "text/plain": [
              "<keras_preprocessing.text.Tokenizer at 0x7f61bbce7a10>"
            ]
          },
          "metadata": {},
          "execution_count": 43
        }
      ]
    },
    {
      "cell_type": "code",
      "metadata": {
        "id": "sBHxAIDFjb5R"
      },
      "source": [
        "tokenizer.fit_on_texts(X)\n",
        "# convert to sequence of integers\n",
        "X = tokenizer.texts_to_sequences(X)"
      ],
      "execution_count": 44,
      "outputs": []
    },
    {
      "cell_type": "code",
      "metadata": {
        "colab": {
          "base_uri": "https://localhost:8080/"
        },
        "id": "sZ4y6KPbjnNi",
        "outputId": "17f6c3d0-0224-4a28-cc6e-8a413f50b993"
      },
      "source": [
        "# Let's try to print the fifth sample:\n",
        "print(X[5])"
      ],
      "execution_count": 45,
      "outputs": [
        {
          "output_type": "stream",
          "name": "stdout",
          "text": [
            "[596, 1547, 1880, 25252, 214, 1819, 106, 13, 11, 6, 10693, 1, 375, 3, 833, 3, 1880, 34942, 5, 1166, 45, 3, 2299, 823, 2, 202, 66, 258, 98, 33, 23, 196, 236, 8, 648, 2, 22, 1603, 273, 5, 2132, 31, 1547, 418, 20, 1, 579, 3, 2355, 2612, 1603, 4, 5209, 1098, 3, 53, 757, 1465, 6, 4, 1492, 3747, 16, 4, 4753, 5, 8554, 444, 9, 538, 14, 648, 2, 22, 1603, 273, 5, 2132, 95, 26, 11, 3509, 14, 11, 1966, 219, 2612, 757, 17, 6, 125, 2698, 48, 58, 1775, 3, 11933, 3874, 6, 19, 1368, 34, 59, 41, 202, 1, 1098, 41, 40, 2729, 8, 146, 929, 362, 24, 1880, 28, 24, 1612, 2, 2118, 5, 25252, 135, 6, 42, 2698, 6, 1, 282, 41, 28, 39, 2, 202, 2677, 2612, 10331, 53, 696, 8, 1, 1880, 43, 42, 1184, 4084, 9, 106, 30, 47, 3843, 53, 757, 34, 32, 168, 33, 56, 166, 8, 62, 40, 22, 82, 769, 3, 9545, 19044, 2, 1649, 407, 1, 1330, 3, 3985, 3, 7906, 48, 1184, 2899, 2327, 3, 58, 17, 835, 4, 2761, 3843, 1670, 14, 83, 109, 22, 935, 18, 2030, 1310, 325, 1424, 230, 8, 26, 584, 237, 40, 243, 22, 1, 245, 272, 532, 22796, 150, 11, 58, 13571, 1547, 7, 10694, 744, 17, 2328, 1617, 3, 2355, 2612, 757, 66, 362, 58, 1, 4517, 766, 3, 26, 584, 237, 357, 22, 26, 11, 1114, 3509, 1, 1880, 29, 114, 26, 235, 2, 20105, 6, 1540, 10, 4, 227, 227, 96, 34, 58, 41, 9792, 4041, 30, 131, 4, 848, 4077, 106, 1, 452, 9908, 1138, 104, 2, 23, 1, 645, 2037, 2, 2470, 40105, 26, 2496, 11, 219, 33, 127, 214, 535, 362, 66, 165, 6, 1670, 37, 26, 23, 731, 54, 2355, 2612, 757, 43, 44, 84, 1453, 1078, 273, 5, 2132, 5, 994, 7805, 2, 10886, 4644, 10, 532, 7262, 239, 208, 161, 918, 29981, 15722, 559, 505]\n"
          ]
        }
      ]
    },
    {
      "cell_type": "markdown",
      "metadata": {
        "id": "zj5plPFejyv8"
      },
      "source": [
        "A bunch of numbers, each integer correspond to a word in the vocabulary and  the samples doesn't have the same length, we need a way to have a fixed length sequence.\n",
        "\n",
        "As a result, we're using keras.preprocessing.sequence.pad_sequences() function that pad sequences at the beginning of each sequence with zeros:"
      ]
    },
    {
      "cell_type": "code",
      "metadata": {
        "colab": {
          "base_uri": "https://localhost:8080/"
        },
        "id": "JtUsY1bAjnWZ",
        "outputId": "f0715b83-d0e4-419f-e5ad-4542aa03e862"
      },
      "source": [
        "# convert to numpy arrays\n",
        "X = np.array(X)\n",
        "y = np.array(y)"
      ],
      "execution_count": 46,
      "outputs": [
        {
          "output_type": "stream",
          "name": "stderr",
          "text": [
            "/usr/local/lib/python3.7/dist-packages/ipykernel_launcher.py:2: VisibleDeprecationWarning: Creating an ndarray from ragged nested sequences (which is a list-or-tuple of lists-or-tuples-or ndarrays with different lengths or shapes) is deprecated. If you meant to do this, you must specify 'dtype=object' when creating the ndarray\n",
            "  \n"
          ]
        }
      ]
    },
    {
      "cell_type": "code",
      "metadata": {
        "colab": {
          "base_uri": "https://localhost:8080/"
        },
        "id": "Auk0LyJPkKBg",
        "outputId": "8c6ba0e3-36c1-4bc0-f1ac-3826d6381437"
      },
      "source": [
        "X"
      ],
      "execution_count": 47,
      "outputs": [
        {
          "output_type": "execute_result",
          "data": {
            "text/plain": [
              "array([list([70, 12, 4805, 55, 2712, 61, 80, 7, 4442, 636, 26, 11, 2778, 70, 12, 78, 1352, 38, 2450, 56, 213, 4, 1620, 61, 80, 5, 651, 14, 27, 8, 531, 13, 43, 2, 409, 4, 7653, 55, 2, 19, 3130, 8072, 5, 1, 151, 4704, 615, 97, 117, 1, 107, 945, 238, 977, 43, 78, 51, 451, 2, 90, 5, 13, 1352, 38, 90, 14, 18, 73, 108, 4638, 9313, 2861, 5, 10550, 32, 187, 2, 2450, 56, 3, 177, 954, 330, 3130, 8072, 5, 109, 1, 151, 4704, 615, 97, 117, 4, 1620, 5, 4155, 61, 80, 36, 1552, 5937, 1018, 40, 22, 4, 355, 80, 10, 142, 18, 73, 108, 4638, 9313, 2861, 5, 10550, 32, 187, 2, 2450, 56, 3, 177, 954, 330, 3130, 8072, 5, 109, 1, 151, 4704, 615, 97, 117, 4, 1620, 5, 4155, 61, 80, 40, 22, 4, 355, 80, 10, 142, 70, 743, 12, 628, 12, 7, 761, 399, 157, 39, 18, 72576, 18, 41, 363, 1228, 58, 769, 3, 36, 4805, 4, 61, 80, 7, 15359, 88, 26, 6834, 5966, 29979, 26077, 104, 12, 19, 1330, 3, 7399, 305, 38, 109, 634, 76, 2, 1363, 1476, 1, 13570, 227, 477, 2, 2450, 1, 120, 575, 4, 1620, 61, 80, 6694, 55599, 20504, 628, 66, 51, 2898, 41, 20505, 628, 199, 3138, 37, 134, 4, 355, 80, 10, 142, 34, 32, 474, 64, 1395, 19367, 350, 3, 192, 12975, 55600, 628, 90, 41, 1164, 3042, 600, 59, 41, 23, 2, 801, 8, 119, 45, 8, 704, 41, 41, 23, 2, 2117, 219, 90, 1, 30, 56, 704, 230, 5653, 16109, 628, 29, 2589, 1, 1226, 8072, 6, 4, 61, 118, 2450, 31354, 628, 41, 74, 38, 78, 127, 1620, 61, 80, 72577, 72578, 628, 150, 7, 12, 7, 61, 80, 7, 4442, 761, 25, 1620, 61, 80, 2, 56, 173, 2, 177, 119, 3130, 5, 135, 29, 23, 2189, 230, 5, 688, 71, 3405, 30, 78, 155, 38, 166, 58, 2, 90, 859, 70, 743, 12, 628, 26, 11, 421, 61, 10, 12, 13, 7, 44, 423, 26, 10, 118, 12, 21, 2453, 2203, 2, 19, 3130, 5, 8072, 10, 61, 80, 7, 7698, 6936, 5, 1, 4206, 3, 331, 144, 277, 72579, 72580, 3513, 12876, 628, 12, 7, 3086, 1380, 28, 835, 24, 149, 102, 227, 114, 13, 205, 27, 13207, 115, 1393, 36, 3186, 72581, 628, 13, 7, 765, 44, 88, 26, 1, 104, 2244, 11, 8, 6, 1, 100, 443, 118, 19, 15541, 21, 44, 1636, 157, 2571, 55601, 628, 29, 2552, 25, 4, 6668, 2589, 1, 550, 8072, 10773, 628, 13, 7, 4, 6559, 80, 252, 29, 1160, 628, 71, 2, 56, 1, 45, 29, 804, 10, 26, 4, 4493, 1715, 13, 37, 283, 455, 13, 349, 85, 259, 41, 47, 802, 80, 252, 465, 155, 38, 283, 5, 98, 13, 7, 4, 80, 3840, 1098, 20, 1935, 10551, 559, 505]),\n",
              "       list([6597, 5642, 12, 3495, 924, 189, 1672, 267, 69, 271, 224, 597, 5807, 2905, 11, 140, 2, 23, 4, 647, 184, 13, 7, 44, 147, 1, 9042, 88, 119, 3, 112, 8, 1, 3496, 4247, 2507, 17, 58, 2351, 1, 132, 267, 71, 13, 7, 44, 9689, 55, 27, 1, 180, 3, 278, 5, 1, 249, 6, 251, 2, 739, 12, 18, 14, 1803, 1, 2507, 11, 24, 58, 924, 1, 267, 145, 2, 794, 2220, 20, 1, 61, 246, 268, 107, 12, 91, 828, 707, 6148, 17, 6597, 6, 4, 9356, 2431, 59, 13, 1347, 2139, 3, 189, 434, 1097, 9, 105, 67, 9, 263, 3, 8, 6148, 838, 38, 78, 4, 14675, 1819, 10, 12, 18, 19, 148, 21, 855, 13, 43, 4, 195, 2435, 549, 34, 1564, 71, 5865, 18, 110, 4, 11843, 6011, 6, 4, 9356, 2431, 5120, 3271, 155, 38, 232, 2, 9905, 4, 61, 246, 262, 167, 12, 5, 36, 6967, 8214, 2864, 4556, 3, 2038, 94, 323, 115, 1, 93, 14, 17, 410, 115, 8, 1, 107, 1527, 406, 60, 1538, 16, 170, 297, 10, 12, 34, 460, 12, 1555, 16, 76, 110, 3846, 4, 5120, 1819, 6, 124, 6148, 1347, 2, 3024, 2322, 3710, 48870, 8, 189, 169, 47, 5780, 247, 457, 6230, 9, 152, 159, 149, 432, 105, 67, 1111, 102, 195, 513, 6148, 15, 8, 435, 27, 1, 17660, 9356, 4883, 16, 1, 3024, 3710, 48870, 11, 1966, 1, 255, 75, 34, 94, 323, 372, 59, 2377, 159, 638, 654, 3817, 1131, 3024, 169, 861, 1, 289, 39, 513, 6148, 2, 42, 120, 5056, 145, 2, 348, 568, 5, 107, 120, 5, 179, 169, 16, 1219, 2139, 3, 1, 11353, 549, 6148, 3705, 1504, 2, 1465, 2, 1, 1020, 1400, 32, 5, 11, 98, 4, 6098, 2459, 16, 507, 1262, 1013, 1260, 7, 460, 26, 602, 38, 4, 732, 14, 7, 4, 3405, 9393, 945, 837, 238, 1098, 20, 370, 5518, 559, 505]),\n",
              "       list([1851, 918, 5938, 2563, 31, 1070, 2486, 10, 1924, 2, 14676, 45, 6, 1, 2318, 9, 211, 14, 17, 1347, 8, 107, 5397, 1851, 918, 5938, 29, 17, 110, 1162, 10, 1428, 121, 221, 6, 70, 12, 7, 148, 21, 31, 540, 1182, 3, 19, 223, 6, 428, 62, 17, 4, 2401, 397, 6, 9, 4, 2218, 167, 5938, 5, 1126, 4602, 2971, 214, 29, 13, 372, 43, 1741, 20, 1, 125, 10, 66, 670, 5369, 2522, 8, 1203, 19, 3804, 47, 1507, 5938, 25251, 1, 125, 2, 384, 214, 49, 13, 72582, 5, 98, 4, 1820, 3035, 21, 44, 5249, 20, 1, 249, 2, 202, 1, 3868, 5938, 11, 566, 14, 615, 97, 109, 382, 6650, 3, 1, 1820, 3035, 28, 9, 1, 1070, 32, 590, 55602, 20, 16110, 117, 1901, 2, 5144, 5, 4738, 230, 16, 42, 615, 97, 448, 1710, 2, 2856, 230, 1, 107, 1851, 1018, 32, 40, 470, 2, 14676, 92, 6, 1, 2318, 16, 4, 3295, 3358, 5, 6467, 5791, 146, 11844, 6968, 19042, 30, 131, 14, 32, 23, 44, 1274, 20, 468, 45, 79, 92, 5048, 32, 590, 55602, 20, 16110, 117, 1901, 2, 5144, 5, 4738, 230, 16, 42, 615, 97, 448, 1710, 2, 2856, 230, 32, 40, 470, 2, 14676, 92, 6, 1, 2318, 16, 4, 3295, 3358, 5, 6467, 5791, 146, 11844, 6968, 19042, 30, 131, 14, 32, 23, 44, 1274, 20, 468, 45, 79, 92, 5048, 331, 144, 277, 72583, 72584, 1400, 918, 4, 5938, 1326, 628, 13, 327, 38, 384, 62, 1636, 97, 59, 1465, 16110, 117, 667, 60, 615, 97, 2, 5144, 230, 1, 22794, 11, 200, 133, 27, 92, 6560, 92, 6, 1, 7623, 134, 92, 7063, 42, 223, 2105, 421, 967, 4, 3783, 88, 1465, 16110, 117, 7, 1150, 468, 79, 2, 409, 92, 4, 7063, 3, 42, 223, 2105, 72585, 331, 144, 277, 38, 3598, 72586, 918, 4, 5938, 1326, 628, 1, 1070, 163, 76, 55, 26, 11, 199, 449, 1269, 5, 8, 1820, 3035, 602, 38, 615, 5, 78, 95, 1, 2451, 24, 2, 2482, 734, 27, 1, 96, 336, 38, 882, 30, 305, 38, 812, 54, 41, 470, 2, 1357, 323, 49, 293, 24, 2, 1145, 5938, 540, 1820, 3035, 1170, 72587, 628, 32, 78, 696, 1, 1246, 3, 1, 3081, 45, 1489, 38, 8267, 7676, 48871, 628, 72588, 10148, 20506, 48, 1127, 22795, 331, 144, 277, 72589, 3072, 314, 628, 331, 144, 277, 72590, 20507, 72591, 628, 41, 163, 199, 125, 954, 2, 659, 60, 10, 41, 59, 562, 126, 2673, 3, 199, 4027, 1273, 2219, 628, 11, 14, 230, 16, 26, 23339, 72592, 3, 199, 4027, 52, 32, 1436, 2, 243, 16542, 3, 32, 168, 14, 7, 1, 37106, 2463, 6, 199, 51, 6167, 2318, 331, 144, 277, 72593, 1977, 72594, 1273, 72595, 628, 28, 41, 6541, 16, 199, 6793, 102, 119, 45, 1119, 6, 199, 1540, 32, 168, 41, 116, 4, 443, 6793, 824, 29980, 20905, 72596, 628, 48872, 1070, 1397, 928, 16, 615, 24559, 331, 144, 277, 72597, 72598, 628, 41, 116, 71, 19043, 9164, 2550, 19734, 628, 11, 19, 1341, 68, 27, 72599, 6346, 628, 28, 41, 379, 2, 5304, 199, 194, 3333, 11504, 72600, 628, 134, 563, 2, 48873, 5630, 4228, 3, 767, 14, 7, 12383, 8, 3202, 74, 22, 791, 767, 20, 1076, 169, 1013, 72601, 628, 48874, 2312, 1, 80, 252, 214, 237, 29, 1119, 3, 20906, 6, 5938, 7, 5397, 807, 1540, 3954, 26, 646, 17, 4, 1565, 3, 7261, 33, 78, 713, 33, 111, 383, 8, 55, 14, 74, 38, 22, 2309, 477, 1098, 20, 4170, 7624, 559, 505]),\n",
              "       ...,\n",
              "       list([11119, 2795, 5277, 2563, 1954, 25, 640, 6, 1, 5053, 3, 31092, 3305, 1752, 6858, 6, 11119, 4, 610, 7082, 16, 36341, 3929, 3451, 38037, 5, 16072, 14128, 21, 401, 4, 1954, 25, 1, 9244, 2511, 3, 1, 26840, 640, 26, 315, 11, 88, 31, 1068, 15, 70376, 29, 1610, 27, 952, 2431, 29249, 14, 7, 1, 610, 3, 783, 1, 72, 3, 36, 3710, 39659, 29, 21, 1415, 9632, 10, 1, 411, 118, 5, 21, 7739, 8, 13, 11, 1, 100, 5, 104, 3310, 6, 723, 21, 398, 4983, 10, 101, 434, 4, 1046, 125, 452, 5, 4554, 57, 121, 402, 575, 6, 1628, 34, 125, 7850, 28, 2666, 6, 43409, 4351, 570, 2, 65, 3505, 9, 31, 55, 3, 1, 165, 2767, 6, 4, 10699, 3, 1, 2697, 103521, 59, 1, 103, 3395, 1744, 62, 6, 443, 4421, 359, 34, 98, 14, 3861, 337, 1, 122, 27302, 8393, 3, 11119, 182, 11, 1, 1178, 4079, 3, 8, 43409, 8, 1839, 182, 18, 103522, 4, 8108, 3, 57, 1709, 189, 9590, 32765, 23, 392, 514, 10, 1, 772, 389, 26, 80, 1, 748, 5771, 204, 3, 4, 4194, 62, 5, 4291, 2, 878, 14, 85, 4, 12398, 3395, 5, 5313, 2658, 1, 2820, 1822, 21, 24, 2576, 4407, 43409, 51, 3529, 360, 4194, 1140, 49, 1, 626, 3125, 194, 5515, 62, 497, 6585, 2351, 57, 1709, 103523, 2, 8948, 48, 2058, 82, 3, 65, 2863, 2, 43409, 7, 10872, 34, 1, 963, 194, 6264, 82, 1841, 16, 4, 3767, 5856, 14735, 29, 21, 845, 27, 1, 4194, 10, 118, 15, 13, 6846, 3, 1, 5310, 3, 61, 28913, 1090, 1, 610, 21, 265, 139, 2, 420, 13, 15, 43409, 7, 227, 550, 539, 1943, 6155, 9, 1, 640, 256, 1200, 2795, 2617, 103524, 103525, 15, 10, 98, 30, 5233, 14, 34, 32, 74, 38, 127, 8, 562, 305, 38, 878, 60, 3698, 5, 127, 30, 294, 744, 2, 4014, 14, 56, 157, 13, 15]),\n",
              "       list([4367, 14295, 9, 1768, 3, 1922, 2915, 2942, 132, 4367, 221, 3, 57, 12606, 33298, 31221, 15, 9, 190, 8, 62, 17, 1675, 3931, 528, 1, 730, 3, 1922, 2915, 2942, 132, 34, 1256, 62, 17, 46, 205, 2, 22, 491, 54, 14, 47, 2, 1037, 31221, 620, 27, 4, 1287, 97, 530, 6, 830, 2707, 189, 179, 207, 4120, 3403, 114, 24, 409, 101, 1800, 10, 182, 4, 457, 569, 1, 1342, 5, 790, 6724, 3, 5187, 2780, 2552, 6, 1, 1922, 241, 3, 1, 170, 7, 354, 6760, 11, 959, 2, 2147, 611, 5, 100, 80, 6, 1232, 415, 58, 17, 1, 103, 405, 262, 167, 4, 6666, 2566, 1922, 5, 4, 189, 7496, 15614, 31221, 15, 13, 43, 64, 275, 19, 427, 6, 1, 189, 627, 2, 64, 1283, 1148, 6585, 1596, 20, 1, 2566, 1144, 6, 132, 13, 15, 8, 830, 5, 1, 4367, 5986, 39, 1, 7254, 3, 2164, 6, 1148, 1321, 3, 1, 170, 13, 114, 24, 5155, 31221, 29, 11, 570, 372, 9, 190, 2, 682, 15614, 31189, 1, 425, 3, 1, 189, 7496, 1144, 15, 13, 64, 1214, 132, 83, 1093, 31, 506, 549, 59, 14, 359, 2, 1431, 3962, 4, 524, 6, 1849, 95, 3, 65, 498, 689, 16, 9162]),\n",
              "       list([3294, 2, 1389, 354, 1376, 3, 189, 3711, 3294, 40, 1389, 25151, 3721, 3711, 1376, 354, 25, 132, 6, 1284, 10, 1704, 5, 5742, 11112, 94, 1193, 2168, 15, 9, 190, 1, 3028, 2259, 108, 21, 2152, 2, 3596, 60, 2, 185, 1376, 3, 11112, 6, 1611, 2, 1704, 2, 456, 10, 1, 103526, 14248, 3721, 3711, 52, 28, 469, 2, 22, 2232, 6, 6813, 1719, 6, 94, 118, 5742, 286, 207, 103527, 103528, 15, 6, 4, 1287, 183, 16, 3140, 207, 71462, 71463, 8, 929, 3, 1, 2265, 5, 7954, 3, 11112, 47, 194, 110, 3955, 943, 13, 43, 15, 1, 2794, 83, 801, 4549, 672, 3190, 5, 5120, 1, 220, 11, 469, 2, 22, 15154, 850, 167, 5742, 57, 2570, 454, 12422, 103529, 103530, 3294, 5, 189, 57, 11983, 42703, 132, 11, 1004, 1456, 4, 61, 2113, 3, 35, 7, 2112, 286, 441, 2076, 3028, 1410, 7, 895, 588, 11, 379, 2, 2044, 65, 4549, 672, 2073, 1454, 1104, 3, 4, 674, 6, 8180, 20, 437, 461, 281, 3294, 11, 64, 379, 2, 8788, 65, 19022, 503, 452, 49, 4, 4069, 3, 176, 5709, 9421, 3294, 52, 43, 4, 185, 286, 8053, 16, 132, 6, 466, 2, 2272, 3059, 1435, 6, 4628, 984, 756, 1515, 5, 5709, 337, 476])],\n",
              "      dtype=object)"
            ]
          },
          "metadata": {},
          "execution_count": 47
        }
      ]
    },
    {
      "cell_type": "code",
      "metadata": {
        "id": "UH3DWFx0jnbB"
      },
      "source": [
        "# pad sequences at the beginning of each sequence with 0's\n",
        "# for example if SEQUENCE_LENGTH=4:\n",
        "# [[5, 3, 2], [5, 1, 2, 3], [3, 4]]\n",
        "# will be transformed to:\n",
        "# [[0, 5, 3, 2], [5, 1, 2, 3], [0, 0, 3, 4]]\n",
        "X = pad_sequences(X, maxlen=SEQUENCE_LENGTH)"
      ],
      "execution_count": 48,
      "outputs": []
    },
    {
      "cell_type": "code",
      "metadata": {
        "colab": {
          "base_uri": "https://localhost:8080/"
        },
        "id": "WuG1CBCE8N5m",
        "outputId": "d56a0107-fc4d-4bac-a805-5389d01e9b8a"
      },
      "source": [
        "X"
      ],
      "execution_count": 49,
      "outputs": [
        {
          "output_type": "execute_result",
          "data": {
            "text/plain": [
              "array([[   102,    227,    114, ...,  10551,    559,    505],\n",
              "       [    15,      8,    435, ...,   5518,    559,    505],\n",
              "       [   144,    277,  72597, ...,   7624,    559,    505],\n",
              "       ...,\n",
              "       [    57,   1709, 103523, ...,    157,     13,     15],\n",
              "       [  6666,   2566,   1922, ...,    689,     16,   9162],\n",
              "       [   220,     11,    469, ...,   5709,    337,    476]], dtype=int32)"
            ]
          },
          "metadata": {},
          "execution_count": 49
        }
      ]
    },
    {
      "cell_type": "markdown",
      "metadata": {
        "id": "nXEjw7DckRCZ"
      },
      "source": [
        "we set SEQUENCE_LENGTH = 100. In this way, all sequences have a length of 100.\n",
        "\n",
        "Now our labels are text also, but we are going to make a different approach here, since the labels are only \"true\" and \"fake\", we need to one-hot encode them:"
      ]
    },
    {
      "cell_type": "code",
      "metadata": {
        "id": "LHaUEpCbkLeB"
      },
      "source": [
        "# One Hot encoding labels\n",
        "# [1, 0, 1, 0, 1] convert to:\n",
        "# [[0, 1], [1, 0], [0, 1], [1, 0], [0, 1]]\n",
        "y = to_categorical(y)"
      ],
      "execution_count": 50,
      "outputs": []
    },
    {
      "cell_type": "code",
      "metadata": {
        "colab": {
          "base_uri": "https://localhost:8080/"
        },
        "id": "ceG_yjlAkLjs",
        "outputId": "79010158-7761-4b5e-a866-289c0c3b7b49"
      },
      "source": [
        "# We used keras.utils.to_categorial() here. Let's try to print the first sample of the labels:\n",
        "print(y[0])"
      ],
      "execution_count": 51,
      "outputs": [
        {
          "output_type": "stream",
          "name": "stdout",
          "text": [
            "[1. 0.]\n"
          ]
        }
      ]
    },
    {
      "cell_type": "markdown",
      "metadata": {
        "id": "rP1NDNsCFVia"
      },
      "source": [
        "### TRAIN TEST SPLIT"
      ]
    },
    {
      "cell_type": "code",
      "metadata": {
        "id": "OinoYagbkMrO"
      },
      "source": [
        "# Next, let's shuffle and split training and testing data:\n",
        "# split and shuffle\n",
        "from sklearn.model_selection import train_test_split\n",
        "X_train, X_test, y_train, y_test = train_test_split(X, y, test_size=TEST_SIZE, random_state=7)"
      ],
      "execution_count": 52,
      "outputs": []
    },
    {
      "cell_type": "markdown",
      "metadata": {
        "id": "hjVumJNKFRT-"
      },
      "source": [
        "### MODEL BUILDING"
      ]
    },
    {
      "cell_type": "markdown",
      "metadata": {
        "id": "aS5vz-C1lPCi"
      },
      "source": [
        "The first layer is a pre-trained embedding layer that maps each word to a N-dimensional vector of real numbers ( the EMBEDDING_SIZE corresponds to the size of this vector, in this case 100). Two words that have similar meaning tend to have very close vectors.\n",
        "\n",
        "The second layer is a recurrent neural network with LSTM units. \n",
        "\n",
        "Finally, the output layer is 2 neurons each corresponds to \"true\" or \"fake\" with a softmax activation function."
      ]
    },
    {
      "cell_type": "code",
      "metadata": {
        "id": "nxAkIbvRkMuo"
      },
      "source": [
        "# Let's start by writing a function to load the pre-trained embedding vectors:\n",
        "def get_embedding_vectors(tokenizer, dim=100):\n",
        "    embedding_index = {}\n",
        "    with open(f\"/content/glove.6B.{dim}d.txt\", encoding='utf8') as f:\n",
        "        for line in tqdm.tqdm(f, \"Reading GloVe\"):\n",
        "            values = line.split()\n",
        "            word = values[0]\n",
        "            vectors = np.asarray(values[1:], dtype='float32')\n",
        "            embedding_index[word] = vectors\n",
        "\n",
        "    word_index = tokenizer.word_index\n",
        "    embedding_matrix = np.zeros((len(word_index)+1, dim))\n",
        "    for word, i in word_index.items():\n",
        "        embedding_vector = embedding_index.get(word)\n",
        "        if embedding_vector is not None:\n",
        "            # words not found will be 0s\n",
        "            embedding_matrix[i] = embedding_vector\n",
        "            \n",
        "    return embedding_matrix"
      ],
      "execution_count": 53,
      "outputs": []
    },
    {
      "cell_type": "code",
      "metadata": {
        "id": "7_lda-O2ll8V"
      },
      "source": [
        "def get_model(tokenizer, lstm_units):\n",
        "    \"\"\"\n",
        "    Constructs the model,\n",
        "    Embedding vectors => LSTM => 2 output Fully-Connected neurons with softmax activation\n",
        "    \"\"\"\n",
        "    # get the GloVe embedding vectors\n",
        "    embedding_matrix = get_embedding_vectors(tokenizer)\n",
        "    model = Sequential()\n",
        "    model.add(Embedding(len(tokenizer.word_index)+1,\n",
        "              EMBEDDING_SIZE,\n",
        "              weights=[embedding_matrix],\n",
        "              trainable=False,\n",
        "              input_length=SEQUENCE_LENGTH))\n",
        "\n",
        "    model.add(LSTM(lstm_units, recurrent_dropout=0.2))\n",
        "    model.add(Dropout(0.3))\n",
        "    model.add(Dense(2, activation=\"softmax\"))\n",
        "    # compile as rmsprop optimizer\n",
        "    # aswell as with recall metric\n",
        "    model.compile(optimizer=\"rmsprop\", loss=\"categorical_crossentropy\",\n",
        "                  metrics=[\"accuracy\", keras_metrics.precision(), keras_metrics.recall()])\n",
        "    model.summary()\n",
        "    return model"
      ],
      "execution_count": 54,
      "outputs": []
    },
    {
      "cell_type": "code",
      "metadata": {
        "colab": {
          "base_uri": "https://localhost:8080/"
        },
        "id": "kj0GXtmZlmBB",
        "outputId": "be6fc6d1-567f-4c83-aa46-e3891f16a754"
      },
      "source": [
        "# constructs the model with 128 LSTM units\n",
        "model = get_model(tokenizer=tokenizer, lstm_units=128)"
      ],
      "execution_count": 55,
      "outputs": [
        {
          "output_type": "stream",
          "name": "stderr",
          "text": [
            "Reading GloVe: 400000it [00:12, 31928.78it/s]\n"
          ]
        },
        {
          "output_type": "stream",
          "name": "stdout",
          "text": [
            "WARNING:tensorflow:Layer lstm will not use cuDNN kernels since it doesn't meet the criteria. It will use a generic GPU kernel as fallback when running on GPU.\n",
            "Model: \"sequential\"\n",
            "_________________________________________________________________\n",
            "Layer (type)                 Output Shape              Param #   \n",
            "=================================================================\n",
            "embedding (Embedding)        (None, 100, 100)          10353100  \n",
            "_________________________________________________________________\n",
            "lstm (LSTM)                  (None, 128)               117248    \n",
            "_________________________________________________________________\n",
            "dropout (Dropout)            (None, 128)               0         \n",
            "_________________________________________________________________\n",
            "dense (Dense)                (None, 2)                 258       \n",
            "=================================================================\n",
            "Total params: 10,470,606\n",
            "Trainable params: 117,506\n",
            "Non-trainable params: 10,353,100\n",
            "_________________________________________________________________\n"
          ]
        }
      ]
    },
    {
      "cell_type": "code",
      "metadata": {
        "colab": {
          "base_uri": "https://localhost:8080/"
        },
        "id": "KWzIjFvaEzpd",
        "outputId": "e69ae0d8-6796-45c4-8875-20ea5e89ef0b"
      },
      "source": [
        "# print our data shapes\n",
        "print(\"X_train.shape:\", X_train.shape)\n",
        "print(\"X_test.shape:\", X_test.shape)\n",
        "print(\"y_train.shape:\", y_train.shape)\n",
        "print(\"y_test.shape:\", y_test.shape)"
      ],
      "execution_count": 62,
      "outputs": [
        {
          "output_type": "stream",
          "name": "stdout",
          "text": [
            "X_train.shape: (33516, 100)\n",
            "X_test.shape: (11173, 100)\n",
            "y_train.shape: (33516, 2)\n",
            "y_test.shape: (11173, 2)\n"
          ]
        }
      ]
    },
    {
      "cell_type": "code",
      "metadata": {
        "id": "wIRdYYsylmFX",
        "colab": {
          "base_uri": "https://localhost:8080/"
        },
        "outputId": "bd45ce37-6d66-44c2-9ae6-796c9e72ddd8"
      },
      "source": [
        "# initialize our ModelCheckpoint and TensorBoard callbacks\n",
        "# model checkpoint for saving best weights\n",
        "#model_checkpoint = ModelCheckpoint(\"results/fakenews classifier_{val_loss:.2f}\", save_best_only=True, verbose=1)\n",
        "# for better visualization\n",
        "#tensorboard = TensorBoard(f\"logs/fakenews classifier_{time.time()}\")\n",
        "\n",
        "# train the model\n",
        "model.fit(X_train, y_train, validation_data=(X_test, y_test),\n",
        "          batch_size=BATCH_SIZE, epochs=5,\n",
        "          verbose=1)"
      ],
      "execution_count": 63,
      "outputs": [
        {
          "output_type": "stream",
          "name": "stdout",
          "text": [
            "Epoch 1/5\n",
            "524/524 [==============================] - 229s 438ms/step - loss: 0.1036 - accuracy: 0.9621 - precision: 0.9461 - recall: 0.9397 - val_loss: 0.0917 - val_accuracy: 0.9689 - val_precision: 0.9521 - val_recall: 0.9434\n",
            "Epoch 2/5\n",
            "524/524 [==============================] - 228s 434ms/step - loss: 0.0824 - accuracy: 0.9703 - precision: 0.9566 - recall: 0.9466 - val_loss: 0.0807 - val_accuracy: 0.9722 - val_precision: 0.9602 - val_recall: 0.9493\n",
            "Epoch 3/5\n",
            "524/524 [==============================] - 225s 429ms/step - loss: 0.0692 - accuracy: 0.9751 - precision: 0.9630 - recall: 0.9517 - val_loss: 0.0762 - val_accuracy: 0.9746 - val_precision: 0.9652 - val_recall: 0.9538\n",
            "Epoch 4/5\n",
            "524/524 [==============================] - 229s 437ms/step - loss: 0.0581 - accuracy: 0.9797 - precision: 0.9671 - recall: 0.9558 - val_loss: 0.0750 - val_accuracy: 0.9768 - val_precision: 0.9686 - val_recall: 0.9577\n",
            "Epoch 5/5\n",
            "524/524 [==============================] - 225s 429ms/step - loss: 0.0485 - accuracy: 0.9830 - precision: 0.9700 - recall: 0.9596 - val_loss: 0.0703 - val_accuracy: 0.9763 - val_precision: 0.9711 - val_recall: 0.9612\n"
          ]
        },
        {
          "output_type": "execute_result",
          "data": {
            "text/plain": [
              "<keras.callbacks.History at 0x7f61b9a6b5d0>"
            ]
          },
          "metadata": {},
          "execution_count": 63
        }
      ]
    },
    {
      "cell_type": "markdown",
      "metadata": {
        "id": "4vLsVx9ECkCZ"
      },
      "source": [
        "### MODEL ACCURACY"
      ]
    },
    {
      "cell_type": "code",
      "metadata": {
        "id": "EkeICPENlSFq",
        "colab": {
          "base_uri": "https://localhost:8080/"
        },
        "outputId": "d8d3d411-5bba-435b-e709-57656b2c4b62"
      },
      "source": [
        "# get the loss and metrics\n",
        "result = model.evaluate(X_test, y_test)\n",
        "# extract those\n",
        "loss = result[0]\n",
        "accuracy = result[1]\n",
        "precision = result[2]\n",
        "recall = result[3]\n",
        "\n",
        "print(f\"Accuracy: {accuracy*100:.2f}%\")\n",
        "print(f\"Precision:   {precision*100:.2f}%\")\n",
        "print(f\"Recall:   {recall*100:.2f}%\")"
      ],
      "execution_count": 64,
      "outputs": [
        {
          "output_type": "stream",
          "name": "stdout",
          "text": [
            "350/350 [==============================] - 14s 41ms/step - loss: 0.0703 - accuracy: 0.9763 - precision: 0.9711 - recall: 0.9620\n",
            "Accuracy: 97.63%\n",
            "Precision:   97.11%\n",
            "Recall:   96.20%\n"
          ]
        }
      ]
    },
    {
      "cell_type": "markdown",
      "metadata": {
        "id": "x-ngIIZJCfiu"
      },
      "source": [
        "### MODEL EVALUATION"
      ]
    },
    {
      "cell_type": "code",
      "metadata": {
        "id": "mwoXlIeSlSL4"
      },
      "source": [
        "def get_predictions(text):\n",
        "    sequence = tokenizer.texts_to_sequences([text])\n",
        "    # pad the sequence\n",
        "    sequence = pad_sequences(sequence, maxlen=SEQUENCE_LENGTH)\n",
        "    # get the prediction\n",
        "    prediction = model.predict(sequence)[0]\n",
        "    # one-hot encoded vector, revert using np.argmax\n",
        "    return int2label[np.argmax(prediction)]"
      ],
      "execution_count": 58,
      "outputs": []
    },
    {
      "cell_type": "code",
      "metadata": {
        "id": "sLw_X3sqmOq4",
        "colab": {
          "base_uri": "https://localhost:8080/"
        },
        "outputId": "3b54e9ae-ec62-439d-b821-862be4e70e8a"
      },
      "source": [
        "text = \"Fifty prominent Republican national security officials, including a former CIA director, on Monday called party nominee Donald Trump unqualified to lead the country and said he would be â€œthe most reckless president in American history.â€ The statement was the latest repudiation of Trumpâ€™s candidacy by veteran Republican national security specialists, and was remarkable for the harshness of its language. â€œMr. Trump lacks the character, values, and experience to be president. He weakens U.S. moral authority as the leader of the free world. He appears to lack basic knowledge about and belief in the U.S. Constitution, U.S. laws and U.S. institutions, including religious tolerance, freedom of the press, and an independent judiciary,â€ the statement said. â€œNone of us will vote for Donald Trump,â€ said the statement\"\n",
        "print(get_predictions(text))"
      ],
      "execution_count": 59,
      "outputs": [
        {
          "output_type": "stream",
          "name": "stdout",
          "text": [
            "true\n"
          ]
        }
      ]
    }
  ]
}